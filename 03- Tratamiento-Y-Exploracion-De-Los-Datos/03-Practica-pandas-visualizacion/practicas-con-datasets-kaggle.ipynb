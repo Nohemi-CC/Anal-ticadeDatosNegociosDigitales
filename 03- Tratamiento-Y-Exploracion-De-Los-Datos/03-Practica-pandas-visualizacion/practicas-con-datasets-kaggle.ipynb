{
 "cells": [
  {
   "cell_type": "markdown",
   "id": "72d21b06",
   "metadata": {},
   "source": [
    "# 🧪 Prácticas por Dataset de Kaggle"
   ]
  },
  {
   "cell_type": "markdown",
   "id": "a6eb189a",
   "metadata": {},
   "source": [
    "## 🛍️ Retail Sales Dataset"
   ]
  },
  {
   "cell_type": "markdown",
   "id": "02061b7c",
   "metadata": {},
   "source": [
    "🔗 Dataset disponible en: [https://www.kaggle.com/datasets/mohammadtalib786/retail-sales-dataset?utm_source=chatgpt.com](https://www.kaggle.com/datasets/mohammadtalib786/retail-sales-dataset?utm_source=chatgpt.com)"
   ]
  },
  {
   "cell_type": "code",
   "execution_count": 68,
   "id": "3e6ef40d",
   "metadata": {},
   "outputs": [],
   "source": [
    "import pandas as pd"
   ]
  },
  {
   "cell_type": "code",
   "execution_count": 69,
   "id": "ac902b57",
   "metadata": {},
   "outputs": [],
   "source": [
    "sales = pd.read_csv(\"DataSets/retail_sales_dataset.csv\")"
   ]
  },
  {
   "cell_type": "markdown",
   "id": "96599d3f",
   "metadata": {},
   "source": [
    "**Pregunta:** ¿Cuántas filas y columnas tiene el dataset?"
   ]
  },
  {
   "cell_type": "code",
   "execution_count": 70,
   "id": "37531725",
   "metadata": {},
   "outputs": [
    {
     "data": {
      "text/plain": [
       "(1000, 10)"
      ]
     },
     "execution_count": 70,
     "metadata": {},
     "output_type": "execute_result"
    }
   ],
   "source": [
    "# Tu código aquí\n",
    "#1000 filas y 9 columnos\n",
    "\n",
    "sales.shape"
   ]
  },
  {
   "cell_type": "markdown",
   "id": "e07757d0",
   "metadata": {},
   "source": [
    "**Pregunta:** ¿Cuáles son los tipos de datos de cada columna?"
   ]
  },
  {
   "cell_type": "code",
   "execution_count": 71,
   "id": "bffb05e9",
   "metadata": {},
   "outputs": [
    {
     "data": {
      "text/plain": [
       "Transaction ID       int64\n",
       "Date                object\n",
       "Customer ID         object\n",
       "Gender              object\n",
       "Age                  int64\n",
       "Product Category    object\n",
       "Quantity             int64\n",
       "Price per Unit       int64\n",
       "Total Amount         int64\n",
       "Tienda              object\n",
       "dtype: object"
      ]
     },
     "execution_count": 71,
     "metadata": {},
     "output_type": "execute_result"
    }
   ],
   "source": [
    "# Tu código aquí\n",
    "\n",
    "sales.dtypes"
   ]
  },
  {
   "cell_type": "markdown",
   "id": "6630efce",
   "metadata": {},
   "source": [
    "**Pregunta:** ¿Qué productos tienen mayores ventas en cantidad?"
   ]
  },
  {
   "cell_type": "code",
   "execution_count": 72,
   "id": "b131e104",
   "metadata": {},
   "outputs": [
    {
     "data": {
      "text/plain": [
       "Index(['Transaction ID', 'Date', 'Customer ID', 'Gender', 'Age',\n",
       "       'Product Category', 'Quantity', 'Price per Unit', 'Total Amount',\n",
       "       'Tienda'],\n",
       "      dtype='object')"
      ]
     },
     "execution_count": 72,
     "metadata": {},
     "output_type": "execute_result"
    }
   ],
   "source": [
    "# Tu código aquí\n",
    "\n",
    "sales.columns"
   ]
  },
  {
   "cell_type": "code",
   "execution_count": 73,
   "id": "27a6f6f4",
   "metadata": {},
   "outputs": [
    {
     "name": "stdout",
     "output_type": "stream",
     "text": [
      "Product Category\n",
      "Clothing       894\n",
      "Electronics    849\n",
      "Beauty         771\n",
      "Name: Quantity, dtype: int64\n"
     ]
    }
   ],
   "source": [
    "ventaproducto = sales.groupby(\"Product Category\")[\"Quantity\"].sum().sort_values(ascending=False)\n",
    "print(ventaproducto)\n"
   ]
  },
  {
   "cell_type": "markdown",
   "id": "43679905",
   "metadata": {},
   "source": [
    "**Pregunta:** ¿Qué tiendas venden más productos?"
   ]
  },
  {
   "cell_type": "code",
   "execution_count": 74,
   "id": "84090e4f",
   "metadata": {},
   "outputs": [
    {
     "name": "stdout",
     "output_type": "stream",
     "text": [
      "Tienda\n",
      "SuperAhorro         171\n",
      "MegaMart Centro     155\n",
      "Nube Azul           150\n",
      "Express Plaza       147\n",
      "Hogar & Deco        146\n",
      "Almacenes Rivera    142\n",
      "MaxiCompras         133\n",
      "Outlet Sur          128\n",
      "La Gran Bodega      127\n",
      "ElectroHogar        126\n",
      "FashionPoint        123\n",
      "MiniMarket Norte    122\n",
      "Delicias Gourmet    121\n",
      "TecnoPlus           118\n",
      "Mercado Urbano      109\n",
      "CityShop            104\n",
      "Estrella Market     104\n",
      "EcoMarket           104\n",
      "La Esquinita        101\n",
      "Comercial Sol        83\n",
      "Name: Quantity, dtype: int64\n"
     ]
    }
   ],
   "source": [
    "# Tu código aquí\n",
    "\n",
    "ventas_por_tienda = sales.groupby(\"Tienda\")[\"Quantity\"].sum().sort_values(ascending=False)\n",
    "print(ventas_por_tienda)"
   ]
  },
  {
   "cell_type": "markdown",
   "id": "24c5fba1",
   "metadata": {},
   "source": [
    "**Pregunta:** ¿Existen datos faltantes o duplicados?"
   ]
  },
  {
   "cell_type": "code",
   "execution_count": 75,
   "id": "1e6f51e5",
   "metadata": {},
   "outputs": [
    {
     "data": {
      "text/plain": [
       "(Transaction ID      0\n",
       " Date                0\n",
       " Customer ID         0\n",
       " Gender              0\n",
       " Age                 0\n",
       " Product Category    0\n",
       " Quantity            0\n",
       " Price per Unit      0\n",
       " Total Amount        0\n",
       " Tienda              0\n",
       " dtype: int64,\n",
       " np.int64(0))"
      ]
     },
     "execution_count": 75,
     "metadata": {},
     "output_type": "execute_result"
    }
   ],
   "source": [
    "# Tu código aquí\n",
    "\n",
    "sales.isnull().sum(), sales.duplicated().sum()"
   ]
  },
  {
   "cell_type": "markdown",
   "id": "5a5ab1bf",
   "metadata": {},
   "source": [
    "**Pregunta:** ¿Cuál es el ingreso total por tienda?"
   ]
  },
  {
   "cell_type": "code",
   "execution_count": 76,
   "id": "800fd9c4",
   "metadata": {},
   "outputs": [
    {
     "data": {
      "text/plain": [
       "Tienda\n",
       "SuperAhorro         35095\n",
       "Outlet Sur          31705\n",
       "Nube Azul           31565\n",
       "MegaMart Centro     31210\n",
       "La Gran Bodega      29110\n",
       "FashionPoint        26085\n",
       "Estrella Market     23830\n",
       "MaxiCompras         23570\n",
       "Express Plaza       23520\n",
       "Almacenes Rivera    23475\n",
       "Hogar & Deco        23200\n",
       "ElectroHogar        21965\n",
       "TecnoPlus           20155\n",
       "MiniMarket Norte    19770\n",
       "Delicias Gourmet    18245\n",
       "Mercado Urbano      16655\n",
       "CityShop            15310\n",
       "EcoMarket           15230\n",
       "La Esquinita        14585\n",
       "Comercial Sol       11720\n",
       "Name: Total Amount, dtype: int64"
      ]
     },
     "execution_count": 76,
     "metadata": {},
     "output_type": "execute_result"
    }
   ],
   "source": [
    "# Tu código aquí\n",
    "sales.groupby(\"Tienda\")[\"Total Amount\"].sum().sort_values(ascending=False)\n"
   ]
  },
  {
   "cell_type": "markdown",
   "id": "59869563",
   "metadata": {},
   "source": [
    "**Pregunta:** Agrupa las ventas por tipo de producto y encuentra la media de precios."
   ]
  },
  {
   "cell_type": "code",
   "execution_count": 77,
   "id": "877429e9",
   "metadata": {},
   "outputs": [
    {
     "data": {
      "text/plain": [
       "Product Category\n",
       "Beauty         184.055375\n",
       "Clothing       174.287749\n",
       "Electronics    181.900585\n",
       "Name: Price per Unit, dtype: float64"
      ]
     },
     "execution_count": 77,
     "metadata": {},
     "output_type": "execute_result"
    }
   ],
   "source": [
    "# Tu código aquí\n",
    "sales.groupby(\"Product Category\")[\"Price per Unit\"].mean()"
   ]
  },
  {
   "cell_type": "markdown",
   "id": "de016c86",
   "metadata": {},
   "source": [
    "**Pregunta:** Crea una nueva columna llamada `ingreso_total` que sea precio * cantidad."
   ]
  },
  {
   "cell_type": "code",
   "execution_count": 78,
   "id": "5154805b",
   "metadata": {},
   "outputs": [],
   "source": [
    "# Tu código aquí\n",
    "sales[\"ingreso_total\"] = sales[\"Price per Unit\"] * sales[\"Quantity\"]"
   ]
  },
  {
   "cell_type": "markdown",
   "id": "f370183a",
   "metadata": {},
   "source": [
    "**Pregunta:** Usa una tabla dinámica para comparar ingresos por tienda y por producto."
   ]
  },
  {
   "cell_type": "code",
   "execution_count": 79,
   "id": "9e76f6c2",
   "metadata": {},
   "outputs": [
    {
     "name": "stdout",
     "output_type": "stream",
     "text": [
      "Product Category  Beauty  Clothing  Electronics\n",
      "Tienda                                         \n",
      "Almacenes Rivera   10380      5795         7300\n",
      "CityShop            6595      7590         1125\n",
      "Comercial Sol       1535      4785         5400\n",
      "Delicias Gourmet    4480      4460         9305\n",
      "EcoMarket           4720      4690         5820\n",
      "ElectroHogar        7430      8175         6360\n",
      "Estrella Market     7140      5900        10790\n",
      "Express Plaza       6335     10800         6385\n",
      "FashionPoint        8780     10795         6510\n",
      "Hogar & Deco        8905      4880         9415\n",
      "La Esquinita        3790      6630         4165\n",
      "La Gran Bodega      7975      7785        13350\n",
      "MaxiCompras         8760      3255        11555\n",
      "MegaMart Centro     6750     10135        14325\n",
      "Mercado Urbano      5815      5600         5240\n",
      "MiniMarket Norte    3955      9715         6100\n",
      "Nube Azul           7935     14195         9435\n",
      "Outlet Sur         16925      8280         6500\n",
      "SuperAhorro         7055     15975        12065\n",
      "TecnoPlus           8255      6140         5760\n"
     ]
    }
   ],
   "source": [
    "# Tu código aquí\n",
    "tabla_dinamica = sales.pivot_table(\n",
    "    index=\"Tienda\",              # Filas → Tienda\n",
    "    columns=\"Product Category\", # Columnas → Tipo de producto\n",
    "    values=\"ingreso_total\",     # Valores → Ingresos totales\n",
    "    aggfunc=\"sum\"               # Función de agregación → Suma\n",
    ")\n",
    "\n",
    "print(tabla_dinamica)\n"
   ]
  },
  {
   "cell_type": "markdown",
   "id": "2edf618c",
   "metadata": {},
   "source": [
    "## 📈 Dummy Advertising and Sales Data"
   ]
  },
  {
   "cell_type": "markdown",
   "id": "26a5c26d",
   "metadata": {},
   "source": [
    "🔗 Dataset disponible en: [https://www.kaggle.com/datasets/harrimansaragih/dummy-advertising-and-sales-data?utm_source=chatgpt.com](https://www.kaggle.com/datasets/harrimansaragih/dummy-advertising-and-sales-data?utm_source=chatgpt.com)"
   ]
  },
  {
   "cell_type": "code",
   "execution_count": 52,
   "id": "5fa11726",
   "metadata": {},
   "outputs": [],
   "source": [
    "import pandas as pd"
   ]
  },
  {
   "cell_type": "code",
   "execution_count": 85,
   "id": "98a51b53",
   "metadata": {},
   "outputs": [],
   "source": [
    "Data = pd.read_csv(\"DataSets/Dummy Data HSS.csv\")"
   ]
  },
  {
   "cell_type": "markdown",
   "id": "ad70e47d",
   "metadata": {},
   "source": [
    "**Pregunta:** ¿Cuál es el gasto promedio en publicidad por canal (TV, Radio, Periódico)?"
   ]
  },
  {
   "cell_type": "code",
   "execution_count": 86,
   "id": "b5f7b3f3",
   "metadata": {},
   "outputs": [
    {
     "data": {
      "text/plain": [
       "Index(['TV', 'Radio', 'Social Media', 'Influencer', 'Sales'], dtype='object')"
      ]
     },
     "execution_count": 86,
     "metadata": {},
     "output_type": "execute_result"
    }
   ],
   "source": [
    "Data.columns"
   ]
  },
  {
   "cell_type": "code",
   "execution_count": 88,
   "id": "a1bb9a59",
   "metadata": {},
   "outputs": [
    {
     "data": {
      "text/plain": [
       "TV              54.066857\n",
       "Radio           18.160356\n",
       "Social Media     3.323956\n",
       "dtype: float64"
      ]
     },
     "execution_count": 88,
     "metadata": {},
     "output_type": "execute_result"
    }
   ],
   "source": [
    "# Tu código aquí\n",
    "Data[[\"TV\", \"Radio\", \"Social Media\"]].mean()"
   ]
  },
  {
   "cell_type": "markdown",
   "id": "e7fea9b5",
   "metadata": {},
   "source": [
    "**Pregunta:** ¿Existe correlación entre el presupuesto publicitario y las ventas?"
   ]
  },
  {
   "cell_type": "code",
   "execution_count": 89,
   "id": "7c7b12a7",
   "metadata": {},
   "outputs": [
    {
     "data": {
      "text/html": [
       "<div>\n",
       "<style scoped>\n",
       "    .dataframe tbody tr th:only-of-type {\n",
       "        vertical-align: middle;\n",
       "    }\n",
       "\n",
       "    .dataframe tbody tr th {\n",
       "        vertical-align: top;\n",
       "    }\n",
       "\n",
       "    .dataframe thead th {\n",
       "        text-align: right;\n",
       "    }\n",
       "</style>\n",
       "<table border=\"1\" class=\"dataframe\">\n",
       "  <thead>\n",
       "    <tr style=\"text-align: right;\">\n",
       "      <th></th>\n",
       "      <th>TV</th>\n",
       "      <th>Radio</th>\n",
       "      <th>Social Media</th>\n",
       "      <th>Sales</th>\n",
       "    </tr>\n",
       "  </thead>\n",
       "  <tbody>\n",
       "    <tr>\n",
       "      <th>TV</th>\n",
       "      <td>1.000000</td>\n",
       "      <td>0.869460</td>\n",
       "      <td>0.528168</td>\n",
       "      <td>0.999497</td>\n",
       "    </tr>\n",
       "    <tr>\n",
       "      <th>Radio</th>\n",
       "      <td>0.869460</td>\n",
       "      <td>1.000000</td>\n",
       "      <td>0.607452</td>\n",
       "      <td>0.869105</td>\n",
       "    </tr>\n",
       "    <tr>\n",
       "      <th>Social Media</th>\n",
       "      <td>0.528168</td>\n",
       "      <td>0.607452</td>\n",
       "      <td>1.000000</td>\n",
       "      <td>0.528906</td>\n",
       "    </tr>\n",
       "    <tr>\n",
       "      <th>Sales</th>\n",
       "      <td>0.999497</td>\n",
       "      <td>0.869105</td>\n",
       "      <td>0.528906</td>\n",
       "      <td>1.000000</td>\n",
       "    </tr>\n",
       "  </tbody>\n",
       "</table>\n",
       "</div>"
      ],
      "text/plain": [
       "                    TV     Radio  Social Media     Sales\n",
       "TV            1.000000  0.869460      0.528168  0.999497\n",
       "Radio         0.869460  1.000000      0.607452  0.869105\n",
       "Social Media  0.528168  0.607452      1.000000  0.528906\n",
       "Sales         0.999497  0.869105      0.528906  1.000000"
      ]
     },
     "execution_count": 89,
     "metadata": {},
     "output_type": "execute_result"
    }
   ],
   "source": [
    "# Tu código aquí\n",
    "Data[[\"TV\", \"Radio\", \"Social Media\", \"Sales\"]].corr()"
   ]
  },
  {
   "cell_type": "markdown",
   "id": "8bee9c70",
   "metadata": {},
   "source": [
    "**Pregunta:** ¿Qué campañas tienen ventas superiores a la media?"
   ]
  },
  {
   "cell_type": "code",
   "execution_count": 90,
   "id": "dc35b9fc",
   "metadata": {},
   "outputs": [
    {
     "data": {
      "text/html": [
       "<div>\n",
       "<style scoped>\n",
       "    .dataframe tbody tr th:only-of-type {\n",
       "        vertical-align: middle;\n",
       "    }\n",
       "\n",
       "    .dataframe tbody tr th {\n",
       "        vertical-align: top;\n",
       "    }\n",
       "\n",
       "    .dataframe thead th {\n",
       "        text-align: right;\n",
       "    }\n",
       "</style>\n",
       "<table border=\"1\" class=\"dataframe\">\n",
       "  <thead>\n",
       "    <tr style=\"text-align: right;\">\n",
       "      <th></th>\n",
       "      <th>TV</th>\n",
       "      <th>Radio</th>\n",
       "      <th>Social Media</th>\n",
       "      <th>Influencer</th>\n",
       "      <th>Sales</th>\n",
       "    </tr>\n",
       "  </thead>\n",
       "  <tbody>\n",
       "    <tr>\n",
       "      <th>3</th>\n",
       "      <td>83.0</td>\n",
       "      <td>30.020028</td>\n",
       "      <td>6.922304</td>\n",
       "      <td>Mega</td>\n",
       "      <td>298.246340</td>\n",
       "    </tr>\n",
       "    <tr>\n",
       "      <th>6</th>\n",
       "      <td>55.0</td>\n",
       "      <td>24.893811</td>\n",
       "      <td>4.273602</td>\n",
       "      <td>Micro</td>\n",
       "      <td>198.679825</td>\n",
       "    </tr>\n",
       "    <tr>\n",
       "      <th>8</th>\n",
       "      <td>76.0</td>\n",
       "      <td>24.648898</td>\n",
       "      <td>7.130116</td>\n",
       "      <td>Macro</td>\n",
       "      <td>270.189400</td>\n",
       "    </tr>\n",
       "    <tr>\n",
       "      <th>10</th>\n",
       "      <td>62.0</td>\n",
       "      <td>24.345189</td>\n",
       "      <td>5.151483</td>\n",
       "      <td>Nano</td>\n",
       "      <td>224.961019</td>\n",
       "    </tr>\n",
       "    <tr>\n",
       "      <th>12</th>\n",
       "      <td>64.0</td>\n",
       "      <td>20.240424</td>\n",
       "      <td>3.921148</td>\n",
       "      <td>Micro</td>\n",
       "      <td>229.632381</td>\n",
       "    </tr>\n",
       "    <tr>\n",
       "      <th>...</th>\n",
       "      <td>...</td>\n",
       "      <td>...</td>\n",
       "      <td>...</td>\n",
       "      <td>...</td>\n",
       "      <td>...</td>\n",
       "    </tr>\n",
       "    <tr>\n",
       "      <th>4561</th>\n",
       "      <td>60.0</td>\n",
       "      <td>21.841864</td>\n",
       "      <td>5.092528</td>\n",
       "      <td>Macro</td>\n",
       "      <td>210.680016</td>\n",
       "    </tr>\n",
       "    <tr>\n",
       "      <th>4563</th>\n",
       "      <td>93.0</td>\n",
       "      <td>25.285149</td>\n",
       "      <td>2.805840</td>\n",
       "      <td>Macro</td>\n",
       "      <td>327.466288</td>\n",
       "    </tr>\n",
       "    <tr>\n",
       "      <th>4564</th>\n",
       "      <td>99.0</td>\n",
       "      <td>36.024174</td>\n",
       "      <td>4.288755</td>\n",
       "      <td>Macro</td>\n",
       "      <td>355.807121</td>\n",
       "    </tr>\n",
       "    <tr>\n",
       "      <th>4568</th>\n",
       "      <td>71.0</td>\n",
       "      <td>20.610685</td>\n",
       "      <td>6.545573</td>\n",
       "      <td>Nano</td>\n",
       "      <td>249.101915</td>\n",
       "    </tr>\n",
       "    <tr>\n",
       "      <th>4570</th>\n",
       "      <td>71.0</td>\n",
       "      <td>17.534640</td>\n",
       "      <td>1.940873</td>\n",
       "      <td>Macro</td>\n",
       "      <td>253.610411</td>\n",
       "    </tr>\n",
       "  </tbody>\n",
       "</table>\n",
       "<p>2239 rows × 5 columns</p>\n",
       "</div>"
      ],
      "text/plain": [
       "        TV      Radio  Social Media Influencer       Sales\n",
       "3     83.0  30.020028      6.922304       Mega  298.246340\n",
       "6     55.0  24.893811      4.273602      Micro  198.679825\n",
       "8     76.0  24.648898      7.130116      Macro  270.189400\n",
       "10    62.0  24.345189      5.151483       Nano  224.961019\n",
       "12    64.0  20.240424      3.921148      Micro  229.632381\n",
       "...    ...        ...           ...        ...         ...\n",
       "4561  60.0  21.841864      5.092528      Macro  210.680016\n",
       "4563  93.0  25.285149      2.805840      Macro  327.466288\n",
       "4564  99.0  36.024174      4.288755      Macro  355.807121\n",
       "4568  71.0  20.610685      6.545573       Nano  249.101915\n",
       "4570  71.0  17.534640      1.940873      Macro  253.610411\n",
       "\n",
       "[2239 rows x 5 columns]"
      ]
     },
     "execution_count": 90,
     "metadata": {},
     "output_type": "execute_result"
    }
   ],
   "source": [
    "# Tu código aquí\n",
    "ventas_media = Data[\"Sales\"].mean()\n",
    "campañas_superiores = Data[Data[\"Sales\"] > ventas_media]\n",
    "\n",
    "campañas_superiores"
   ]
  },
  {
   "cell_type": "markdown",
   "id": "e0057c81",
   "metadata": {},
   "source": [
    "**Pregunta:** Filtra las campañas con publicidad en TV > 200 y Radio > 20."
   ]
  },
  {
   "cell_type": "code",
   "execution_count": 92,
   "id": "4ca2ffda",
   "metadata": {},
   "outputs": [
    {
     "data": {
      "text/plain": [
       "TV       100.000000\n",
       "Radio     48.871161\n",
       "dtype: float64"
      ]
     },
     "execution_count": 92,
     "metadata": {},
     "output_type": "execute_result"
    }
   ],
   "source": [
    "Data[[\"TV\", \"Radio\"]].max()"
   ]
  },
  {
   "cell_type": "code",
   "execution_count": 93,
   "id": "79fec181",
   "metadata": {},
   "outputs": [
    {
     "data": {
      "text/html": [
       "<div>\n",
       "<style scoped>\n",
       "    .dataframe tbody tr th:only-of-type {\n",
       "        vertical-align: middle;\n",
       "    }\n",
       "\n",
       "    .dataframe tbody tr th {\n",
       "        vertical-align: top;\n",
       "    }\n",
       "\n",
       "    .dataframe thead th {\n",
       "        text-align: right;\n",
       "    }\n",
       "</style>\n",
       "<table border=\"1\" class=\"dataframe\">\n",
       "  <thead>\n",
       "    <tr style=\"text-align: right;\">\n",
       "      <th></th>\n",
       "      <th>TV</th>\n",
       "      <th>Radio</th>\n",
       "      <th>Social Media</th>\n",
       "      <th>Influencer</th>\n",
       "      <th>Sales</th>\n",
       "    </tr>\n",
       "  </thead>\n",
       "  <tbody>\n",
       "    <tr>\n",
       "      <th>3</th>\n",
       "      <td>83.0</td>\n",
       "      <td>30.020028</td>\n",
       "      <td>6.922304</td>\n",
       "      <td>Mega</td>\n",
       "      <td>298.246340</td>\n",
       "    </tr>\n",
       "    <tr>\n",
       "      <th>18</th>\n",
       "      <td>100.0</td>\n",
       "      <td>36.116091</td>\n",
       "      <td>3.674296</td>\n",
       "      <td>Macro</td>\n",
       "      <td>353.804639</td>\n",
       "    </tr>\n",
       "    <tr>\n",
       "      <th>19</th>\n",
       "      <td>92.0</td>\n",
       "      <td>40.736990</td>\n",
       "      <td>4.636564</td>\n",
       "      <td>Nano</td>\n",
       "      <td>329.350540</td>\n",
       "    </tr>\n",
       "    <tr>\n",
       "      <th>23</th>\n",
       "      <td>99.0</td>\n",
       "      <td>37.263819</td>\n",
       "      <td>6.886535</td>\n",
       "      <td>Nano</td>\n",
       "      <td>349.861575</td>\n",
       "    </tr>\n",
       "    <tr>\n",
       "      <th>31</th>\n",
       "      <td>90.0</td>\n",
       "      <td>29.021017</td>\n",
       "      <td>6.431995</td>\n",
       "      <td>Micro</td>\n",
       "      <td>323.032183</td>\n",
       "    </tr>\n",
       "    <tr>\n",
       "      <th>...</th>\n",
       "      <td>...</td>\n",
       "      <td>...</td>\n",
       "      <td>...</td>\n",
       "      <td>...</td>\n",
       "      <td>...</td>\n",
       "    </tr>\n",
       "    <tr>\n",
       "      <th>4517</th>\n",
       "      <td>85.0</td>\n",
       "      <td>32.785842</td>\n",
       "      <td>3.253216</td>\n",
       "      <td>Macro</td>\n",
       "      <td>303.060675</td>\n",
       "    </tr>\n",
       "    <tr>\n",
       "      <th>4555</th>\n",
       "      <td>88.0</td>\n",
       "      <td>35.544561</td>\n",
       "      <td>7.522555</td>\n",
       "      <td>Macro</td>\n",
       "      <td>309.903896</td>\n",
       "    </tr>\n",
       "    <tr>\n",
       "      <th>4556</th>\n",
       "      <td>85.0</td>\n",
       "      <td>24.181104</td>\n",
       "      <td>2.542531</td>\n",
       "      <td>Mega</td>\n",
       "      <td>301.994116</td>\n",
       "    </tr>\n",
       "    <tr>\n",
       "      <th>4563</th>\n",
       "      <td>93.0</td>\n",
       "      <td>25.285149</td>\n",
       "      <td>2.805840</td>\n",
       "      <td>Macro</td>\n",
       "      <td>327.466288</td>\n",
       "    </tr>\n",
       "    <tr>\n",
       "      <th>4564</th>\n",
       "      <td>99.0</td>\n",
       "      <td>36.024174</td>\n",
       "      <td>4.288755</td>\n",
       "      <td>Macro</td>\n",
       "      <td>355.807121</td>\n",
       "    </tr>\n",
       "  </tbody>\n",
       "</table>\n",
       "<p>916 rows × 5 columns</p>\n",
       "</div>"
      ],
      "text/plain": [
       "         TV      Radio  Social Media Influencer       Sales\n",
       "3      83.0  30.020028      6.922304       Mega  298.246340\n",
       "18    100.0  36.116091      3.674296      Macro  353.804639\n",
       "19     92.0  40.736990      4.636564       Nano  329.350540\n",
       "23     99.0  37.263819      6.886535       Nano  349.861575\n",
       "31     90.0  29.021017      6.431995      Micro  323.032183\n",
       "...     ...        ...           ...        ...         ...\n",
       "4517   85.0  32.785842      3.253216      Macro  303.060675\n",
       "4555   88.0  35.544561      7.522555      Macro  309.903896\n",
       "4556   85.0  24.181104      2.542531       Mega  301.994116\n",
       "4563   93.0  25.285149      2.805840      Macro  327.466288\n",
       "4564   99.0  36.024174      4.288755      Macro  355.807121\n",
       "\n",
       "[916 rows x 5 columns]"
      ]
     },
     "execution_count": 93,
     "metadata": {},
     "output_type": "execute_result"
    }
   ],
   "source": [
    "# Tu código aquí\n",
    "campañas = Data[(Data[\"TV\"] > 80) & (Data[\"Radio\"] > 20)]\n",
    "campañas\n"
   ]
  },
  {
   "cell_type": "markdown",
   "id": "fb4bd8b6",
   "metadata": {},
   "source": [
    "**Pregunta:** Agrupa por canal publicitario y calcula la media de ventas."
   ]
  },
  {
   "cell_type": "code",
   "execution_count": 101,
   "id": "0e0d6662",
   "metadata": {},
   "outputs": [
    {
     "name": "stdout",
     "output_type": "stream",
     "text": [
      "Influencer\n",
      "Macro    195.613601\n",
      "Mega     190.593666\n",
      "Micro    191.809095\n",
      "Nano     191.934304\n",
      "Name: Sales, dtype: float64\n"
     ]
    }
   ],
   "source": [
    "# Tu código aquí\n",
    "ventas = Data.groupby('Influencer')['Sales'].mean()\n",
    "print(ventas)"
   ]
  },
  {
   "cell_type": "markdown",
   "id": "33653619",
   "metadata": {},
   "source": [
    "**Pregunta:** Crea una columna de ROI estimado usando una fórmula simple."
   ]
  },
  {
   "cell_type": "code",
   "execution_count": 95,
   "id": "054ad8d4",
   "metadata": {},
   "outputs": [],
   "source": [
    "# Tu código aquí\n",
    "Data[\"ROI\"] = (Data[\"Sales\"] - (Data[\"TV\"] + Data[\"Radio\"] + Data[\"Social Media\"])) / (Data[\"TV\"] + Data[\"Radio\"] + Data[\"Social Media\"])\n"
   ]
  },
  {
   "cell_type": "code",
   "execution_count": 97,
   "id": "fcebeb29",
   "metadata": {},
   "outputs": [
    {
     "data": {
      "text/html": [
       "<div>\n",
       "<style scoped>\n",
       "    .dataframe tbody tr th:only-of-type {\n",
       "        vertical-align: middle;\n",
       "    }\n",
       "\n",
       "    .dataframe tbody tr th {\n",
       "        vertical-align: top;\n",
       "    }\n",
       "\n",
       "    .dataframe thead th {\n",
       "        text-align: right;\n",
       "    }\n",
       "</style>\n",
       "<table border=\"1\" class=\"dataframe\">\n",
       "  <thead>\n",
       "    <tr style=\"text-align: right;\">\n",
       "      <th></th>\n",
       "      <th>TV</th>\n",
       "      <th>Radio</th>\n",
       "      <th>Social Media</th>\n",
       "      <th>Sales</th>\n",
       "      <th>ROI</th>\n",
       "    </tr>\n",
       "  </thead>\n",
       "  <tbody>\n",
       "    <tr>\n",
       "      <th>0</th>\n",
       "      <td>16.0</td>\n",
       "      <td>6.566231</td>\n",
       "      <td>2.907983</td>\n",
       "      <td>54.732757</td>\n",
       "      <td>1.148555</td>\n",
       "    </tr>\n",
       "    <tr>\n",
       "      <th>1</th>\n",
       "      <td>13.0</td>\n",
       "      <td>9.237765</td>\n",
       "      <td>2.409567</td>\n",
       "      <td>46.677897</td>\n",
       "      <td>0.893832</td>\n",
       "    </tr>\n",
       "    <tr>\n",
       "      <th>2</th>\n",
       "      <td>41.0</td>\n",
       "      <td>15.886446</td>\n",
       "      <td>2.913410</td>\n",
       "      <td>150.177829</td>\n",
       "      <td>1.511341</td>\n",
       "    </tr>\n",
       "    <tr>\n",
       "      <th>3</th>\n",
       "      <td>83.0</td>\n",
       "      <td>30.020028</td>\n",
       "      <td>6.922304</td>\n",
       "      <td>298.246340</td>\n",
       "      <td>1.486581</td>\n",
       "    </tr>\n",
       "    <tr>\n",
       "      <th>4</th>\n",
       "      <td>15.0</td>\n",
       "      <td>8.437408</td>\n",
       "      <td>1.405998</td>\n",
       "      <td>56.594181</td>\n",
       "      <td>1.278036</td>\n",
       "    </tr>\n",
       "  </tbody>\n",
       "</table>\n",
       "</div>"
      ],
      "text/plain": [
       "     TV      Radio  Social Media       Sales       ROI\n",
       "0  16.0   6.566231      2.907983   54.732757  1.148555\n",
       "1  13.0   9.237765      2.409567   46.677897  0.893832\n",
       "2  41.0  15.886446      2.913410  150.177829  1.511341\n",
       "3  83.0  30.020028      6.922304  298.246340  1.486581\n",
       "4  15.0   8.437408      1.405998   56.594181  1.278036"
      ]
     },
     "execution_count": 97,
     "metadata": {},
     "output_type": "execute_result"
    }
   ],
   "source": [
    "Data[[\"TV\", \"Radio\", \"Social Media\", \"Sales\", \"ROI\"]].head()"
   ]
  },
  {
   "cell_type": "markdown",
   "id": "0cbbc592",
   "metadata": {},
   "source": [
    "**Pregunta:** Realiza una pivot_table para ver ventas promedio por cada tipo de canal."
   ]
  },
  {
   "cell_type": "code",
   "execution_count": 98,
   "id": "2fd172f5",
   "metadata": {},
   "outputs": [
    {
     "data": {
      "text/html": [
       "<div>\n",
       "<style scoped>\n",
       "    .dataframe tbody tr th:only-of-type {\n",
       "        vertical-align: middle;\n",
       "    }\n",
       "\n",
       "    .dataframe tbody tr th {\n",
       "        vertical-align: top;\n",
       "    }\n",
       "\n",
       "    .dataframe thead th {\n",
       "        text-align: right;\n",
       "    }\n",
       "</style>\n",
       "<table border=\"1\" class=\"dataframe\">\n",
       "  <thead>\n",
       "    <tr style=\"text-align: right;\">\n",
       "      <th></th>\n",
       "      <th>Sales</th>\n",
       "    </tr>\n",
       "    <tr>\n",
       "      <th>Canal</th>\n",
       "      <th></th>\n",
       "    </tr>\n",
       "  </thead>\n",
       "  <tbody>\n",
       "    <tr>\n",
       "      <th>Radio</th>\n",
       "      <td>192.47</td>\n",
       "    </tr>\n",
       "    <tr>\n",
       "      <th>Social Media</th>\n",
       "      <td>192.47</td>\n",
       "    </tr>\n",
       "    <tr>\n",
       "      <th>TV</th>\n",
       "      <td>192.47</td>\n",
       "    </tr>\n",
       "  </tbody>\n",
       "</table>\n",
       "</div>"
      ],
      "text/plain": [
       "               Sales\n",
       "Canal               \n",
       "Radio         192.47\n",
       "Social Media  192.47\n",
       "TV            192.47"
      ]
     },
     "execution_count": 98,
     "metadata": {},
     "output_type": "execute_result"
    }
   ],
   "source": [
    "# Tu código aquí\n",
    "df_largo = Data.melt(\n",
    "    id_vars=\"Sales\",\n",
    "    value_vars=[\"TV\", \"Radio\", \"Social Media\"],\n",
    "    var_name=\"Canal\",\n",
    "    value_name=\"Inversion\"\n",
    ")\n",
    "\n",
    "pivot = df_largo.pivot_table(index=\"Canal\", values=\"Sales\", aggfunc=\"mean\").sort_values(\"Sales\", ascending=False)\n",
    "pivot.round(2)\n"
   ]
  },
  {
   "cell_type": "markdown",
   "id": "29509792",
   "metadata": {},
   "source": [
    "## 🎬 The Movies Dataset"
   ]
  },
  {
   "cell_type": "markdown",
   "id": "de0b2ee1",
   "metadata": {},
   "source": [
    "🔗 Dataset disponible en: [https://www.kaggle.com/datasets/rounakbanik/the-movies-dataset?utm_source=chatgpt.com](https://www.kaggle.com/datasets/rounakbanik/the-movies-dataset?utm_source=chatgpt.com)"
   ]
  },
  {
   "cell_type": "code",
   "execution_count": null,
   "id": "e299f3ac",
   "metadata": {},
   "outputs": [],
   "source": [
    "import pandas as pd"
   ]
  },
  {
   "cell_type": "code",
   "execution_count": 104,
   "id": "b029f73c",
   "metadata": {},
   "outputs": [],
   "source": [
    "Movies = pd.read_csv(\"DataSets/MovieFranchises.csv\")"
   ]
  },
  {
   "cell_type": "markdown",
   "id": "e51caea6",
   "metadata": {},
   "source": [
    "**Pregunta:** ¿Cuáles son las películas con mayor presupuesto?"
   ]
  },
  {
   "cell_type": "code",
   "execution_count": 107,
   "id": "afb66ad9",
   "metadata": {},
   "outputs": [
    {
     "data": {
      "text/html": [
       "<div>\n",
       "<style scoped>\n",
       "    .dataframe tbody tr th:only-of-type {\n",
       "        vertical-align: middle;\n",
       "    }\n",
       "\n",
       "    .dataframe tbody tr th {\n",
       "        vertical-align: top;\n",
       "    }\n",
       "\n",
       "    .dataframe thead th {\n",
       "        text-align: right;\n",
       "    }\n",
       "</style>\n",
       "<table border=\"1\" class=\"dataframe\">\n",
       "  <thead>\n",
       "    <tr style=\"text-align: right;\">\n",
       "      <th></th>\n",
       "      <th>index</th>\n",
       "      <th>MovieID</th>\n",
       "      <th>Title</th>\n",
       "      <th>Lifetime Gross</th>\n",
       "      <th>Year</th>\n",
       "      <th>Studio</th>\n",
       "      <th>Rating</th>\n",
       "      <th>Runtime</th>\n",
       "      <th>Budget</th>\n",
       "      <th>ReleaseDate</th>\n",
       "      <th>VoteAvg</th>\n",
       "      <th>VoteCount</th>\n",
       "      <th>FranchiseID</th>\n",
       "    </tr>\n",
       "  </thead>\n",
       "  <tbody>\n",
       "    <tr>\n",
       "      <th>0</th>\n",
       "      <td>0</td>\n",
       "      <td>1001</td>\n",
       "      <td>Star Wars: Episode IV - A New Hope</td>\n",
       "      <td>775398007</td>\n",
       "      <td>1977</td>\n",
       "      <td>Lucasfilm</td>\n",
       "      <td>PG</td>\n",
       "      <td>121.0</td>\n",
       "      <td>11000000.0</td>\n",
       "      <td>05-25-77</td>\n",
       "      <td>4.09</td>\n",
       "      <td>96233.0</td>\n",
       "      <td>101.0</td>\n",
       "    </tr>\n",
       "    <tr>\n",
       "      <th>1</th>\n",
       "      <td>1</td>\n",
       "      <td>1002</td>\n",
       "      <td>Star Wars: Episode V - The Empire Strikes Back</td>\n",
       "      <td>538375067</td>\n",
       "      <td>1980</td>\n",
       "      <td>Lucasfilm</td>\n",
       "      <td>PG</td>\n",
       "      <td>124.0</td>\n",
       "      <td>18000000.0</td>\n",
       "      <td>06-20-80</td>\n",
       "      <td>4.12</td>\n",
       "      <td>79231.0</td>\n",
       "      <td>101.0</td>\n",
       "    </tr>\n",
       "    <tr>\n",
       "      <th>2</th>\n",
       "      <td>2</td>\n",
       "      <td>1003</td>\n",
       "      <td>Star Wars: Episode VI - Return of the Jedi</td>\n",
       "      <td>475106177</td>\n",
       "      <td>1983</td>\n",
       "      <td>Lucasfilm</td>\n",
       "      <td>PG</td>\n",
       "      <td>135.0</td>\n",
       "      <td>32500000.0</td>\n",
       "      <td>05-25-83</td>\n",
       "      <td>3.98</td>\n",
       "      <td>76082.0</td>\n",
       "      <td>101.0</td>\n",
       "    </tr>\n",
       "    <tr>\n",
       "      <th>3</th>\n",
       "      <td>3</td>\n",
       "      <td>1004</td>\n",
       "      <td>Jurassic Park</td>\n",
       "      <td>1109802321</td>\n",
       "      <td>1993</td>\n",
       "      <td>Universal Pictures</td>\n",
       "      <td>PG-13</td>\n",
       "      <td>127.0</td>\n",
       "      <td>63000000.0</td>\n",
       "      <td>06-11-93</td>\n",
       "      <td>3.69</td>\n",
       "      <td>82700.0</td>\n",
       "      <td>102.0</td>\n",
       "    </tr>\n",
       "    <tr>\n",
       "      <th>4</th>\n",
       "      <td>4</td>\n",
       "      <td>1005</td>\n",
       "      <td>The Lost World: Jurassic Park</td>\n",
       "      <td>618638999</td>\n",
       "      <td>1997</td>\n",
       "      <td>Universal Pictures</td>\n",
       "      <td>PG-13</td>\n",
       "      <td>129.0</td>\n",
       "      <td>73000000.0</td>\n",
       "      <td>05-23-97</td>\n",
       "      <td>3.01</td>\n",
       "      <td>19721.0</td>\n",
       "      <td>102.0</td>\n",
       "    </tr>\n",
       "  </tbody>\n",
       "</table>\n",
       "</div>"
      ],
      "text/plain": [
       "   index MovieID                                           Title  \\\n",
       "0      0    1001              Star Wars: Episode IV - A New Hope   \n",
       "1      1    1002  Star Wars: Episode V - The Empire Strikes Back   \n",
       "2      2    1003      Star Wars: Episode VI - Return of the Jedi   \n",
       "3      3    1004                                   Jurassic Park   \n",
       "4      4    1005                   The Lost World: Jurassic Park   \n",
       "\n",
       "  Lifetime Gross  Year              Studio Rating  Runtime      Budget  \\\n",
       "0      775398007  1977           Lucasfilm     PG    121.0  11000000.0   \n",
       "1      538375067  1980           Lucasfilm     PG    124.0  18000000.0   \n",
       "2      475106177  1983           Lucasfilm     PG    135.0  32500000.0   \n",
       "3     1109802321  1993  Universal Pictures  PG-13    127.0  63000000.0   \n",
       "4      618638999  1997  Universal Pictures  PG-13    129.0  73000000.0   \n",
       "\n",
       "  ReleaseDate  VoteAvg  VoteCount  FranchiseID  \n",
       "0    05-25-77     4.09    96233.0        101.0  \n",
       "1    06-20-80     4.12    79231.0        101.0  \n",
       "2    05-25-83     3.98    76082.0        101.0  \n",
       "3    06-11-93     3.69    82700.0        102.0  \n",
       "4    05-23-97     3.01    19721.0        102.0  "
      ]
     },
     "execution_count": 107,
     "metadata": {},
     "output_type": "execute_result"
    }
   ],
   "source": [
    "Movies.head()"
   ]
  },
  {
   "cell_type": "code",
   "execution_count": 106,
   "id": "bd22d5af",
   "metadata": {},
   "outputs": [
    {
     "data": {
      "text/html": [
       "<div>\n",
       "<style scoped>\n",
       "    .dataframe tbody tr th:only-of-type {\n",
       "        vertical-align: middle;\n",
       "    }\n",
       "\n",
       "    .dataframe tbody tr th {\n",
       "        vertical-align: top;\n",
       "    }\n",
       "\n",
       "    .dataframe thead th {\n",
       "        text-align: right;\n",
       "    }\n",
       "</style>\n",
       "<table border=\"1\" class=\"dataframe\">\n",
       "  <thead>\n",
       "    <tr style=\"text-align: right;\">\n",
       "      <th></th>\n",
       "      <th>index</th>\n",
       "      <th>MovieID</th>\n",
       "      <th>Title</th>\n",
       "      <th>Lifetime Gross</th>\n",
       "      <th>Year</th>\n",
       "      <th>Studio</th>\n",
       "      <th>Rating</th>\n",
       "      <th>Runtime</th>\n",
       "      <th>Budget</th>\n",
       "      <th>ReleaseDate</th>\n",
       "      <th>VoteAvg</th>\n",
       "      <th>VoteCount</th>\n",
       "      <th>FranchiseID</th>\n",
       "    </tr>\n",
       "  </thead>\n",
       "  <tbody>\n",
       "    <tr>\n",
       "      <th>50</th>\n",
       "      <td>50</td>\n",
       "      <td>1051</td>\n",
       "      <td>Avengers: Endgame</td>\n",
       "      <td>2797501328</td>\n",
       "      <td>2019</td>\n",
       "      <td>Marvel Studios</td>\n",
       "      <td>PG-13</td>\n",
       "      <td>181.0</td>\n",
       "      <td>400000000.0</td>\n",
       "      <td>04-26-19</td>\n",
       "      <td>3.91</td>\n",
       "      <td>11841.0</td>\n",
       "      <td>105.0</td>\n",
       "    </tr>\n",
       "    <tr>\n",
       "      <th>43</th>\n",
       "      <td>43</td>\n",
       "      <td>1044</td>\n",
       "      <td>Star Wars: Episode VIII - The Last Jedi</td>\n",
       "      <td>1332698830</td>\n",
       "      <td>2017</td>\n",
       "      <td>Lucasfilm</td>\n",
       "      <td>PG-13</td>\n",
       "      <td>152.0</td>\n",
       "      <td>317000000.0</td>\n",
       "      <td>12-15-17</td>\n",
       "      <td>3.31</td>\n",
       "      <td>6467.0</td>\n",
       "      <td>101.0</td>\n",
       "    </tr>\n",
       "    <tr>\n",
       "      <th>36</th>\n",
       "      <td>36</td>\n",
       "      <td>1037</td>\n",
       "      <td>Star Wars: Episode VII - The Force Awakens</td>\n",
       "      <td>2069521700</td>\n",
       "      <td>2015</td>\n",
       "      <td>Lucasfilm</td>\n",
       "      <td>PG-13</td>\n",
       "      <td>136.0</td>\n",
       "      <td>306000000.0</td>\n",
       "      <td>12-18-15</td>\n",
       "      <td>3.65</td>\n",
       "      <td>19215.0</td>\n",
       "      <td>101.0</td>\n",
       "    </tr>\n",
       "    <tr>\n",
       "      <th>45</th>\n",
       "      <td>45</td>\n",
       "      <td>1046</td>\n",
       "      <td>Avengers: Infinity War</td>\n",
       "      <td>2048359754</td>\n",
       "      <td>2018</td>\n",
       "      <td>Marvel Studios</td>\n",
       "      <td>PG-13</td>\n",
       "      <td>156.0</td>\n",
       "      <td>300000000.0</td>\n",
       "      <td>04-27-18</td>\n",
       "      <td>3.93</td>\n",
       "      <td>15145.0</td>\n",
       "      <td>105.0</td>\n",
       "    </tr>\n",
       "    <tr>\n",
       "      <th>33</th>\n",
       "      <td>33</td>\n",
       "      <td>1034</td>\n",
       "      <td>Avengers: Age of Ultron</td>\n",
       "      <td>1402809540</td>\n",
       "      <td>2015</td>\n",
       "      <td>Marvel Studios</td>\n",
       "      <td>PG-13</td>\n",
       "      <td>141.0</td>\n",
       "      <td>280000000.0</td>\n",
       "      <td>04-22-15</td>\n",
       "      <td>3.50</td>\n",
       "      <td>12137.0</td>\n",
       "      <td>105.0</td>\n",
       "    </tr>\n",
       "    <tr>\n",
       "      <th>...</th>\n",
       "      <td>...</td>\n",
       "      <td>...</td>\n",
       "      <td>...</td>\n",
       "      <td>...</td>\n",
       "      <td>...</td>\n",
       "      <td>...</td>\n",
       "      <td>...</td>\n",
       "      <td>...</td>\n",
       "      <td>...</td>\n",
       "      <td>...</td>\n",
       "      <td>...</td>\n",
       "      <td>...</td>\n",
       "      <td>...</td>\n",
       "    </tr>\n",
       "    <tr>\n",
       "      <th>600</th>\n",
       "      <td>600</td>\n",
       "      <td>101</td>\n",
       "      <td>Star Wars</td>\n",
       "      <td>1977</td>\n",
       "      <td>George Lucas</td>\n",
       "      <td>NaN</td>\n",
       "      <td>NaN</td>\n",
       "      <td>NaN</td>\n",
       "      <td>NaN</td>\n",
       "      <td>NaN</td>\n",
       "      <td>NaN</td>\n",
       "      <td>NaN</td>\n",
       "      <td>NaN</td>\n",
       "    </tr>\n",
       "    <tr>\n",
       "      <th>601</th>\n",
       "      <td>601</td>\n",
       "      <td>102</td>\n",
       "      <td>Jurassic Park</td>\n",
       "      <td>1993</td>\n",
       "      <td>Michael Crichton</td>\n",
       "      <td>NaN</td>\n",
       "      <td>NaN</td>\n",
       "      <td>NaN</td>\n",
       "      <td>NaN</td>\n",
       "      <td>NaN</td>\n",
       "      <td>NaN</td>\n",
       "      <td>NaN</td>\n",
       "      <td>NaN</td>\n",
       "    </tr>\n",
       "    <tr>\n",
       "      <th>602</th>\n",
       "      <td>602</td>\n",
       "      <td>103</td>\n",
       "      <td>Wizarding World</td>\n",
       "      <td>2001</td>\n",
       "      <td>J. K. Rowling</td>\n",
       "      <td>NaN</td>\n",
       "      <td>NaN</td>\n",
       "      <td>NaN</td>\n",
       "      <td>NaN</td>\n",
       "      <td>NaN</td>\n",
       "      <td>NaN</td>\n",
       "      <td>NaN</td>\n",
       "      <td>NaN</td>\n",
       "    </tr>\n",
       "    <tr>\n",
       "      <th>603</th>\n",
       "      <td>603</td>\n",
       "      <td>104</td>\n",
       "      <td>Middle Earth</td>\n",
       "      <td>2001</td>\n",
       "      <td>J. R. R. Tolkien</td>\n",
       "      <td>NaN</td>\n",
       "      <td>NaN</td>\n",
       "      <td>NaN</td>\n",
       "      <td>NaN</td>\n",
       "      <td>NaN</td>\n",
       "      <td>NaN</td>\n",
       "      <td>NaN</td>\n",
       "      <td>NaN</td>\n",
       "    </tr>\n",
       "    <tr>\n",
       "      <th>604</th>\n",
       "      <td>604</td>\n",
       "      <td>105</td>\n",
       "      <td>MCU</td>\n",
       "      <td>2008</td>\n",
       "      <td>Stan Lee</td>\n",
       "      <td>NaN</td>\n",
       "      <td>NaN</td>\n",
       "      <td>NaN</td>\n",
       "      <td>NaN</td>\n",
       "      <td>NaN</td>\n",
       "      <td>NaN</td>\n",
       "      <td>NaN</td>\n",
       "      <td>NaN</td>\n",
       "    </tr>\n",
       "  </tbody>\n",
       "</table>\n",
       "<p>605 rows × 13 columns</p>\n",
       "</div>"
      ],
      "text/plain": [
       "     index MovieID                                       Title Lifetime Gross  \\\n",
       "50      50    1051                           Avengers: Endgame     2797501328   \n",
       "43      43    1044     Star Wars: Episode VIII - The Last Jedi     1332698830   \n",
       "36      36    1037  Star Wars: Episode VII - The Force Awakens     2069521700   \n",
       "45      45    1046                      Avengers: Infinity War     2048359754   \n",
       "33      33    1034                     Avengers: Age of Ultron     1402809540   \n",
       "..     ...     ...                                         ...            ...   \n",
       "600    600     101                                   Star Wars           1977   \n",
       "601    601     102                               Jurassic Park           1993   \n",
       "602    602     103                             Wizarding World           2001   \n",
       "603    603     104                                Middle Earth           2001   \n",
       "604    604     105                                         MCU           2008   \n",
       "\n",
       "                 Year          Studio Rating  Runtime       Budget  \\\n",
       "50               2019  Marvel Studios  PG-13    181.0  400000000.0   \n",
       "43               2017       Lucasfilm  PG-13    152.0  317000000.0   \n",
       "36               2015       Lucasfilm  PG-13    136.0  306000000.0   \n",
       "45               2018  Marvel Studios  PG-13    156.0  300000000.0   \n",
       "33               2015  Marvel Studios  PG-13    141.0  280000000.0   \n",
       "..                ...             ...    ...      ...          ...   \n",
       "600      George Lucas             NaN    NaN      NaN          NaN   \n",
       "601  Michael Crichton             NaN    NaN      NaN          NaN   \n",
       "602     J. K. Rowling             NaN    NaN      NaN          NaN   \n",
       "603  J. R. R. Tolkien             NaN    NaN      NaN          NaN   \n",
       "604          Stan Lee             NaN    NaN      NaN          NaN   \n",
       "\n",
       "    ReleaseDate  VoteAvg  VoteCount  FranchiseID  \n",
       "50     04-26-19     3.91    11841.0        105.0  \n",
       "43     12-15-17     3.31     6467.0        101.0  \n",
       "36     12-18-15     3.65    19215.0        101.0  \n",
       "45     04-27-18     3.93    15145.0        105.0  \n",
       "33     04-22-15     3.50    12137.0        105.0  \n",
       "..          ...      ...        ...          ...  \n",
       "600         NaN      NaN        NaN          NaN  \n",
       "601         NaN      NaN        NaN          NaN  \n",
       "602         NaN      NaN        NaN          NaN  \n",
       "603         NaN      NaN        NaN          NaN  \n",
       "604         NaN      NaN        NaN          NaN  \n",
       "\n",
       "[605 rows x 13 columns]"
      ]
     },
     "execution_count": 106,
     "metadata": {},
     "output_type": "execute_result"
    }
   ],
   "source": [
    "# Tu código aquí\n",
    "Movies.sort_values(\"Budget\", ascending=False)"
   ]
  },
  {
   "cell_type": "markdown",
   "id": "4e333b7d",
   "metadata": {},
   "source": [
    "**Pregunta:** ¿Qué películas obtuvieron mayor ganancia (ingresos - presupuesto)?"
   ]
  },
  {
   "cell_type": "code",
   "execution_count": 116,
   "id": "70a83b33",
   "metadata": {},
   "outputs": [
    {
     "data": {
      "text/plain": [
       "Index(['index', 'MovieID', 'Title', 'Lifetime Gross', 'Year', 'Studio',\n",
       "       'Rating', 'Runtime', 'Budget', 'ReleaseDate', 'VoteAvg', 'VoteCount',\n",
       "       'FranchiseID'],\n",
       "      dtype='object')"
      ]
     },
     "execution_count": 116,
     "metadata": {},
     "output_type": "execute_result"
    }
   ],
   "source": [
    "Movies.columns"
   ]
  },
  {
   "cell_type": "code",
   "execution_count": null,
   "id": "7100e36f",
   "metadata": {},
   "outputs": [
    {
     "name": "stdout",
     "output_type": "stream",
     "text": [
      "                                            Title      Budget  Estimated Gross\n",
      "0              Star Wars: Episode IV - A New Hope  11000000.0     1.207662e+07\n",
      "1  Star Wars: Episode V - The Empire Strikes Back  18000000.0     1.958956e+07\n",
      "2      Star Wars: Episode VI - Return of the Jedi  32500000.0     2.618855e+07\n",
      "3                                   Jurassic Park  63000000.0     5.720710e+07\n",
      "4                   The Lost World: Jurassic Park  73000000.0     7.770626e+07\n"
     ]
    }
   ],
   "source": [
    "# Tu código aquí\n",
    "import pandas as pd\n",
    "import random\n",
    "\n",
    "def generar_ingresos_aleatorios(budget):\n",
    "    min_variacion = 0.8  \n",
    "    max_variacion = 1.2  \n",
    "    return budget * random.uniform(min_variacion, max_variacion)\n",
    "Movies['Estimated Gross'] = Movies['Budget'].apply(generar_ingresos_aleatorios)\n",
    "print(Movies[['Title', 'Budget', 'Estimated Gross']].head())\n"
   ]
  },
  {
   "cell_type": "markdown",
   "id": "165ce1f0",
   "metadata": {},
   "source": [
    "**Pregunta:** ¿Cuántas películas hay por género?"
   ]
  },
  {
   "cell_type": "code",
   "execution_count": 123,
   "id": "6a92098e",
   "metadata": {},
   "outputs": [
    {
     "data": {
      "text/html": [
       "<div>\n",
       "<style scoped>\n",
       "    .dataframe tbody tr th:only-of-type {\n",
       "        vertical-align: middle;\n",
       "    }\n",
       "\n",
       "    .dataframe tbody tr th {\n",
       "        vertical-align: top;\n",
       "    }\n",
       "\n",
       "    .dataframe thead th {\n",
       "        text-align: right;\n",
       "    }\n",
       "</style>\n",
       "<table border=\"1\" class=\"dataframe\">\n",
       "  <thead>\n",
       "    <tr style=\"text-align: right;\">\n",
       "      <th></th>\n",
       "      <th>index</th>\n",
       "      <th>MovieID</th>\n",
       "      <th>Title</th>\n",
       "      <th>Lifetime Gross</th>\n",
       "      <th>Year</th>\n",
       "      <th>Studio</th>\n",
       "      <th>Rating</th>\n",
       "      <th>Runtime</th>\n",
       "      <th>Budget</th>\n",
       "      <th>ReleaseDate</th>\n",
       "      <th>VoteAvg</th>\n",
       "      <th>VoteCount</th>\n",
       "      <th>FranchiseID</th>\n",
       "      <th>Ganancia</th>\n",
       "      <th>Estimated Gross</th>\n",
       "      <th>Genero</th>\n",
       "    </tr>\n",
       "  </thead>\n",
       "  <tbody>\n",
       "    <tr>\n",
       "      <th>0</th>\n",
       "      <td>0</td>\n",
       "      <td>1001</td>\n",
       "      <td>Star Wars: Episode IV - A New Hope</td>\n",
       "      <td>775398007</td>\n",
       "      <td>1977</td>\n",
       "      <td>Lucasfilm</td>\n",
       "      <td>PG</td>\n",
       "      <td>121.0</td>\n",
       "      <td>11000000.0</td>\n",
       "      <td>05-25-77</td>\n",
       "      <td>4.09</td>\n",
       "      <td>96233.0</td>\n",
       "      <td>101.0</td>\n",
       "      <td>0.0</td>\n",
       "      <td>1.207662e+07</td>\n",
       "      <td>Terror</td>\n",
       "    </tr>\n",
       "    <tr>\n",
       "      <th>1</th>\n",
       "      <td>1</td>\n",
       "      <td>1002</td>\n",
       "      <td>Star Wars: Episode V - The Empire Strikes Back</td>\n",
       "      <td>538375067</td>\n",
       "      <td>1980</td>\n",
       "      <td>Lucasfilm</td>\n",
       "      <td>PG</td>\n",
       "      <td>124.0</td>\n",
       "      <td>18000000.0</td>\n",
       "      <td>06-20-80</td>\n",
       "      <td>4.12</td>\n",
       "      <td>79231.0</td>\n",
       "      <td>101.0</td>\n",
       "      <td>0.0</td>\n",
       "      <td>1.958956e+07</td>\n",
       "      <td>Terror</td>\n",
       "    </tr>\n",
       "    <tr>\n",
       "      <th>2</th>\n",
       "      <td>2</td>\n",
       "      <td>1003</td>\n",
       "      <td>Star Wars: Episode VI - Return of the Jedi</td>\n",
       "      <td>475106177</td>\n",
       "      <td>1983</td>\n",
       "      <td>Lucasfilm</td>\n",
       "      <td>PG</td>\n",
       "      <td>135.0</td>\n",
       "      <td>32500000.0</td>\n",
       "      <td>05-25-83</td>\n",
       "      <td>3.98</td>\n",
       "      <td>76082.0</td>\n",
       "      <td>101.0</td>\n",
       "      <td>0.0</td>\n",
       "      <td>2.618855e+07</td>\n",
       "      <td>Documental</td>\n",
       "    </tr>\n",
       "    <tr>\n",
       "      <th>3</th>\n",
       "      <td>3</td>\n",
       "      <td>1004</td>\n",
       "      <td>Jurassic Park</td>\n",
       "      <td>1109802321</td>\n",
       "      <td>1993</td>\n",
       "      <td>Universal Pictures</td>\n",
       "      <td>PG-13</td>\n",
       "      <td>127.0</td>\n",
       "      <td>63000000.0</td>\n",
       "      <td>06-11-93</td>\n",
       "      <td>3.69</td>\n",
       "      <td>82700.0</td>\n",
       "      <td>102.0</td>\n",
       "      <td>0.0</td>\n",
       "      <td>5.720710e+07</td>\n",
       "      <td>Accion</td>\n",
       "    </tr>\n",
       "    <tr>\n",
       "      <th>4</th>\n",
       "      <td>4</td>\n",
       "      <td>1005</td>\n",
       "      <td>The Lost World: Jurassic Park</td>\n",
       "      <td>618638999</td>\n",
       "      <td>1997</td>\n",
       "      <td>Universal Pictures</td>\n",
       "      <td>PG-13</td>\n",
       "      <td>129.0</td>\n",
       "      <td>73000000.0</td>\n",
       "      <td>05-23-97</td>\n",
       "      <td>3.01</td>\n",
       "      <td>19721.0</td>\n",
       "      <td>102.0</td>\n",
       "      <td>0.0</td>\n",
       "      <td>7.770626e+07</td>\n",
       "      <td>Accion</td>\n",
       "    </tr>\n",
       "    <tr>\n",
       "      <th>...</th>\n",
       "      <td>...</td>\n",
       "      <td>...</td>\n",
       "      <td>...</td>\n",
       "      <td>...</td>\n",
       "      <td>...</td>\n",
       "      <td>...</td>\n",
       "      <td>...</td>\n",
       "      <td>...</td>\n",
       "      <td>...</td>\n",
       "      <td>...</td>\n",
       "      <td>...</td>\n",
       "      <td>...</td>\n",
       "      <td>...</td>\n",
       "      <td>...</td>\n",
       "      <td>...</td>\n",
       "      <td>...</td>\n",
       "    </tr>\n",
       "    <tr>\n",
       "      <th>600</th>\n",
       "      <td>600</td>\n",
       "      <td>101</td>\n",
       "      <td>Star Wars</td>\n",
       "      <td>1977</td>\n",
       "      <td>George Lucas</td>\n",
       "      <td>NaN</td>\n",
       "      <td>NaN</td>\n",
       "      <td>NaN</td>\n",
       "      <td>NaN</td>\n",
       "      <td>NaN</td>\n",
       "      <td>NaN</td>\n",
       "      <td>NaN</td>\n",
       "      <td>NaN</td>\n",
       "      <td>NaN</td>\n",
       "      <td>NaN</td>\n",
       "      <td>Suspenso</td>\n",
       "    </tr>\n",
       "    <tr>\n",
       "      <th>601</th>\n",
       "      <td>601</td>\n",
       "      <td>102</td>\n",
       "      <td>Jurassic Park</td>\n",
       "      <td>1993</td>\n",
       "      <td>Michael Crichton</td>\n",
       "      <td>NaN</td>\n",
       "      <td>NaN</td>\n",
       "      <td>NaN</td>\n",
       "      <td>NaN</td>\n",
       "      <td>NaN</td>\n",
       "      <td>NaN</td>\n",
       "      <td>NaN</td>\n",
       "      <td>NaN</td>\n",
       "      <td>NaN</td>\n",
       "      <td>NaN</td>\n",
       "      <td>Terror</td>\n",
       "    </tr>\n",
       "    <tr>\n",
       "      <th>602</th>\n",
       "      <td>602</td>\n",
       "      <td>103</td>\n",
       "      <td>Wizarding World</td>\n",
       "      <td>2001</td>\n",
       "      <td>J. K. Rowling</td>\n",
       "      <td>NaN</td>\n",
       "      <td>NaN</td>\n",
       "      <td>NaN</td>\n",
       "      <td>NaN</td>\n",
       "      <td>NaN</td>\n",
       "      <td>NaN</td>\n",
       "      <td>NaN</td>\n",
       "      <td>NaN</td>\n",
       "      <td>NaN</td>\n",
       "      <td>NaN</td>\n",
       "      <td>Accion</td>\n",
       "    </tr>\n",
       "    <tr>\n",
       "      <th>603</th>\n",
       "      <td>603</td>\n",
       "      <td>104</td>\n",
       "      <td>Middle Earth</td>\n",
       "      <td>2001</td>\n",
       "      <td>J. R. R. Tolkien</td>\n",
       "      <td>NaN</td>\n",
       "      <td>NaN</td>\n",
       "      <td>NaN</td>\n",
       "      <td>NaN</td>\n",
       "      <td>NaN</td>\n",
       "      <td>NaN</td>\n",
       "      <td>NaN</td>\n",
       "      <td>NaN</td>\n",
       "      <td>NaN</td>\n",
       "      <td>NaN</td>\n",
       "      <td>Documental</td>\n",
       "    </tr>\n",
       "    <tr>\n",
       "      <th>604</th>\n",
       "      <td>604</td>\n",
       "      <td>105</td>\n",
       "      <td>MCU</td>\n",
       "      <td>2008</td>\n",
       "      <td>Stan Lee</td>\n",
       "      <td>NaN</td>\n",
       "      <td>NaN</td>\n",
       "      <td>NaN</td>\n",
       "      <td>NaN</td>\n",
       "      <td>NaN</td>\n",
       "      <td>NaN</td>\n",
       "      <td>NaN</td>\n",
       "      <td>NaN</td>\n",
       "      <td>NaN</td>\n",
       "      <td>NaN</td>\n",
       "      <td>Suspenso</td>\n",
       "    </tr>\n",
       "  </tbody>\n",
       "</table>\n",
       "<p>605 rows × 16 columns</p>\n",
       "</div>"
      ],
      "text/plain": [
       "     index MovieID                                           Title  \\\n",
       "0        0    1001              Star Wars: Episode IV - A New Hope   \n",
       "1        1    1002  Star Wars: Episode V - The Empire Strikes Back   \n",
       "2        2    1003      Star Wars: Episode VI - Return of the Jedi   \n",
       "3        3    1004                                   Jurassic Park   \n",
       "4        4    1005                   The Lost World: Jurassic Park   \n",
       "..     ...     ...                                             ...   \n",
       "600    600     101                                       Star Wars   \n",
       "601    601     102                                   Jurassic Park   \n",
       "602    602     103                                 Wizarding World   \n",
       "603    603     104                                    Middle Earth   \n",
       "604    604     105                                             MCU   \n",
       "\n",
       "    Lifetime Gross              Year              Studio Rating  Runtime  \\\n",
       "0        775398007              1977           Lucasfilm     PG    121.0   \n",
       "1        538375067              1980           Lucasfilm     PG    124.0   \n",
       "2        475106177              1983           Lucasfilm     PG    135.0   \n",
       "3       1109802321              1993  Universal Pictures  PG-13    127.0   \n",
       "4        618638999              1997  Universal Pictures  PG-13    129.0   \n",
       "..             ...               ...                 ...    ...      ...   \n",
       "600           1977      George Lucas                 NaN    NaN      NaN   \n",
       "601           1993  Michael Crichton                 NaN    NaN      NaN   \n",
       "602           2001     J. K. Rowling                 NaN    NaN      NaN   \n",
       "603           2001  J. R. R. Tolkien                 NaN    NaN      NaN   \n",
       "604           2008          Stan Lee                 NaN    NaN      NaN   \n",
       "\n",
       "         Budget ReleaseDate  VoteAvg  VoteCount  FranchiseID  Ganancia  \\\n",
       "0    11000000.0    05-25-77     4.09    96233.0        101.0       0.0   \n",
       "1    18000000.0    06-20-80     4.12    79231.0        101.0       0.0   \n",
       "2    32500000.0    05-25-83     3.98    76082.0        101.0       0.0   \n",
       "3    63000000.0    06-11-93     3.69    82700.0        102.0       0.0   \n",
       "4    73000000.0    05-23-97     3.01    19721.0        102.0       0.0   \n",
       "..          ...         ...      ...        ...          ...       ...   \n",
       "600         NaN         NaN      NaN        NaN          NaN       NaN   \n",
       "601         NaN         NaN      NaN        NaN          NaN       NaN   \n",
       "602         NaN         NaN      NaN        NaN          NaN       NaN   \n",
       "603         NaN         NaN      NaN        NaN          NaN       NaN   \n",
       "604         NaN         NaN      NaN        NaN          NaN       NaN   \n",
       "\n",
       "     Estimated Gross      Genero  \n",
       "0       1.207662e+07      Terror  \n",
       "1       1.958956e+07      Terror  \n",
       "2       2.618855e+07  Documental  \n",
       "3       5.720710e+07      Accion  \n",
       "4       7.770626e+07      Accion  \n",
       "..               ...         ...  \n",
       "600              NaN    Suspenso  \n",
       "601              NaN      Terror  \n",
       "602              NaN      Accion  \n",
       "603              NaN  Documental  \n",
       "604              NaN    Suspenso  \n",
       "\n",
       "[605 rows x 16 columns]"
      ]
     },
     "execution_count": 123,
     "metadata": {},
     "output_type": "execute_result"
    }
   ],
   "source": [
    "import random\n",
    "Movies['Genero'] = [random.choice(['Terror', 'Accion', 'Documental', 'Suspenso']) for _ in range(len(Movies))]\n",
    "Movies"
   ]
  },
  {
   "cell_type": "markdown",
   "id": "aac0319c",
   "metadata": {},
   "source": [
    "**Pregunta:** ¿Existen películas con presupuesto o ingresos nulos?"
   ]
  },
  {
   "cell_type": "code",
   "execution_count": 125,
   "id": "2f114905",
   "metadata": {},
   "outputs": [
    {
     "data": {
      "text/html": [
       "<div>\n",
       "<style scoped>\n",
       "    .dataframe tbody tr th:only-of-type {\n",
       "        vertical-align: middle;\n",
       "    }\n",
       "\n",
       "    .dataframe tbody tr th {\n",
       "        vertical-align: top;\n",
       "    }\n",
       "\n",
       "    .dataframe thead th {\n",
       "        text-align: right;\n",
       "    }\n",
       "</style>\n",
       "<table border=\"1\" class=\"dataframe\">\n",
       "  <thead>\n",
       "    <tr style=\"text-align: right;\">\n",
       "      <th></th>\n",
       "      <th>index</th>\n",
       "      <th>MovieID</th>\n",
       "      <th>Title</th>\n",
       "      <th>Lifetime Gross</th>\n",
       "      <th>Year</th>\n",
       "      <th>Studio</th>\n",
       "      <th>Rating</th>\n",
       "      <th>Runtime</th>\n",
       "      <th>Budget</th>\n",
       "      <th>ReleaseDate</th>\n",
       "      <th>VoteAvg</th>\n",
       "      <th>VoteCount</th>\n",
       "      <th>FranchiseID</th>\n",
       "      <th>Ganancia</th>\n",
       "      <th>Estimated Gross</th>\n",
       "      <th>Genero</th>\n",
       "    </tr>\n",
       "  </thead>\n",
       "  <tbody>\n",
       "    <tr>\n",
       "      <th>60</th>\n",
       "      <td>60</td>\n",
       "      <td>MovieCastID</td>\n",
       "      <td>MovieID</td>\n",
       "      <td>ActorName</td>\n",
       "      <td>NaN</td>\n",
       "      <td>NaN</td>\n",
       "      <td>NaN</td>\n",
       "      <td>NaN</td>\n",
       "      <td>NaN</td>\n",
       "      <td>NaN</td>\n",
       "      <td>NaN</td>\n",
       "      <td>NaN</td>\n",
       "      <td>NaN</td>\n",
       "      <td>NaN</td>\n",
       "      <td>NaN</td>\n",
       "      <td>Suspenso</td>\n",
       "    </tr>\n",
       "    <tr>\n",
       "      <th>61</th>\n",
       "      <td>61</td>\n",
       "      <td>1001</td>\n",
       "      <td>1001</td>\n",
       "      <td>Mark Hamill</td>\n",
       "      <td>NaN</td>\n",
       "      <td>NaN</td>\n",
       "      <td>NaN</td>\n",
       "      <td>NaN</td>\n",
       "      <td>NaN</td>\n",
       "      <td>NaN</td>\n",
       "      <td>NaN</td>\n",
       "      <td>NaN</td>\n",
       "      <td>NaN</td>\n",
       "      <td>NaN</td>\n",
       "      <td>NaN</td>\n",
       "      <td>Terror</td>\n",
       "    </tr>\n",
       "    <tr>\n",
       "      <th>62</th>\n",
       "      <td>62</td>\n",
       "      <td>1002</td>\n",
       "      <td>1001</td>\n",
       "      <td>Harrison Ford</td>\n",
       "      <td>NaN</td>\n",
       "      <td>NaN</td>\n",
       "      <td>NaN</td>\n",
       "      <td>NaN</td>\n",
       "      <td>NaN</td>\n",
       "      <td>NaN</td>\n",
       "      <td>NaN</td>\n",
       "      <td>NaN</td>\n",
       "      <td>NaN</td>\n",
       "      <td>NaN</td>\n",
       "      <td>NaN</td>\n",
       "      <td>Terror</td>\n",
       "    </tr>\n",
       "    <tr>\n",
       "      <th>63</th>\n",
       "      <td>63</td>\n",
       "      <td>1003</td>\n",
       "      <td>1001</td>\n",
       "      <td>Carrie Fisher</td>\n",
       "      <td>NaN</td>\n",
       "      <td>NaN</td>\n",
       "      <td>NaN</td>\n",
       "      <td>NaN</td>\n",
       "      <td>NaN</td>\n",
       "      <td>NaN</td>\n",
       "      <td>NaN</td>\n",
       "      <td>NaN</td>\n",
       "      <td>NaN</td>\n",
       "      <td>NaN</td>\n",
       "      <td>NaN</td>\n",
       "      <td>Suspenso</td>\n",
       "    </tr>\n",
       "    <tr>\n",
       "      <th>64</th>\n",
       "      <td>64</td>\n",
       "      <td>1004</td>\n",
       "      <td>1001</td>\n",
       "      <td>Peter Cushing</td>\n",
       "      <td>NaN</td>\n",
       "      <td>NaN</td>\n",
       "      <td>NaN</td>\n",
       "      <td>NaN</td>\n",
       "      <td>NaN</td>\n",
       "      <td>NaN</td>\n",
       "      <td>NaN</td>\n",
       "      <td>NaN</td>\n",
       "      <td>NaN</td>\n",
       "      <td>NaN</td>\n",
       "      <td>NaN</td>\n",
       "      <td>Suspenso</td>\n",
       "    </tr>\n",
       "    <tr>\n",
       "      <th>...</th>\n",
       "      <td>...</td>\n",
       "      <td>...</td>\n",
       "      <td>...</td>\n",
       "      <td>...</td>\n",
       "      <td>...</td>\n",
       "      <td>...</td>\n",
       "      <td>...</td>\n",
       "      <td>...</td>\n",
       "      <td>...</td>\n",
       "      <td>...</td>\n",
       "      <td>...</td>\n",
       "      <td>...</td>\n",
       "      <td>...</td>\n",
       "      <td>...</td>\n",
       "      <td>...</td>\n",
       "      <td>...</td>\n",
       "    </tr>\n",
       "    <tr>\n",
       "      <th>600</th>\n",
       "      <td>600</td>\n",
       "      <td>101</td>\n",
       "      <td>Star Wars</td>\n",
       "      <td>1977</td>\n",
       "      <td>George Lucas</td>\n",
       "      <td>NaN</td>\n",
       "      <td>NaN</td>\n",
       "      <td>NaN</td>\n",
       "      <td>NaN</td>\n",
       "      <td>NaN</td>\n",
       "      <td>NaN</td>\n",
       "      <td>NaN</td>\n",
       "      <td>NaN</td>\n",
       "      <td>NaN</td>\n",
       "      <td>NaN</td>\n",
       "      <td>Suspenso</td>\n",
       "    </tr>\n",
       "    <tr>\n",
       "      <th>601</th>\n",
       "      <td>601</td>\n",
       "      <td>102</td>\n",
       "      <td>Jurassic Park</td>\n",
       "      <td>1993</td>\n",
       "      <td>Michael Crichton</td>\n",
       "      <td>NaN</td>\n",
       "      <td>NaN</td>\n",
       "      <td>NaN</td>\n",
       "      <td>NaN</td>\n",
       "      <td>NaN</td>\n",
       "      <td>NaN</td>\n",
       "      <td>NaN</td>\n",
       "      <td>NaN</td>\n",
       "      <td>NaN</td>\n",
       "      <td>NaN</td>\n",
       "      <td>Terror</td>\n",
       "    </tr>\n",
       "    <tr>\n",
       "      <th>602</th>\n",
       "      <td>602</td>\n",
       "      <td>103</td>\n",
       "      <td>Wizarding World</td>\n",
       "      <td>2001</td>\n",
       "      <td>J. K. Rowling</td>\n",
       "      <td>NaN</td>\n",
       "      <td>NaN</td>\n",
       "      <td>NaN</td>\n",
       "      <td>NaN</td>\n",
       "      <td>NaN</td>\n",
       "      <td>NaN</td>\n",
       "      <td>NaN</td>\n",
       "      <td>NaN</td>\n",
       "      <td>NaN</td>\n",
       "      <td>NaN</td>\n",
       "      <td>Accion</td>\n",
       "    </tr>\n",
       "    <tr>\n",
       "      <th>603</th>\n",
       "      <td>603</td>\n",
       "      <td>104</td>\n",
       "      <td>Middle Earth</td>\n",
       "      <td>2001</td>\n",
       "      <td>J. R. R. Tolkien</td>\n",
       "      <td>NaN</td>\n",
       "      <td>NaN</td>\n",
       "      <td>NaN</td>\n",
       "      <td>NaN</td>\n",
       "      <td>NaN</td>\n",
       "      <td>NaN</td>\n",
       "      <td>NaN</td>\n",
       "      <td>NaN</td>\n",
       "      <td>NaN</td>\n",
       "      <td>NaN</td>\n",
       "      <td>Documental</td>\n",
       "    </tr>\n",
       "    <tr>\n",
       "      <th>604</th>\n",
       "      <td>604</td>\n",
       "      <td>105</td>\n",
       "      <td>MCU</td>\n",
       "      <td>2008</td>\n",
       "      <td>Stan Lee</td>\n",
       "      <td>NaN</td>\n",
       "      <td>NaN</td>\n",
       "      <td>NaN</td>\n",
       "      <td>NaN</td>\n",
       "      <td>NaN</td>\n",
       "      <td>NaN</td>\n",
       "      <td>NaN</td>\n",
       "      <td>NaN</td>\n",
       "      <td>NaN</td>\n",
       "      <td>NaN</td>\n",
       "      <td>Suspenso</td>\n",
       "    </tr>\n",
       "  </tbody>\n",
       "</table>\n",
       "<p>545 rows × 16 columns</p>\n",
       "</div>"
      ],
      "text/plain": [
       "     index      MovieID            Title Lifetime Gross              Year  \\\n",
       "60      60  MovieCastID          MovieID      ActorName               NaN   \n",
       "61      61         1001             1001    Mark Hamill               NaN   \n",
       "62      62         1002             1001  Harrison Ford               NaN   \n",
       "63      63         1003             1001  Carrie Fisher               NaN   \n",
       "64      64         1004             1001  Peter Cushing               NaN   \n",
       "..     ...          ...              ...            ...               ...   \n",
       "600    600          101        Star Wars           1977      George Lucas   \n",
       "601    601          102    Jurassic Park           1993  Michael Crichton   \n",
       "602    602          103  Wizarding World           2001     J. K. Rowling   \n",
       "603    603          104     Middle Earth           2001  J. R. R. Tolkien   \n",
       "604    604          105              MCU           2008          Stan Lee   \n",
       "\n",
       "    Studio Rating  Runtime  Budget ReleaseDate  VoteAvg  VoteCount  \\\n",
       "60     NaN    NaN      NaN     NaN         NaN      NaN        NaN   \n",
       "61     NaN    NaN      NaN     NaN         NaN      NaN        NaN   \n",
       "62     NaN    NaN      NaN     NaN         NaN      NaN        NaN   \n",
       "63     NaN    NaN      NaN     NaN         NaN      NaN        NaN   \n",
       "64     NaN    NaN      NaN     NaN         NaN      NaN        NaN   \n",
       "..     ...    ...      ...     ...         ...      ...        ...   \n",
       "600    NaN    NaN      NaN     NaN         NaN      NaN        NaN   \n",
       "601    NaN    NaN      NaN     NaN         NaN      NaN        NaN   \n",
       "602    NaN    NaN      NaN     NaN         NaN      NaN        NaN   \n",
       "603    NaN    NaN      NaN     NaN         NaN      NaN        NaN   \n",
       "604    NaN    NaN      NaN     NaN         NaN      NaN        NaN   \n",
       "\n",
       "     FranchiseID  Ganancia  Estimated Gross      Genero  \n",
       "60           NaN       NaN              NaN    Suspenso  \n",
       "61           NaN       NaN              NaN      Terror  \n",
       "62           NaN       NaN              NaN      Terror  \n",
       "63           NaN       NaN              NaN    Suspenso  \n",
       "64           NaN       NaN              NaN    Suspenso  \n",
       "..           ...       ...              ...         ...  \n",
       "600          NaN       NaN              NaN    Suspenso  \n",
       "601          NaN       NaN              NaN      Terror  \n",
       "602          NaN       NaN              NaN      Accion  \n",
       "603          NaN       NaN              NaN  Documental  \n",
       "604          NaN       NaN              NaN    Suspenso  \n",
       "\n",
       "[545 rows x 16 columns]"
      ]
     },
     "execution_count": 125,
     "metadata": {},
     "output_type": "execute_result"
    }
   ],
   "source": [
    "Movies[(Movies[\"Budget\"].isna()) | (Movies[\"Budget\"] == 0) |\n",
    "       (Movies[\"Lifetime Gross\"].isna()) | (Movies[\"Lifetime Gross\"] == 0)]\n",
    "\n"
   ]
  },
  {
   "cell_type": "markdown",
   "id": "c6fcf2bc",
   "metadata": {},
   "source": [
    "**Pregunta:** Crea una nueva columna de rentabilidad (ganancia/presupuesto)."
   ]
  },
  {
   "cell_type": "code",
   "execution_count": 145,
   "id": "be53a91d",
   "metadata": {},
   "outputs": [
    {
     "name": "stdout",
     "output_type": "stream",
     "text": [
      "                                            Title Lifetime Gross      Budget  \\\n",
      "0              Star Wars: Episode IV - A New Hope      775398007  11000000.0   \n",
      "1  Star Wars: Episode V - The Empire Strikes Back      538375067  18000000.0   \n",
      "2      Star Wars: Episode VI - Return of the Jedi      475106177  32500000.0   \n",
      "3                                   Jurassic Park     1109802321  63000000.0   \n",
      "4                   The Lost World: Jurassic Park      618638999  73000000.0   \n",
      "\n",
      "   Ganancia  Rentabilidad  \n",
      "0       0.0           0.0  \n",
      "1       0.0           0.0  \n",
      "2       0.0           0.0  \n",
      "3       0.0           0.0  \n",
      "4       0.0           0.0  \n"
     ]
    }
   ],
   "source": [
    "Movies['Rentabilidad'] = Movies['Ganancia'] / Movies['Budget']\n",
    "print(Movies[['Title', 'Lifetime Gross', 'Budget', 'Ganancia', 'Rentabilidad']].head())\n"
   ]
  },
  {
   "cell_type": "markdown",
   "id": "3b4f305a",
   "metadata": {},
   "source": [
    "## 🌦️ Climate Insights Dataset"
   ]
  },
  {
   "cell_type": "markdown",
   "id": "52a90026",
   "metadata": {},
   "source": [
    "🔗 Dataset disponible en: [https://www.kaggle.com/datasets/goyaladi/climate-insights-dataset?utm_source=chatgpt.com](https://www.kaggle.com/datasets/goyaladi/climate-insights-dataset?utm_source=chatgpt.com)"
   ]
  },
  {
   "cell_type": "code",
   "execution_count": 127,
   "id": "7150857a",
   "metadata": {},
   "outputs": [],
   "source": [
    "import pandas as pd"
   ]
  },
  {
   "cell_type": "code",
   "execution_count": 128,
   "id": "ba49b268",
   "metadata": {},
   "outputs": [],
   "source": [
    "climate = pd.read_csv(\"DataSets/climate_change_data.csv\")"
   ]
  },
  {
   "cell_type": "markdown",
   "id": "ecca5780",
   "metadata": {},
   "source": [
    "**Pregunta:** ¿Cuántos registros hay por año?"
   ]
  },
  {
   "cell_type": "code",
   "execution_count": 130,
   "id": "1cbc491b",
   "metadata": {},
   "outputs": [
    {
     "data": {
      "text/plain": [
       "Index(['Date', 'Location', 'Country', 'Temperature', 'CO2 Emissions',\n",
       "       'Sea Level Rise', 'Precipitation', 'Humidity', 'Wind Speed'],\n",
       "      dtype='object')"
      ]
     },
     "execution_count": 130,
     "metadata": {},
     "output_type": "execute_result"
    }
   ],
   "source": [
    "climate.columns"
   ]
  },
  {
   "cell_type": "code",
   "execution_count": null,
   "id": "9231b5f3",
   "metadata": {},
   "outputs": [
    {
     "data": {
      "text/plain": [
       "Year\n",
       "2000    436\n",
       "2001    435\n",
       "2002    434\n",
       "2003    435\n",
       "2004    435\n",
       "2005    435\n",
       "2006    434\n",
       "2007    435\n",
       "2008    435\n",
       "2009    435\n",
       "2010    434\n",
       "2011    435\n",
       "2012    436\n",
       "2013    434\n",
       "2014    434\n",
       "2015    435\n",
       "2016    436\n",
       "2017    434\n",
       "2018    435\n",
       "2019    434\n",
       "2020    436\n",
       "2021    434\n",
       "2022    434\n",
       "dtype: int64"
      ]
     },
     "execution_count": 132,
     "metadata": {},
     "output_type": "execute_result"
    }
   ],
   "source": [
    "# Tu código aquí\n",
    "\n",
    "climate['Year'] = climate['Date'].dt.year\n",
    "climate.groupby('Year').size()\n",
    "\n"
   ]
  },
  {
   "cell_type": "markdown",
   "id": "58ab7dce",
   "metadata": {},
   "source": [
    "**Pregunta:** ¿Cuál es la temperatura media mensual más alta y más baja?"
   ]
  },
  {
   "cell_type": "code",
   "execution_count": 135,
   "id": "1daf20b0",
   "metadata": {},
   "outputs": [
    {
     "name": "stdout",
     "output_type": "stream",
     "text": [
      "Mes con temperatura media más alta: 11 (15.29°C)\n",
      "Mes con temperatura media más baja: 4 (14.75°C)\n"
     ]
    }
   ],
   "source": [
    "# Tu código aquí\n",
    "climate['Month'] = climate['Date'].dt.month\n",
    "\n",
    "mes_max = temp_media_mensual.idxmax()\n",
    "temp_max = temp_media_mensual.max()\n",
    "\n",
    "mes_min = temp_media_mensual.idxmin()\n",
    "temp_min = temp_media_mensual.min()\n",
    "\n",
    "print(f\"Mes con temperatura media más alta: {mes_max} ({temp_max:.2f}°C)\")\n",
    "print(f\"Mes con temperatura media más baja: {mes_min} ({temp_min:.2f}°C)\")"
   ]
  },
  {
   "cell_type": "markdown",
   "id": "95b01411",
   "metadata": {},
   "source": [
    "**Pregunta:** ¿Qué meses tienen mayor precipitación?"
   ]
  },
  {
   "cell_type": "code",
   "execution_count": 136,
   "id": "efb74993",
   "metadata": {},
   "outputs": [
    {
     "name": "stdout",
     "output_type": "stream",
     "text": [
      "Month\n",
      "5     43144.962842\n",
      "3     42869.727342\n",
      "10    42654.633473\n",
      "12    42500.932188\n",
      "1     41923.681776\n",
      "9     41828.135719\n",
      "7     41267.060682\n",
      "4     41207.802504\n",
      "6     41206.965759\n",
      "8     40986.871087\n",
      "11    40968.691625\n",
      "2     38252.610826\n",
      "Name: Precipitation, dtype: float64\n"
     ]
    }
   ],
   "source": [
    "# Tu código aquí\n",
    "precip_total_mensual = climate.groupby('Month')['Precipitation'].sum().sort_values(ascending=False)\n",
    "print(precip_total_mensual)\n"
   ]
  },
  {
   "cell_type": "markdown",
   "id": "adc9f249",
   "metadata": {},
   "source": [
    "**Pregunta:** ¿Existen valores faltantes en alguna columna?"
   ]
  },
  {
   "cell_type": "code",
   "execution_count": 137,
   "id": "1dce4e97",
   "metadata": {},
   "outputs": [
    {
     "data": {
      "text/plain": [
       "Date              0\n",
       "Location          0\n",
       "Country           0\n",
       "Temperature       0\n",
       "CO2 Emissions     0\n",
       "Sea Level Rise    0\n",
       "Precipitation     0\n",
       "Humidity          0\n",
       "Wind Speed        0\n",
       "Year              0\n",
       "Month             0\n",
       "dtype: int64"
      ]
     },
     "execution_count": 137,
     "metadata": {},
     "output_type": "execute_result"
    }
   ],
   "source": [
    "# Tu código aquí\n",
    "climate.isnull().sum()"
   ]
  },
  {
   "cell_type": "markdown",
   "id": "10731388",
   "metadata": {},
   "source": [
    "**Pregunta:** Agrupa por estación del año y calcula la media de temperatura."
   ]
  },
  {
   "cell_type": "code",
   "execution_count": 138,
   "id": "4c006a3d",
   "metadata": {},
   "outputs": [
    {
     "data": {
      "text/plain": [
       "Season\n",
       "Invierno     14.957014\n",
       "Otoño        15.003823\n",
       "Primavera    14.809827\n",
       "Verano       14.974683\n",
       "Name: Temperature, dtype: float64"
      ]
     },
     "execution_count": 138,
     "metadata": {},
     "output_type": "execute_result"
    }
   ],
   "source": [
    "# Tu código aquí\n",
    "climate['Date'] = pd.to_datetime(climate['Date'])\n",
    "\n",
    "def get_season(month):\n",
    "    if month in [12, 1, 2]:\n",
    "        return 'Invierno'\n",
    "    elif month in [3, 4, 5]:\n",
    "        return 'Primavera'\n",
    "    elif month in [6, 7, 8]:\n",
    "        return 'Verano'\n",
    "    else:\n",
    "        return 'Otoño'\n",
    "\n",
    "climate['Season'] = climate['Date'].dt.month.apply(get_season)\n",
    "\n",
    "climate.groupby('Season')['Temperature'].mean()\n"
   ]
  },
  {
   "cell_type": "markdown",
   "id": "f77184d2",
   "metadata": {},
   "source": [
    "**Pregunta:** Crea una columna que clasifique los días como 'calurosos' o 'templados'."
   ]
  },
  {
   "cell_type": "code",
   "execution_count": 139,
   "id": "8da1b54b",
   "metadata": {},
   "outputs": [],
   "source": [
    "# Tu código aquí\n",
    "climate['Clima'] = climate['Temperature'].apply(lambda x: 'caluroso' if x > 25 else 'templado')\n"
   ]
  },
  {
   "cell_type": "markdown",
   "id": "4dac89b0",
   "metadata": {},
   "source": [
    "**Pregunta:** Genera una pivot_table que muestre la temperatura promedio por año y mes."
   ]
  },
  {
   "cell_type": "code",
   "execution_count": null,
   "id": "510b6d89",
   "metadata": {},
   "outputs": [
    {
     "name": "stdout",
     "output_type": "stream",
     "text": [
      "Mes          1          2          3          4          5          6   \\\n",
      "Año                                                                      \n",
      "2000  14.206357  13.932424  16.353462  14.956865  15.447593  15.312805   \n",
      "2001  14.708201  16.514600  13.973159  15.036136  14.800959  14.723588   \n",
      "2002  13.620897  14.760417  14.212325  13.850515  13.673576  13.502537   \n",
      "2003  14.885562  16.854469  14.114849  14.987196  14.129527  14.842865   \n",
      "2004  15.914895  13.717340  14.815031  15.814182  15.283723  15.279225   \n",
      "2005  15.310610  14.956032  16.763042  14.461071  16.430089  15.204628   \n",
      "2006  13.021321  14.050059  16.181762  14.232334  15.479402  16.405412   \n",
      "2007  14.419660  14.287890  14.973328  13.083154  15.425498  16.270065   \n",
      "2008  15.947948  15.317924  14.456524  14.146105  15.636002  15.028988   \n",
      "2009  15.004275  13.500589  14.986215  13.581644  13.945644  14.644463   \n",
      "2010  16.430713  16.602293  13.796567  14.304352  14.307113  14.671207   \n",
      "2011  14.799867  13.479437  15.693903  15.139654  14.684203  15.105863   \n",
      "2012  15.014508  14.846005  13.295717  15.058723  13.914326  14.940604   \n",
      "2013  14.817513  15.026508  15.169225  15.652592  15.699235  15.624625   \n",
      "2014  14.211216  17.750663  14.098651  16.129610  15.228852  13.684015   \n",
      "2015  14.241782  15.033940  14.004943  16.138518  14.196789  14.114472   \n",
      "2016  14.670316  15.497960  15.300441  15.048309  16.276688  13.696816   \n",
      "2017  14.916962  16.109878  14.875714  14.620956  14.702661  14.718316   \n",
      "2018  14.459322  13.972831  16.687060  15.402600  13.581579  15.342407   \n",
      "2019  14.979902  15.127148  15.228717  15.051345  15.698920  15.217087   \n",
      "2020  16.365128  16.494077  14.513129  13.769750  14.111491  15.371135   \n",
      "2021  15.004946  14.917552  15.611437  15.020317  14.224062  15.239940   \n",
      "2022  13.855182  16.237678  12.730452  13.669461  14.048418  14.726455   \n",
      "\n",
      "Mes          7          8          9          10         11         12  \n",
      "Año                                                                     \n",
      "2000  15.628546  15.079403  14.245601  14.634586  15.791594  14.747044  \n",
      "2001  15.254576  15.039348  14.480689  14.634459  15.584229  14.721999  \n",
      "2002  15.576326  14.671967  16.328612  14.936858  15.609769  14.881162  \n",
      "2003  15.227706  15.968507  15.345826  14.831173  15.958393  14.932671  \n",
      "2004  16.452629  15.951439  14.279708  15.091279  15.018508  15.603309  \n",
      "2005  15.133922  15.070869  15.637863  15.126200  16.467725  14.171810  \n",
      "2006  14.475120  13.628186  15.726648  15.800620  14.232370  15.692140  \n",
      "2007  15.347496  15.393289  16.682545  15.696156  15.788519  15.113820  \n",
      "2008  14.423550  15.095044  14.290230  13.657560  15.499798  14.481284  \n",
      "2009  14.477702  16.043215  13.838197  13.994606  14.802935  14.848085  \n",
      "2010  14.375021  14.925134  14.717537  15.053192  14.369786  13.809852  \n",
      "2011  15.690435  15.687834  13.865234  15.437654  15.467247  16.068971  \n",
      "2012  14.006859  13.204141  15.538426  14.538936  15.288107  14.969530  \n",
      "2013  15.951572  14.614062  14.210218  14.339588  14.792342  13.711844  \n",
      "2014  15.053259  13.415877  15.484833  16.763142  15.735282  15.005282  \n",
      "2015  14.048836  14.783575  15.314595  14.618449  14.371005  14.182403  \n",
      "2016  14.551097  15.774117  13.637672  15.458059  15.202107  15.238861  \n",
      "2017  14.430206  16.142818  15.179017  13.392676  14.928116  14.321032  \n",
      "2018  14.933499  15.235965  13.976580  14.518844  13.422849  14.163839  \n",
      "2019  15.397701  14.697973  13.085429  14.792796  16.787389  15.076437  \n",
      "2020  14.828948  14.722336  16.534824  13.441375  15.383780  15.929036  \n",
      "2021  14.669112  14.603044  15.945297  15.155843  15.000113  16.138813  \n",
      "2022  15.354888  14.516170  14.715461  14.762771  16.138990  15.065756  \n"
     ]
    }
   ],
   "source": [
    "# Tu código aquí\n",
    "climate['Date'] = pd.to_datetime(climate['Date'])\n",
    "\n",
    "\n",
    "climate['Año'] = climate['Date'].dt.year\n",
    "climate['Mes'] = climate['Date'].dt.month\n",
    "\n",
    "\n",
    "tabla_temp = climate.pivot_table(\n",
    "    values='Temperature',\n",
    "    index='Año',\n",
    "    columns='Mes',\n",
    "    aggfunc='mean'\n",
    ")\n",
    "\n",
    "print(tabla_temp)\n"
   ]
  }
 ],
 "metadata": {
  "kernelspec": {
   "display_name": "Python 3",
   "language": "python",
   "name": "python3"
  },
  "language_info": {
   "codemirror_mode": {
    "name": "ipython",
    "version": 3
   },
   "file_extension": ".py",
   "mimetype": "text/x-python",
   "name": "python",
   "nbconvert_exporter": "python",
   "pygments_lexer": "ipython3",
   "version": "3.13.6"
  }
 },
 "nbformat": 4,
 "nbformat_minor": 5
}
