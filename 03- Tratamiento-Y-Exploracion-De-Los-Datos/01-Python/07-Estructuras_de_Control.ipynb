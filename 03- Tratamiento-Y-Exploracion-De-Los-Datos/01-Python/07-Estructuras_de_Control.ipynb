{
 "cells": [
  {
   "cell_type": "markdown",
   "id": "bcb044a2",
   "metadata": {},
   "source": [
    "## Estructiras de Control\n",
    "\n",
    "### Objetivos:\n",
    "    - Concer las estructuras de control, como funcionan y para que sirven\n",
    "\n",
    "---\n",
    "\n",
    "### Desarrollo"
   ]
  },
  {
   "cell_type": "markdown",
   "id": "7443835d",
   "metadata": {},
   "source": [
    "Queremos darle a nuestro programa la capacidad de tomar decisiones. Esto puede hacerce utilizando una `sentencia if` utiliza una comparacion para obtener un boolean. Si el booleano es `True`, el bloque de la sentencia se ejecuta. Si el booleano es `False` nos saltamos a lo que sigue después del bloque"
   ]
  },
  {
   "cell_type": "code",
   "execution_count": 2,
   "id": "7ccbe139",
   "metadata": {},
   "outputs": [],
   "source": [
    "var_1 = 4\n",
    "var_2 = 5"
   ]
  },
  {
   "cell_type": "code",
   "execution_count": 3,
   "id": "391cded7",
   "metadata": {},
   "outputs": [
    {
     "name": "stdout",
     "output_type": "stream",
     "text": [
      "El bloque se ha ejecutado\n"
     ]
    }
   ],
   "source": [
    "if var_1 < var_2:\n",
    "    print(\"El bloque se ha ejecutado\")"
   ]
  },
  {
   "cell_type": "code",
   "execution_count": 1,
   "id": "f58eb537",
   "metadata": {},
   "outputs": [
    {
     "name": "stdout",
     "output_type": "stream",
     "text": [
      "El numero 5 es menor que el numero 8\n"
     ]
    }
   ],
   "source": [
    "var_1 = int(input('Introduce el Valor'))\n",
    "var_2 = int(input('Introduce el valor'))\n",
    "\n",
    "if var_1 < var_2:\n",
    "    print(f'El numero {var_1} es menor que el numero {var_2}')"
   ]
  },
  {
   "cell_type": "code",
   "execution_count": 2,
   "id": "64a08d64",
   "metadata": {},
   "outputs": [],
   "source": [
    "# Función que solicitar un valor\n",
    "def solicitar ():\n",
    "    return int(input('Introduce el valor'))"
   ]
  },
  {
   "cell_type": "code",
   "execution_count": 3,
   "id": "194ff78b",
   "metadata": {},
   "outputs": [],
   "source": [
    "# Funcion que hace la comparación\n",
    "\n",
    "def comparar (valor_uno, valor_dos):\n",
    "    if valor_uno < valor_dos:\n",
    "        print(f'El numero {var_1} es menor que el numero {var_2}')"
   ]
  },
  {
   "cell_type": "code",
   "execution_count": 4,
   "id": "41ad7698",
   "metadata": {},
   "outputs": [
    {
     "name": "stdout",
     "output_type": "stream",
     "text": [
      "El numero 4 es menor que el numero 5\n"
     ]
    }
   ],
   "source": [
    "# Ejecución de las funciones \n",
    "var_1 = solicitar()\n",
    "var_2 = solicitar()\n",
    "\n",
    "comparar(var_1, var_2)"
   ]
  },
  {
   "cell_type": "markdown",
   "id": "1dd504af",
   "metadata": {},
   "source": [
    "1. *Desarrollar un programa que determine si un numero es positivo*\n",
    "2. *Desarrollar un programa que determina si puedes votar, la edad minima es 18*\n",
    "3. *Verificar si un numero es par*\n",
    "4. *Realizar a simulacion de un login, en el cual se debe verificar se la contraseña es correcta*\n",
    "5. *Realizar un programa determine si un alumno esta aprobado, la calificacion minima es 7*\n",
    "\n",
    "Todos los datos deben ser solicitados"
   ]
  },
  {
   "cell_type": "code",
   "execution_count": 5,
   "id": "a975f659",
   "metadata": {},
   "outputs": [
    {
     "name": "stdout",
     "output_type": "stream",
     "text": [
      "El numero 8 es positivo\n"
     ]
    }
   ],
   "source": [
    "# 1\n",
    "\n",
    "var_1 = solicitar()\n",
    "\n",
    "if (var_1 > 0):\n",
    "    print(f'El numero {var_1} es positivo')"
   ]
  },
  {
   "cell_type": "code",
   "execution_count": 7,
   "id": "89db08e7",
   "metadata": {},
   "outputs": [
    {
     "name": "stdout",
     "output_type": "stream",
     "text": [
      "Si puedes votar\n"
     ]
    }
   ],
   "source": [
    "# 2\n",
    "\n",
    "def solicitaredad():\n",
    "    return int(input('Introduce el valor'))\n",
    "\n",
    "\n",
    "var_1 = solicitaredad()\n",
    "\n",
    "if var_1 >= 18:\n",
    "    print (f\"Si puedes votar\")"
   ]
  },
  {
   "cell_type": "code",
   "execution_count": 8,
   "id": "2fca2659",
   "metadata": {},
   "outputs": [
    {
     "name": "stdout",
     "output_type": "stream",
     "text": [
      "Tu numero es par 2\n"
     ]
    }
   ],
   "source": [
    "#3\n",
    "\n",
    "var_1 = solicitar()\n",
    "\n",
    "residuo = var_1 % 2\n",
    "\n",
    "if residuo == 0:\n",
    "    print(f'Tu numero es par {var_1}')"
   ]
  },
  {
   "cell_type": "code",
   "execution_count": 11,
   "id": "762e102d",
   "metadata": {},
   "outputs": [
    {
     "name": "stdout",
     "output_type": "stream",
     "text": [
      "Tu contraseña es correcta, puedes acceder\n"
     ]
    }
   ],
   "source": [
    "#4\n",
    "\n",
    "def solicitar ():\n",
    "    return str(input('Introduce la contraseña'))\n",
    "contra = solicitar()\n",
    "\n",
    "if contra == 'papahugo':\n",
    "    print('Tu contraseña es correcta, puedes acceder')"
   ]
  },
  {
   "cell_type": "code",
   "execution_count": 12,
   "id": "fcf3995f",
   "metadata": {},
   "outputs": [
    {
     "name": "stdout",
     "output_type": "stream",
     "text": [
      "Tu contraseña es correcta, puedes acceder\n"
     ]
    }
   ],
   "source": [
    "def solicitar ():\n",
    "    return str(input('Introduce la contraseña'))\n",
    "contra = solicitar()\n",
    "\n",
    "if contra == 'papahugo':\n",
    "    print('Tu contraseña es correcta, puedes acceder')\n",
    "else:\n",
    "    print('Contraseña incorrecta')"
   ]
  },
  {
   "cell_type": "code",
   "execution_count": 14,
   "id": "2751987e",
   "metadata": {},
   "outputs": [
    {
     "name": "stdout",
     "output_type": "stream",
     "text": [
      "Aprobaste!!! Felicidades! Tu calificación es aprobatoria 8\n"
     ]
    }
   ],
   "source": [
    "#5\n",
    "\n",
    "def solicitar ():\n",
    "    return int(input('Introduce el valor'))\n",
    "\n",
    "var_1 = solicitar()\n",
    "\n",
    "if var_1 >= 7:\n",
    "    print (f'Aprobaste!!! Felicidades! Tu calificación es aprobatoria {var_1}')"
   ]
  },
  {
   "cell_type": "markdown",
   "id": "15f7aafa",
   "metadata": {},
   "source": [
    "## Operadores Logicos\n",
    "\n",
    "---\n",
    "\n",
    "### Operador or\n",
    "\n",
    "| A   | B   | A or B |\n",
    "|-----|-----|--------|\n",
    "| F   | F   | F      |\n",
    "| T   | F   | T      |\n",
    "| F   | T   | T      |\n",
    "| T   | T   | T      |\n",
    "\n",
    "### Operador and\n",
    "\n",
    "| A   | B   | A and B |\n",
    "|-----|-----|---------|\n",
    "| F   | F   | F       |\n",
    "| T   | F   | F       |\n",
    "| F   | T   | F       |\n",
    "| T   | T   | T       |\n",
    "\n",
    "### Operador not\n",
    "\n",
    "| A   | not A |\n",
    "|-----|--------|\n",
    "| F   | T      |\n",
    "| T   | F      |\n"
   ]
  },
  {
   "cell_type": "code",
   "execution_count": 7,
   "id": "5b1b569d",
   "metadata": {},
   "outputs": [
    {
     "data": {
      "text/plain": [
       "True"
      ]
     },
     "execution_count": 7,
     "metadata": {},
     "output_type": "execute_result"
    }
   ],
   "source": [
    "resultado = 4>5 or 5==5\n",
    "resultado  "
   ]
  },
  {
   "cell_type": "code",
   "execution_count": 8,
   "id": "6ad23767",
   "metadata": {},
   "outputs": [
    {
     "data": {
      "text/plain": [
       "False"
      ]
     },
     "execution_count": 8,
     "metadata": {},
     "output_type": "execute_result"
    }
   ],
   "source": [
    "resultado = 4>5 and 5==5\n",
    "resultado"
   ]
  },
  {
   "cell_type": "code",
   "execution_count": 9,
   "id": "c884f6a9",
   "metadata": {},
   "outputs": [
    {
     "data": {
      "text/plain": [
       "True"
      ]
     },
     "execution_count": 9,
     "metadata": {},
     "output_type": "execute_result"
    }
   ],
   "source": [
    "resultado = not(4>5 and 5==5)\n",
    "resultado"
   ]
  },
  {
   "cell_type": "code",
   "execution_count": 10,
   "id": "425c0ef7",
   "metadata": {},
   "outputs": [
    {
     "data": {
      "text/plain": [
       "True"
      ]
     },
     "execution_count": 10,
     "metadata": {},
     "output_type": "execute_result"
    }
   ],
   "source": [
    "resultado = not 4>5 or 5==5\n",
    "resultado"
   ]
  },
  {
   "cell_type": "code",
   "execution_count": null,
   "id": "70ef83d1",
   "metadata": {},
   "outputs": [],
   "source": [
    "resultado = not (4>5 or 5==5)\n",
    "resultado"
   ]
  },
  {
   "cell_type": "code",
   "execution_count": 12,
   "id": "de08821b",
   "metadata": {},
   "outputs": [
    {
     "data": {
      "text/plain": [
       "False"
      ]
     },
     "execution_count": 12,
     "metadata": {},
     "output_type": "execute_result"
    }
   ],
   "source": [
    "resultado = not 4<5 or 5!=5\n",
    "resultado"
   ]
  },
  {
   "cell_type": "code",
   "execution_count": 13,
   "id": "ee0f2da6",
   "metadata": {},
   "outputs": [],
   "source": [
    "x = 5\n",
    "y = 10\n",
    "\n",
    "resultado = x >=5 and y <= x "
   ]
  },
  {
   "cell_type": "markdown",
   "id": "b5887ebc",
   "metadata": {},
   "source": [
    "1. Verificar si un numero esta en el rango de 10 y 20\n",
    "2. Verificar si un usuario tiene acceso al charlys si tiene minimo 18 años o tiene permiso especial\n",
    "3. Verificar si un numero no es igual a cero\n",
    "4. Verificar si un valor esta fuera del rango de 0 y 30 "
   ]
  },
  {
   "cell_type": "code",
   "execution_count": 17,
   "id": "98fc0882",
   "metadata": {},
   "outputs": [
    {
     "name": "stdout",
     "output_type": "stream",
     "text": [
      "El 80 No esta dentro del rango\n"
     ]
    }
   ],
   "source": [
    "#1 \n",
    "\n",
    "def solicitar():\n",
    "    return int(input('Ingresa un valor'))\n",
    "\n",
    "num1 = solicitar()\n",
    "\n",
    "if (num1 >=10 and num1 <=20):\n",
    "    print(f'El {num1} Si esta en el rango')\n",
    "else:\n",
    "    print(f'El {num1} No esta dentro del rango')"
   ]
  },
  {
   "cell_type": "code",
   "execution_count": null,
   "id": "64d7cc4d",
   "metadata": {},
   "outputs": [],
   "source": [
    "#2\n",
    "\n",
    "def solicitar():\n",
    "    return int(input('Ingresa un edad'))\n",
    "\n",
    "\n"
   ]
  },
  {
   "cell_type": "markdown",
   "id": "28f8fde5",
   "metadata": {},
   "source": [
    "Hay veces que queremos tener una acción `default`, que queremos que suceda en caso de que a comparación sea `false`. Para esto podemos usar una sentencia `else`. Piensalo como preguntarse a uno mismo: \"Si meto mi mano a la bolsa y resulta que enuentro un billete $50, me compro unos nachos; y sino hay nada, vere una pelicula con mi novio llorando de tristeza\""
   ]
  },
  {
   "cell_type": "code",
   "execution_count": 19,
   "id": "38840999",
   "metadata": {},
   "outputs": [
    {
     "name": "stdout",
     "output_type": "stream",
     "text": [
      "La condición no se ha cumplido, y por lo tanto yo me imprimo \n"
     ]
    }
   ],
   "source": [
    "var_1 = 4\n",
    "var_2 = 5 \n",
    "\n",
    "if (var_1 > var_2):\n",
    "    print('La condicion se cumplio')\n",
    "else: \n",
    "    print('La condición no se ha cumplido, y por lo tanto yo me imprimo ')"
   ]
  },
  {
   "cell_type": "code",
   "execution_count": 21,
   "id": "6293c522",
   "metadata": {},
   "outputs": [
    {
     "name": "stdout",
     "output_type": "stream",
     "text": [
      "El numero 10 es mayor al número  2\n"
     ]
    }
   ],
   "source": [
    "# Encontrar el nuemero mas grande de dos numeros\n",
    "\n",
    "number_1 = int(input('Introduce el número 1'))\n",
    "number_2 = int(input('Introduce el numero 2'))\n",
    "\n",
    "# Elegir el numero mas grande \n",
    "if (number_1 > number_2):\n",
    "    print(f'El numero {number_1} es mayor al número  {number_2}')\n",
    "\n",
    "else: \n",
    "    print(f'El numero {number_2} es mayor al número  {number_1}')"
   ]
  },
  {
   "cell_type": "code",
   "execution_count": 22,
   "id": "21c4f606",
   "metadata": {},
   "outputs": [
    {
     "name": "stdout",
     "output_type": "stream",
     "text": [
      "El numero mayor es: 100\n"
     ]
    }
   ],
   "source": [
    "number_1 = int(input('Introduce el número 1'))\n",
    "number_2 = int(input('Introduce el numero 2'))\n",
    "\n",
    "if (number_1 > number_2):\n",
    "    numero_mayor = number_1\n",
    "\n",
    "else: \n",
    "    numero_mayor = number_2\n",
    "\n",
    "print(f'El numero mayor es: {numero_mayor}')"
   ]
  },
  {
   "cell_type": "markdown",
   "id": "3e3b73d2",
   "metadata": {},
   "source": [
    "Si queremos que haya más de dos opciones, podemos agregar opciones utilizando la sentencia `elif`"
   ]
  },
  {
   "cell_type": "code",
   "execution_count": null,
   "id": "a18be5f1",
   "metadata": {},
   "outputs": [
    {
     "name": "stdout",
     "output_type": "stream",
     "text": [
      "El 14 es mayor 12\n"
     ]
    }
   ],
   "source": [
    "var_1 = 12\n",
    "var_2 = 14\n",
    "\n",
    "if var_1 > var_2:\n",
    "    print(f'El {var_1} es mayor {var_2}')\n",
    "elif var_2 > var_1:\n",
    "    print(f'El {var_2} es mayor {var_1}')\n",
    "else:\n",
    "    print(f'El {var_1} es igual al {var_2}')"
   ]
  },
  {
   "cell_type": "markdown",
   "id": "5d473815",
   "metadata": {},
   "source": [
    "#### 1. Comparaciones numéricas\n",
    "\n",
    "Vamos a imaginar que estamos analizando un conjunto de datos que contiene las ventas anuales en pesos de unos vendedores que trabajan en nuestra empresa. Obtenemos el total de ventas anuales en pesos y lo tenemos asignado a la variable ventas_anuales_totales. Escribe una estructura de control que nos diga de cuánto va a ser el bono de nuestro empleado.\n",
    "\n",
    "Si las ventas son mayores a `$`1,000,000 el bono será de 20% del sueldo; si son entre `$`700,000 y `$`1,000,000 el bono será de 15% del sueldo; entre `$`400,000 y `$`700,000 el bono será de 10% del sueldo; entre `$`100,00 y 400,000 el bono será de 5% del sueldo; y debajo de `$`100,000 el bono será del 1% del sueldo.\n",
    "\n",
    "Escribe tu estructura de control y, por ahora (más adelante tendremos más herramientas para hacer esto más interesante) imprime una string que diga de cuánto va a ser el bono.\n",
    "\n",
    "> Reto opcional: Agrega una variable sueldo que sea el sueldo de tu empleado y agrégale el porcentaje de bono a esa variable dependiendo de la condición que se cumpla. Después hasta el final imprime una string interpolada que diga algo como \"Felicidades, tu sueldo es x; tu bono es de x; y el total de sueldo con el bono incluido es de x\". ¡Para que esto funcione también debes de agregar una variable donde guardes la cantidad del bono!"
   ]
  },
  {
   "cell_type": "code",
   "execution_count": 17,
   "id": "9627ef60",
   "metadata": {},
   "outputs": [
    {
     "name": "stdout",
     "output_type": "stream",
     "text": [
      "El bono es 0.08\n"
     ]
    }
   ],
   "source": [
    "ventas_anuales_totales = float(input('Ingresa las ventas'))\n",
    "\n",
    "if ventas_anuales_totales > 1000000:\n",
    "    bono = ventas_anuales_totales * 0.20\n",
    "elif ventas_anuales_totales > 700000 and ventas_anuales_totales <= 1000000:\n",
    "    bono = ventas_anuales_totales * 0.15\n",
    "elif ventas_anuales_totales >= 400000 and ventas_anuales_totales <= 700000:\n",
    "    bono = ventas_anuales_totales * 0.10\n",
    "elif ventas_anuales_totales >= 100000 and ventas_anuales_totales <= 400000:\n",
    "    bono = ventas_anuales_totales * 0.05\n",
    "else:\n",
    "    bono = ventas_anuales_totales * 0.01\n",
    "print (f'El bono es {bono}')"
   ]
  }
 ],
 "metadata": {
  "kernelspec": {
   "display_name": "Python 3",
   "language": "python",
   "name": "python3"
  },
  "language_info": {
   "codemirror_mode": {
    "name": "ipython",
    "version": 3
   },
   "file_extension": ".py",
   "mimetype": "text/x-python",
   "name": "python",
   "nbconvert_exporter": "python",
   "pygments_lexer": "ipython3",
   "version": "3.13.5"
  }
 },
 "nbformat": 4,
 "nbformat_minor": 5
}
