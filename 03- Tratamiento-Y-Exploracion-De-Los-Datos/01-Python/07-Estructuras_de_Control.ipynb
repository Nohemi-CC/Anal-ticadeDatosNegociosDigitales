{
 "cells": [
  {
   "cell_type": "markdown",
   "id": "bcb044a2",
   "metadata": {},
   "source": [
    "## Estructiras de Control\n",
    "\n",
    "### Objetivos:\n",
    "    - Concer las estructuras de control, como funcionan y para que sirven\n",
    "\n",
    "---\n",
    "\n",
    "### Desarrollo"
   ]
  },
  {
   "cell_type": "markdown",
   "id": "7443835d",
   "metadata": {},
   "source": [
    "Queremos darle a nuestro programa la capacidad de tomar decisiones. Esto puede hacerce utilizando una `sentencia if` utiliza una comparacion para obtener un boolean. Si el booleano es `True`, el bloque de la sentencia se ejecuta. Si el booleano es `False` nos saltamos a lo que sigue después del bloque"
   ]
  },
  {
   "cell_type": "code",
   "execution_count": 2,
   "id": "7ccbe139",
   "metadata": {},
   "outputs": [],
   "source": [
    "var_1 = 4\n",
    "var_2 = 5"
   ]
  },
  {
   "cell_type": "code",
   "execution_count": 3,
   "id": "391cded7",
   "metadata": {},
   "outputs": [
    {
     "name": "stdout",
     "output_type": "stream",
     "text": [
      "El bloque se ha ejecutado\n"
     ]
    }
   ],
   "source": [
    "if var_1 < var_2:\n",
    "    print(\"El bloque se ha ejecutado\")"
   ]
  },
  {
   "cell_type": "code",
   "execution_count": null,
   "id": "a975f659",
   "metadata": {},
   "outputs": [
    {
     "ename": "SyntaxError",
     "evalue": "invalid syntax (2728814238.py, line 3)",
     "output_type": "error",
     "traceback": [
      "  \u001b[36mCell\u001b[39m\u001b[36m \u001b[39m\u001b[32mIn[5]\u001b[39m\u001b[32m, line 3\u001b[39m\n\u001b[31m    \u001b[39m\u001b[31mnumero = solicitar():\u001b[39m\n                        ^\n\u001b[31mSyntaxError\u001b[39m\u001b[31m:\u001b[39m invalid syntax\n"
     ]
    }
   ],
   "source": [
    "# 1\n",
    "\n",
    "numero = solicitar()\n",
    "\n",
    "if (numero > 0):\n",
    "    print(f'El numero {numero} es positivo')\n",
    "\n",
    "print('Fin del programa ...')"
   ]
  },
  {
   "cell_type": "code",
   "execution_count": 6,
   "id": "89db08e7",
   "metadata": {},
   "outputs": [
    {
     "ename": "NameError",
     "evalue": "name 'solicitar' is not defined",
     "output_type": "error",
     "traceback": [
      "\u001b[31m---------------------------------------------------------------------------\u001b[39m",
      "\u001b[31mNameError\u001b[39m                                 Traceback (most recent call last)",
      "\u001b[36mCell\u001b[39m\u001b[36m \u001b[39m\u001b[32mIn[6]\u001b[39m\u001b[32m, line 3\u001b[39m\n\u001b[32m      1\u001b[39m \u001b[38;5;66;03m# 2\u001b[39;00m\n\u001b[32m----> \u001b[39m\u001b[32m3\u001b[39m edad = \u001b[43msolicitar\u001b[49m()\n\u001b[32m      5\u001b[39m \u001b[38;5;28;01mif\u001b[39;00m(edad >= \u001b[32m18\u001b[39m):\n\u001b[32m      6\u001b[39m     \u001b[38;5;28mprint\u001b[39m(\u001b[33m'\u001b[39m\u001b[33mPuedes Votar\u001b[39m\u001b[33m'\u001b[39m)\n",
      "\u001b[31mNameError\u001b[39m: name 'solicitar' is not defined"
     ]
    }
   ],
   "source": [
    "# 2\n",
    "\n",
    "edad = solicitar()\n",
    "\n",
    "if(edad >= 18):\n",
    "    print('Puedes Votar')\n",
    "    "
   ]
  },
  {
   "cell_type": "code",
   "execution_count": null,
   "id": "2fca2659",
   "metadata": {},
   "outputs": [],
   "source": [
    "#3"
   ]
  },
  {
   "cell_type": "code",
   "execution_count": null,
   "id": "762e102d",
   "metadata": {},
   "outputs": [],
   "source": [
    "#4"
   ]
  },
  {
   "cell_type": "code",
   "execution_count": null,
   "id": "2751987e",
   "metadata": {},
   "outputs": [],
   "source": [
    "#5\n",
    "\n",
    "calif = solicitar()\n",
    "\n",
    "if(calif <=7):\n",
    "    print('Estas Aprobado')"
   ]
  },
  {
   "cell_type": "markdown",
   "id": "15f7aafa",
   "metadata": {},
   "source": [
    "## Operadores Logicos\n",
    "\n",
    "---\n",
    "\n",
    "### Operador or\n",
    "\n",
    "| A   | B   | A or B |\n",
    "|-----|-----|--------|\n",
    "| F   | F   | F      |\n",
    "| T   | F   | T      |\n",
    "| F   | T   | T      |\n",
    "| T   | T   | T      |\n",
    "\n",
    "### Operador and\n",
    "\n",
    "| A   | B   | A and B |\n",
    "|-----|-----|---------|\n",
    "| F   | F   | F       |\n",
    "| T   | F   | F       |\n",
    "| F   | T   | F       |\n",
    "| T   | T   | T       |\n",
    "\n",
    "### Operador not\n",
    "\n",
    "| A   | not A |\n",
    "|-----|--------|\n",
    "| F   | T      |\n",
    "| T   | F      |\n"
   ]
  },
  {
   "cell_type": "code",
   "execution_count": 7,
   "id": "5b1b569d",
   "metadata": {},
   "outputs": [
    {
     "data": {
      "text/plain": [
       "True"
      ]
     },
     "execution_count": 7,
     "metadata": {},
     "output_type": "execute_result"
    }
   ],
   "source": [
    "resultado = 4>5 or 5==5\n",
    "resultado  "
   ]
  },
  {
   "cell_type": "code",
   "execution_count": 8,
   "id": "6ad23767",
   "metadata": {},
   "outputs": [
    {
     "data": {
      "text/plain": [
       "False"
      ]
     },
     "execution_count": 8,
     "metadata": {},
     "output_type": "execute_result"
    }
   ],
   "source": [
    "resultado = 4>5 and 5==5\n",
    "resultado"
   ]
  },
  {
   "cell_type": "code",
   "execution_count": 9,
   "id": "c884f6a9",
   "metadata": {},
   "outputs": [
    {
     "data": {
      "text/plain": [
       "True"
      ]
     },
     "execution_count": 9,
     "metadata": {},
     "output_type": "execute_result"
    }
   ],
   "source": [
    "resultado = not(4>5 and 5==5)\n",
    "resultado"
   ]
  },
  {
   "cell_type": "code",
   "execution_count": 10,
   "id": "425c0ef7",
   "metadata": {},
   "outputs": [
    {
     "data": {
      "text/plain": [
       "True"
      ]
     },
     "execution_count": 10,
     "metadata": {},
     "output_type": "execute_result"
    }
   ],
   "source": [
    "resultado = not 4>5 or 5==5\n",
    "resultado"
   ]
  },
  {
   "cell_type": "code",
   "execution_count": 12,
   "id": "de08821b",
   "metadata": {},
   "outputs": [
    {
     "data": {
      "text/plain": [
       "False"
      ]
     },
     "execution_count": 12,
     "metadata": {},
     "output_type": "execute_result"
    }
   ],
   "source": [
    "resultado = not 4<5 or 5!=5\n",
    "resultado"
   ]
  },
  {
   "cell_type": "code",
   "execution_count": 13,
   "id": "ee0f2da6",
   "metadata": {},
   "outputs": [],
   "source": [
    "x = 5\n",
    "y = 10\n",
    "\n",
    "resultado = x >=5 and y <= x "
   ]
  },
  {
   "cell_type": "markdown",
   "id": "b5887ebc",
   "metadata": {},
   "source": [
    "1. Verificar si un numero esta en el rango de 10 y 20\n",
    "2. Verificar si un usuario tiene acceso al charlys si tiene minimo 18 años o tiene permiso especial\n",
    "3. Verificar si un numero no es igual a cero\n",
    "4. Verificar si un valor esta fuera del rango de 0 y 30 "
   ]
  },
  {
   "cell_type": "code",
   "execution_count": 17,
   "id": "98fc0882",
   "metadata": {},
   "outputs": [
    {
     "name": "stdout",
     "output_type": "stream",
     "text": [
      "El 80 No esta dentro del rango\n"
     ]
    }
   ],
   "source": [
    "#1 \n",
    "\n",
    "def solicitar():\n",
    "    return int(input('Ingresa un valor'))\n",
    "\n",
    "num1 = solicitar()\n",
    "\n",
    "if (num1 >=10 and num1 <=20):\n",
    "    print(f'El {num1} Si esta en el rango')\n",
    "else:\n",
    "    print(f'El {num1} No esta dentro del rango')"
   ]
  },
  {
   "cell_type": "code",
   "execution_count": null,
   "id": "64d7cc4d",
   "metadata": {},
   "outputs": [],
   "source": [
    "#2\n",
    "\n",
    "def solicitar():\n",
    "    return int(input('Ingresa un edad'))\n",
    "\n",
    "\n"
   ]
  },
  {
   "cell_type": "markdown",
   "id": "28f8fde5",
   "metadata": {},
   "source": [
    "Hay veces que queremos tener una acción `default`, que queremos que suceda en caso de que a comparación sea `false`. Para esto podemos usar una sentencia `else`. Piensalo como preguntarse a uno mismo: \"Si meto mi mano a la bolsa y resulta que enuentro un billete $50, me compro unos nachos; y sino hay nada, vere una pelicula con mi novio llorando de tristeza\""
   ]
  },
  {
   "cell_type": "code",
   "execution_count": 19,
   "id": "38840999",
   "metadata": {},
   "outputs": [
    {
     "name": "stdout",
     "output_type": "stream",
     "text": [
      "La condición no se ha cumplido, y por lo tanto yo me imprimo \n"
     ]
    }
   ],
   "source": [
    "var_1 = 4\n",
    "var_2 = 5 \n",
    "\n",
    "if (var_1 > var_2):\n",
    "    print('La condicion se cumplio')\n",
    "else: \n",
    "    print('La condición no se ha cumplido, y por lo tanto yo me imprimo ')"
   ]
  },
  {
   "cell_type": "code",
   "execution_count": 21,
   "id": "6293c522",
   "metadata": {},
   "outputs": [
    {
     "name": "stdout",
     "output_type": "stream",
     "text": [
      "El numero 10 es mayor al número  2\n"
     ]
    }
   ],
   "source": [
    "# Encontrar el nuemero mas grande de dos numeros\n",
    "\n",
    "number_1 = int(input('Introduce el número 1'))\n",
    "number_2 = int(input('Introduce el numero 2'))\n",
    "\n",
    "# Elegir el numero mas grande \n",
    "if (number_1 > number_2):\n",
    "    print(f'El numero {number_1} es mayor al número  {number_2}')\n",
    "\n",
    "else: \n",
    "    print(f'El numero {number_2} es mayor al número  {number_1}')"
   ]
  },
  {
   "cell_type": "code",
   "execution_count": 22,
   "id": "21c4f606",
   "metadata": {},
   "outputs": [
    {
     "name": "stdout",
     "output_type": "stream",
     "text": [
      "El numero mayor es: 100\n"
     ]
    }
   ],
   "source": [
    "number_1 = int(input('Introduce el número 1'))\n",
    "number_2 = int(input('Introduce el numero 2'))\n",
    "\n",
    "if (number_1 > number_2):\n",
    "    numero_mayor = number_1\n",
    "\n",
    "else: \n",
    "    numero_mayor = number_2\n",
    "\n",
    "print(f'El numero mayor es: {numero_mayor}')"
   ]
  },
  {
   "cell_type": "markdown",
   "id": "3e3b73d2",
   "metadata": {},
   "source": [
    "Si queremos que haya más de dos opciones, podemos agregar opciones utilizando la sentencia `elif`"
   ]
  },
  {
   "cell_type": "code",
   "execution_count": null,
   "id": "a18be5f1",
   "metadata": {},
   "outputs": [
    {
     "name": "stdout",
     "output_type": "stream",
     "text": [
      "El 14 es mayor 12\n"
     ]
    }
   ],
   "source": [
    "var_1 = 12\n",
    "var_2 = 14\n",
    "\n",
    "if var_1 > var_2:\n",
    "    print(f'El {var_1} es mayor {var_2}')\n",
    "elif var_2 > var_1:\n",
    "    print(f'El {var_2} es mayor {var_1}')\n",
    "else:\n",
    "    print(f'El {var_1} es igual al {var_2}')"
   ]
  },
  {
   "cell_type": "markdown",
   "id": "5d473815",
   "metadata": {},
   "source": [
    "#### 1. Comparaciones numéricas\n",
    "\n",
    "Vamos a imaginar que estamos analizando un conjunto de datos que contiene las ventas anuales en pesos de unos vendedores que trabajan en nuestra empresa. Obtenemos el total de ventas anuales en pesos y lo tenemos asignado a la variable ventas_anuales_totales. Escribe una estructura de control que nos diga de cuánto va a ser el bono de nuestro empleado.\n",
    "\n",
    "Si las ventas son mayores a `$`1,000,000 el bono será de 20% del sueldo; si son entre `$`700,000 y `$`1,000,000 el bono será de 15% del sueldo; entre `$`400,000 y `$`700,000 el bono será de 10% del sueldo; entre `$`100,00 y 400,000 el bono será de 5% del sueldo; y debajo de `$`100,000 el bono será del 1% del sueldo.\n",
    "\n",
    "Escribe tu estructura de control y, por ahora (más adelante tendremos más herramientas para hacer esto más interesante) imprime una string que diga de cuánto va a ser el bono.\n",
    "\n",
    "> Reto opcional: Agrega una variable sueldo que sea el sueldo de tu empleado y agrégale el porcentaje de bono a esa variable dependiendo de la condición que se cumpla. Después hasta el final imprime una string interpolada que diga algo como \"Felicidades, tu sueldo es x; tu bono es de x; y el total de sueldo con el bono incluido es de x\". ¡Para que esto funcione también debes de agregar una variable donde guardes la cantidad del bono!"
   ]
  },
  {
   "cell_type": "code",
   "execution_count": null,
   "id": "9627ef60",
   "metadata": {},
   "outputs": [],
   "source": [
    "var_1 = 12\n",
    "var_2 = 14"
   ]
  }
 ],
 "metadata": {
  "kernelspec": {
   "display_name": "Python 3",
   "language": "python",
   "name": "python3"
  },
  "language_info": {
   "codemirror_mode": {
    "name": "ipython",
    "version": 3
   },
   "file_extension": ".py",
   "mimetype": "text/x-python",
   "name": "python",
   "nbconvert_exporter": "python",
   "pygments_lexer": "ipython3",
   "version": "3.13.3"
  }
 },
 "nbformat": 4,
 "nbformat_minor": 5
}
