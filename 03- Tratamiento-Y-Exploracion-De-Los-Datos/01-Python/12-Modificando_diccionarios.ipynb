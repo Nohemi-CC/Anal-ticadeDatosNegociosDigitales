{
 "cells": [
  {
   "cell_type": "markdown",
   "id": "9072c1f8",
   "metadata": {},
   "source": [
    "># Modificando Diccionarios"
   ]
  },
  {
   "cell_type": "markdown",
   "id": "7fe0d55c",
   "metadata": {},
   "source": [
    "## 1. Objetivos\n",
    "\n",
    "- Practicar los tres metodos basicos de modificacion de diccionario: **Agregar datos, Modificar datos y Borrar datos**"
   ]
  },
  {
   "cell_type": "markdown",
   "id": "91851ce6",
   "metadata": {},
   "source": [
    "## 2. Desarrollo \n",
    "\n",
    "Tenemos 3 maneras basicas de modificar los diccionario \n",
    "\n",
    "---"
   ]
  },
  {
   "cell_type": "markdown",
   "id": "9c62c18f",
   "metadata": {},
   "source": [
    "### Agregar Datos\n",
    "\n",
    "Para agregar un dato a un diccionario ya existente, basta con llamar la llave que queremos agregar y asignar un valor"
   ]
  },
  {
   "cell_type": "code",
   "execution_count": 2,
   "id": "d857ec4c",
   "metadata": {},
   "outputs": [],
   "source": [
    "from pprint import pprint\n",
    "# import pandas as pd"
   ]
  },
  {
   "cell_type": "code",
   "execution_count": 6,
   "id": "240b400b",
   "metadata": {},
   "outputs": [
    {
     "name": "stdout",
     "output_type": "stream",
     "text": [
      "{'nombre': 'Maluma', 'tel': 5546352431, 'dir': {'colonia': 'El 61', 'calle': 'Pirineos', 'num': 69, 'cp': 42830}}\n"
     ]
    }
   ],
   "source": [
    "info_de_contacto = {\n",
    "    'nombre': 'Maluma',\n",
    "    'tel': 5546352431,\n",
    "    'dir': {\n",
    "        'colonia':'El 61',\n",
    "        'calle':'Pirineos',\n",
    "        'num':69,\n",
    "        'cp':42830\n",
    "    }\n",
    "}\n",
    "\n",
    "print(info_de_contacto)"
   ]
  },
  {
   "cell_type": "code",
   "execution_count": 7,
   "id": "7df174cc",
   "metadata": {},
   "outputs": [
    {
     "name": "stdout",
     "output_type": "stream",
     "text": [
      "{'dir': {'calle': 'Pirineos', 'colonia': 'El 61', 'cp': 42830, 'num': 69},\n",
      " 'nombre': 'Maluma',\n",
      " 'tel': 5546352431}\n"
     ]
    }
   ],
   "source": [
    "pprint(info_de_contacto)"
   ]
  },
  {
   "cell_type": "code",
   "execution_count": 8,
   "id": "5cd4cbd2",
   "metadata": {},
   "outputs": [],
   "source": [
    "info_de_contacto ['email'] = 'Maluma_hasta_abajo@regechafa.com'"
   ]
  },
  {
   "cell_type": "code",
   "execution_count": 9,
   "id": "1039a080",
   "metadata": {},
   "outputs": [
    {
     "name": "stdout",
     "output_type": "stream",
     "text": [
      "{'dir': {'calle': 'Pirineos', 'colonia': 'El 61', 'cp': 42830, 'num': 69},\n",
      " 'email': 'Maluma_hasta_abajo@regechafa.com',\n",
      " 'nombre': 'Maluma',\n",
      " 'tel': 5546352431}\n"
     ]
    }
   ],
   "source": [
    "\n",
    "pprint(info_de_contacto)"
   ]
  },
  {
   "cell_type": "markdown",
   "id": "63ea0c44",
   "metadata": {},
   "source": [
    "## Modificar pares llave-valor existentes\n",
    "\n",
    "Para modificar un par llave-valor ya existente, basta con reasignar a una llave de nuestro diccionario el nuevo valo que queremos agregar. Por ejemplo, iamginemos que esta persona cambio de direccion:\n"
   ]
  },
  {
   "cell_type": "code",
   "execution_count": 11,
   "id": "dadda32e",
   "metadata": {},
   "outputs": [
    {
     "name": "stdout",
     "output_type": "stream",
     "text": [
      "{'dir': {'calle': 'Progreso',\n",
      "         'colonia': 'Escandalo',\n",
      "         'cp': '11800',\n",
      "         'num': 189},\n",
      " 'email': 'Maluma_hasta_abajo@regechafa.com',\n",
      " 'nombre': 'Maluma',\n",
      " 'tel': 5546352431}\n"
     ]
    }
   ],
   "source": [
    "info_de_contacto['dir'] = {\n",
    "    'colonia':'Escandalo',\n",
    "    'calle':'Progreso',\n",
    "    'num':189,\n",
    "    'cp':'11800'\n",
    "}\n",
    "pprint(info_de_contacto)"
   ]
  },
  {
   "cell_type": "code",
   "execution_count": 12,
   "id": "e882ea64",
   "metadata": {},
   "outputs": [],
   "source": [
    "info_de_contacto['dir']['colonia']='SalteSiPuedes'"
   ]
  },
  {
   "cell_type": "code",
   "execution_count": 13,
   "id": "b21a57ae",
   "metadata": {},
   "outputs": [
    {
     "name": "stdout",
     "output_type": "stream",
     "text": [
      "{'dir': {'calle': 'Progreso',\n",
      "         'colonia': 'SalteSiPuedes',\n",
      "         'cp': '11800',\n",
      "         'num': 189},\n",
      " 'email': 'Maluma_hasta_abajo@regechafa.com',\n",
      " 'nombre': 'Maluma',\n",
      " 'tel': 5546352431}\n"
     ]
    }
   ],
   "source": [
    "pprint(info_de_contacto)"
   ]
  },
  {
   "cell_type": "markdown",
   "id": "6195a35a",
   "metadata": {},
   "source": [
    "Podemos incluso modificar estructura de datos dentro de nuestro diccionario. Por ejemplo, ¿Que tal si hubo un error al agregar la nueva direccion y ahora tenemos que cambiar solamente el numero?:"
   ]
  },
  {
   "cell_type": "code",
   "execution_count": 14,
   "id": "b85b1c97",
   "metadata": {},
   "outputs": [
    {
     "name": "stdout",
     "output_type": "stream",
     "text": [
      "{'dir': {'calle': 'Progreso',\n",
      "         'colonia': 'SalteSiPuedes',\n",
      "         'cp': '11800',\n",
      "         'num': 666},\n",
      " 'email': 'Maluma_hasta_abajo@regechafa.com',\n",
      " 'nombre': 'Maluma',\n",
      " 'tel': 5546352431}\n"
     ]
    }
   ],
   "source": [
    "info_de_contacto['dir']['num'] = 666\n",
    "pprint(info_de_contacto)"
   ]
  },
  {
   "cell_type": "markdown",
   "id": "ab1cf849",
   "metadata": {},
   "source": [
    "## Eliminando datos \n",
    "Para eliminar datos, se puede usar el metodo pop. Como se recordara, el nombre de este metodo es identico al metodo para eliminar elementos de una lista. La diferencia es que el metodo `pop` de las listas recibe indices como argumentos, el metodo `pop` de diccionarios recibe llaves como argumentos"
   ]
  },
  {
   "cell_type": "code",
   "execution_count": 15,
   "id": "637ed9fe",
   "metadata": {},
   "outputs": [
    {
     "name": "stdout",
     "output_type": "stream",
     "text": [
      "{'dir': {'calle': 'Progreso',\n",
      "         'colonia': 'SalteSiPuedes',\n",
      "         'cp': '11800',\n",
      "         'num': 666},\n",
      " 'email': 'Maluma_hasta_abajo@regechafa.com',\n",
      " 'nombre': 'Maluma'}\n"
     ]
    }
   ],
   "source": [
    "info_de_contacto.pop('tel')\n",
    "pprint(info_de_contacto)"
   ]
  },
  {
   "cell_type": "code",
   "execution_count": null,
   "id": "8fd97c2c",
   "metadata": {},
   "outputs": [],
   "source": []
  }
 ],
 "metadata": {
  "kernelspec": {
   "display_name": "Python 3",
   "language": "python",
   "name": "python3"
  },
  "language_info": {
   "codemirror_mode": {
    "name": "ipython",
    "version": 3
   },
   "file_extension": ".py",
   "mimetype": "text/x-python",
   "name": "python",
   "nbconvert_exporter": "python",
   "pygments_lexer": "ipython3",
   "version": "3.13.1"
  }
 },
 "nbformat": 4,
 "nbformat_minor": 5
}
