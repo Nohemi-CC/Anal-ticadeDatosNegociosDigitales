{
 "cells": [
  {
   "cell_type": "markdown",
   "id": "1914d876",
   "metadata": {},
   "source": [
    "# Ejemplo 1: Esto es un Notebook de practica\n",
    "\n",
    "---\n",
    "\n",
    "### 1. Objetivos\n",
    "    - Repasar rapidamente como funciona un Jupyter Notebook\n",
    "\n",
    "### 2. Requisitos\n",
    "    -Jupyter Notebook instalado\n",
    "\n",
    "---"
   ]
  },
  {
   "cell_type": "markdown",
   "id": "e17de1c5",
   "metadata": {},
   "source": [
    "En JN tenermos `modo comando` y `modo edición` \n",
    "\n",
    "- El `modo edición` sirve para editar celdas\n",
    "- El `modo comando` sirve para usar comandos en el JN"
   ]
  },
  {
   "cell_type": "code",
   "execution_count": 1,
   "id": "3709029a",
   "metadata": {},
   "outputs": [],
   "source": [
    "#Esto es una celda de Código\n",
    "#y yo soy un comentario ..."
   ]
  },
  {
   "cell_type": "markdown",
   "id": "25d6f59d",
   "metadata": {},
   "source": [
    "Escribamos algo de codigo para recordar "
   ]
  },
  {
   "cell_type": "code",
   "execution_count": 2,
   "id": "4ae72fd4",
   "metadata": {},
   "outputs": [
    {
     "data": {
      "text/plain": [
       "9"
      ]
     },
     "execution_count": 2,
     "metadata": {},
     "output_type": "execute_result"
    }
   ],
   "source": [
    "var_1 = 4  \n",
    "var_2 = 5\n",
    "\n",
    "var_1 + var_2"
   ]
  },
  {
   "cell_type": "code",
   "execution_count": 3,
   "id": "57a2f4f6",
   "metadata": {},
   "outputs": [
    {
     "name": "stdout",
     "output_type": "stream",
     "text": [
      "4 5\n"
     ]
    }
   ],
   "source": [
    "print(var_1, var_2)"
   ]
  },
  {
   "cell_type": "code",
   "execution_count": 4,
   "id": "3d674e15",
   "metadata": {},
   "outputs": [
    {
     "name": "stdout",
     "output_type": "stream",
     "text": [
      "4 , 5\n"
     ]
    }
   ],
   "source": [
    "print ( str (var_1) + ' , ' + str (var_2))"
   ]
  },
  {
   "cell_type": "code",
   "execution_count": 5,
   "id": "104e68b6",
   "metadata": {},
   "outputs": [
    {
     "name": "stdout",
     "output_type": "stream",
     "text": [
      "9\n"
     ]
    }
   ],
   "source": [
    "print (var_1 + var_2)"
   ]
  },
  {
   "cell_type": "code",
   "execution_count": 6,
   "id": "8d07b8e1",
   "metadata": {},
   "outputs": [
    {
     "data": {
      "text/plain": [
       "15"
      ]
     },
     "execution_count": 6,
     "metadata": {},
     "output_type": "execute_result"
    }
   ],
   "source": [
    "var_1 = 10\n",
    "var_1 + var_2"
   ]
  }
 ],
 "metadata": {
  "kernelspec": {
   "display_name": "Python 3",
   "language": "python",
   "name": "python3"
  },
  "language_info": {
   "codemirror_mode": {
    "name": "ipython",
    "version": 3
   },
   "file_extension": ".py",
   "mimetype": "text/x-python",
   "name": "python",
   "nbconvert_exporter": "python",
   "pygments_lexer": "ipython3",
   "version": "3.13.5"
  }
 },
 "nbformat": 4,
 "nbformat_minor": 5
}
