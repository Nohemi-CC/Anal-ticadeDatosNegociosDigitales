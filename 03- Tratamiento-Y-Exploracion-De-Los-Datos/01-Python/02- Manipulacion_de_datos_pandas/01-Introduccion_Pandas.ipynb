{
 "cells": [
  {
   "cell_type": "markdown",
   "id": "afdccd35",
   "metadata": {},
   "source": [
    "# ¿Qué es pandas?"
   ]
  },
  {
   "cell_type": "markdown",
   "id": "c24e10f9",
   "metadata": {},
   "source": [
    "Pandas es una libreria de Python, especializada en el manejo y analisis de estructuras de datos. Nos ayuda a manipular, modelar, "
   ]
  },
  {
   "cell_type": "code",
   "execution_count": 1,
   "id": "c0fe8cb4",
   "metadata": {},
   "outputs": [],
   "source": [
    "import pandas as pd"
   ]
  },
  {
   "cell_type": "markdown",
   "id": "d4585079",
   "metadata": {},
   "source": [
    "# Como se instala Pandas"
   ]
  },
  {
   "cell_type": "code",
   "execution_count": 3,
   "id": "f91a86fa",
   "metadata": {},
   "outputs": [
    {
     "name": "stdout",
     "output_type": "stream",
     "text": [
      "  Nombre  Edad\n",
      "0    Ana    23\n",
      "1   Luis    30\n",
      "2  Pedro    27\n"
     ]
    }
   ],
   "source": [
    "# Comprobar si funciona pandas o no\n",
    "datos = {\n",
    "    'Nombre': ['Ana', 'Luis', 'Pedro'],\n",
    "    'Edad': [23, 30, 27]\n",
    "}\n",
    "\n",
    "df = pd.DataFrame(datos)\n",
    "\n",
    "print(df)"
   ]
  },
  {
   "cell_type": "markdown",
   "id": "4c5ac1ab",
   "metadata": {},
   "source": [
    "# Series"
   ]
  },
  {
   "cell_type": "markdown",
   "id": "4b9a1aef",
   "metadata": {},
   "source": [
    "Es un arreglo unidimensional que puede contener datos de cualquier tipo como enteros, flotantes, cadenas de texto, etc y tiene un indice asociado. Lo que facilita la manipulacion y el acceso a los datos."
   ]
  },
  {
   "cell_type": "code",
   "execution_count": 4,
   "id": "da956604",
   "metadata": {},
   "outputs": [],
   "source": [
    "# Crear una lista\n",
    "\n",
    "edad = [30,40,50]"
   ]
  },
  {
   "cell_type": "code",
   "execution_count": 10,
   "id": "7ab9771e",
   "metadata": {},
   "outputs": [],
   "source": [
    "# Convertirla a serie\n",
    "serie = pd.Series(edad)"
   ]
  },
  {
   "cell_type": "code",
   "execution_count": 6,
   "id": "1a09c7c1",
   "metadata": {},
   "outputs": [
    {
     "data": {
      "text/plain": [
       "0    30\n",
       "1    40\n",
       "2    50\n",
       "dtype: int64"
      ]
     },
     "execution_count": 6,
     "metadata": {},
     "output_type": "execute_result"
    }
   ],
   "source": [
    "# Mostrar resultad\n",
    "serie"
   ]
  },
  {
   "cell_type": "code",
   "execution_count": 13,
   "id": "2a89c02f",
   "metadata": {},
   "outputs": [
    {
     "data": {
      "text/plain": [
       "np.int64(40)"
      ]
     },
     "execution_count": 13,
     "metadata": {},
     "output_type": "execute_result"
    }
   ],
   "source": [
    "serie [1]"
   ]
  },
  {
   "cell_type": "code",
   "execution_count": 14,
   "id": "b17bdbd8",
   "metadata": {},
   "outputs": [],
   "source": [
    "# Cambiar indices\n",
    "\n",
    "serie = pd.Series(edad, index = ['Alex', 'John', 'Maria'],)"
   ]
  },
  {
   "cell_type": "code",
   "execution_count": 15,
   "id": "998ed0fc",
   "metadata": {},
   "outputs": [
    {
     "data": {
      "text/plain": [
       "Alex     30\n",
       "John     40\n",
       "Maria    50\n",
       "dtype: int64"
      ]
     },
     "execution_count": 15,
     "metadata": {},
     "output_type": "execute_result"
    }
   ],
   "source": [
    "serie"
   ]
  },
  {
   "cell_type": "code",
   "execution_count": 9,
   "id": "7f487bfd",
   "metadata": {},
   "outputs": [
    {
     "data": {
      "text/plain": [
       "np.int64(30)"
      ]
     },
     "execution_count": 9,
     "metadata": {},
     "output_type": "execute_result"
    }
   ],
   "source": [
    "serie ['Alex']"
   ]
  },
  {
   "cell_type": "markdown",
   "id": "f603d159",
   "metadata": {},
   "source": [
    "### Ejemplo 2"
   ]
  },
  {
   "cell_type": "code",
   "execution_count": 16,
   "id": "db35846d",
   "metadata": {},
   "outputs": [
    {
     "name": "stdout",
     "output_type": "stream",
     "text": [
      "0      1\n",
      "1      4\n",
      "2      9\n",
      "3      2\n",
      "4      6\n",
      "5     10\n",
      "6    200\n",
      "dtype: int64\n"
     ]
    }
   ],
   "source": [
    "naranjas = pd.Series([1,4,9,2,6,10,200])\n",
    "print(naranjas)"
   ]
  },
  {
   "cell_type": "code",
   "execution_count": 17,
   "id": "ff228d6b",
   "metadata": {},
   "outputs": [
    {
     "data": {
      "text/plain": [
       "pandas.core.series.Series"
      ]
     },
     "execution_count": 17,
     "metadata": {},
     "output_type": "execute_result"
    }
   ],
   "source": [
    "type (naranjas)"
   ]
  },
  {
   "cell_type": "code",
   "execution_count": 18,
   "id": "71613c9d",
   "metadata": {},
   "outputs": [
    {
     "name": "stdout",
     "output_type": "stream",
     "text": [
      "Marco       1\n",
      "Ana         4\n",
      "Juan        9\n",
      "Pedro       2\n",
      "Estela      6\n",
      "Ivan       10\n",
      "Luis      200\n",
      "dtype: int64\n"
     ]
    }
   ],
   "source": [
    "naranjas = pd.Series([1,4,9,2,6,10,200], index = ['Marco', 'Ana', 'Juan', 'Pedro', 'Estela', 'Ivan', 'Luis'])\n",
    "print (naranjas)"
   ]
  }
 ],
 "metadata": {
  "kernelspec": {
   "display_name": "Python 3",
   "language": "python",
   "name": "python3"
  },
  "language_info": {
   "codemirror_mode": {
    "name": "ipython",
    "version": 3
   },
   "file_extension": ".py",
   "mimetype": "text/x-python",
   "name": "python",
   "nbconvert_exporter": "python",
   "pygments_lexer": "ipython3",
   "version": "3.13.5"
  }
 },
 "nbformat": 4,
 "nbformat_minor": 5
}
