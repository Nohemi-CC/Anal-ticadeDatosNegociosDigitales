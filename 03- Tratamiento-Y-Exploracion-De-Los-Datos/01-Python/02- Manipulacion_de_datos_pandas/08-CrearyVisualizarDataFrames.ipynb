{
 "cells": [
  {
   "cell_type": "markdown",
   "id": "12335c38",
   "metadata": {},
   "source": [
    "# Crear y visualizar DataFrames\n",
    "Aprende a visualizar el contenido de tus DataFrames, a tratar los valores de datos que faltan y a importar y exportar datos a archivos CSV.\n",
    "\n",
    "\n",
    "## Visualizar Tus Datos\n",
    "\n",
    "### ¿Qué tamaño de aguacate es el más popular?\n",
    "\n",
    "Los aguacates son cada vez más populares y están deliciosos en guacamole y en tostadas. Hass Avocado Board hace un seguimiento de la oferta y la demanda de aguacate en toda la USA, incluidas las ventas de tres tamaños diferentes de aguacate. En este ejercicio, utilizarás un diagrama de barras para averiguar qué tamaño es el más popular.\n",
    "\n",
    "Los gráficos de barras son estupendos para revelar las relaciones entre variables categóricas (tamaño) y numéricas (número vendido), pero a menudo tendrás que manipular primero los datos para obtener los números que necesitas para el gráfico.\n",
    "\n",
    "pandas se ha importado como pd, y avocados está disponible.\n",
    "\n",
    "**instrucciones**\n",
    "\n",
    "- Imprime la cabecera del conjunto de datos avocados. ¿Qué columnas están disponibles?\n",
    "- Para cada grupo de tamaño de aguacate, calcula el número total vendido, almacenándolo como nb_sold_by_size.\n",
    "- Crea un diagrama de barras del número de aguacates vendidos por tamaño.\n",
    "Muestra el gráfico."
   ]
  },
  {
   "cell_type": "code",
   "execution_count": 1,
   "id": "6fc04809",
   "metadata": {},
   "outputs": [],
   "source": [
    "import pandas as pd"
   ]
  }
 ],
 "metadata": {
  "kernelspec": {
   "display_name": "Python 3",
   "language": "python",
   "name": "python3"
  },
  "language_info": {
   "codemirror_mode": {
    "name": "ipython",
    "version": 3
   },
   "file_extension": ".py",
   "mimetype": "text/x-python",
   "name": "python",
   "nbconvert_exporter": "python",
   "pygments_lexer": "ipython3",
   "version": "3.13.6"
  }
 },
 "nbformat": 4,
 "nbformat_minor": 5
}
