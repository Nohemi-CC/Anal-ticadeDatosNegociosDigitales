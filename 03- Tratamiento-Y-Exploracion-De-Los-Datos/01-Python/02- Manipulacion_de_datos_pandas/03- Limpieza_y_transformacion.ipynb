{
 "cells": [
  {
   "cell_type": "markdown",
   "id": "d9cc4c44",
   "metadata": {},
   "source": [
    "# Limpieza y Transformacion de datos"
   ]
  },
  {
   "cell_type": "markdown",
   "id": "d419100c",
   "metadata": {},
   "source": [
    "<!-- # Limpieza y Transformacion de Datos -->"
   ]
  },
  {
   "cell_type": "code",
   "execution_count": 6,
   "id": "dc8dca60",
   "metadata": {},
   "outputs": [],
   "source": [
    "# Importar librerias\n",
    "import pandas as pd\n",
    "import numpy as np\n",
    "import matplotlib.pyplot as plt"
   ]
  },
  {
   "cell_type": "markdown",
   "id": "624bfc3d",
   "metadata": {},
   "source": [
    "# Importar archivos .CSV"
   ]
  },
  {
   "cell_type": "code",
   "execution_count": 7,
   "id": "adfdb313",
   "metadata": {},
   "outputs": [],
   "source": [
    "salaries = pd.read_csv(\"./Datasets/linkedin-jobs-usa.csv\")"
   ]
  },
  {
   "cell_type": "markdown",
   "id": "28d5f278",
   "metadata": {},
   "source": [
    "# Tratamiento de Duplicados"
   ]
  },
  {
   "cell_type": "code",
   "execution_count": 8,
   "id": "e40d8676",
   "metadata": {},
   "outputs": [
    {
     "data": {
      "text/html": [
       "<div>\n",
       "<style scoped>\n",
       "    .dataframe tbody tr th:only-of-type {\n",
       "        vertical-align: middle;\n",
       "    }\n",
       "\n",
       "    .dataframe tbody tr th {\n",
       "        vertical-align: top;\n",
       "    }\n",
       "\n",
       "    .dataframe thead th {\n",
       "        text-align: right;\n",
       "    }\n",
       "</style>\n",
       "<table border=\"1\" class=\"dataframe\">\n",
       "  <thead>\n",
       "    <tr style=\"text-align: right;\">\n",
       "      <th></th>\n",
       "      <th>title</th>\n",
       "      <th>company</th>\n",
       "      <th>description</th>\n",
       "      <th>onsite_remote</th>\n",
       "      <th>salary</th>\n",
       "      <th>location</th>\n",
       "      <th>criteria</th>\n",
       "      <th>posted_date</th>\n",
       "      <th>link</th>\n",
       "    </tr>\n",
       "  </thead>\n",
       "  <tbody>\n",
       "    <tr>\n",
       "      <th>0</th>\n",
       "      <td>Data Analyst - Recent Graduate</td>\n",
       "      <td>PayPal</td>\n",
       "      <td>At PayPal (NASDAQ: PYPL), we believe that ever...</td>\n",
       "      <td>onsite</td>\n",
       "      <td>NaN</td>\n",
       "      <td>Buffalo-Niagara Falls Area</td>\n",
       "      <td>[{'Seniority level': 'Not Applicable'}, {'Empl...</td>\n",
       "      <td>2022-11-22</td>\n",
       "      <td>https://www.linkedin.com/jobs/view/data-analys...</td>\n",
       "    </tr>\n",
       "    <tr>\n",
       "      <th>1</th>\n",
       "      <td>Data Analyst - Recent Graduate</td>\n",
       "      <td>PayPal</td>\n",
       "      <td>At PayPal (NASDAQ: PYPL), we believe that ever...</td>\n",
       "      <td>onsite</td>\n",
       "      <td>NaN</td>\n",
       "      <td>San Jose, CA</td>\n",
       "      <td>[{'Seniority level': 'Not Applicable'}, {'Empl...</td>\n",
       "      <td>2022-11-22</td>\n",
       "      <td>https://www.linkedin.com/jobs/view/data-analys...</td>\n",
       "    </tr>\n",
       "    <tr>\n",
       "      <th>2</th>\n",
       "      <td>Data Analyst</td>\n",
       "      <td>PayPal</td>\n",
       "      <td>At PayPal (NASDAQ: PYPL), we believe that ever...</td>\n",
       "      <td>onsite</td>\n",
       "      <td>NaN</td>\n",
       "      <td>Texas, United States</td>\n",
       "      <td>[{'Seniority level': 'Not Applicable'}, {'Empl...</td>\n",
       "      <td>2022-11-17</td>\n",
       "      <td>https://www.linkedin.com/jobs/view/data-analys...</td>\n",
       "    </tr>\n",
       "    <tr>\n",
       "      <th>3</th>\n",
       "      <td>Data Analyst</td>\n",
       "      <td>PayPal</td>\n",
       "      <td>At PayPal (NASDAQ: PYPL), we believe that ever...</td>\n",
       "      <td>onsite</td>\n",
       "      <td>NaN</td>\n",
       "      <td>Illinois, United States</td>\n",
       "      <td>[{'Seniority level': 'Not Applicable'}, {'Empl...</td>\n",
       "      <td>2022-11-17</td>\n",
       "      <td>https://www.linkedin.com/jobs/view/data-analys...</td>\n",
       "    </tr>\n",
       "    <tr>\n",
       "      <th>4</th>\n",
       "      <td>Entry-Level Data Analyst</td>\n",
       "      <td>The Federal Savings Bank</td>\n",
       "      <td>The Federal Savings Bank, a national bank and ...</td>\n",
       "      <td>onsite</td>\n",
       "      <td>NaN</td>\n",
       "      <td>Chicago, IL</td>\n",
       "      <td>[{'Seniority level': 'Entry level'}, {'Employm...</td>\n",
       "      <td>2022-11-17</td>\n",
       "      <td>https://www.linkedin.com/jobs/view/entry-level...</td>\n",
       "    </tr>\n",
       "    <tr>\n",
       "      <th>...</th>\n",
       "      <td>...</td>\n",
       "      <td>...</td>\n",
       "      <td>...</td>\n",
       "      <td>...</td>\n",
       "      <td>...</td>\n",
       "      <td>...</td>\n",
       "      <td>...</td>\n",
       "      <td>...</td>\n",
       "      <td>...</td>\n",
       "    </tr>\n",
       "    <tr>\n",
       "      <th>2840</th>\n",
       "      <td>Junior Data Analyst</td>\n",
       "      <td>Iris Software Inc.</td>\n",
       "      <td>Iris's client, one of the world's largest fina...</td>\n",
       "      <td>hybrid</td>\n",
       "      <td>NaN</td>\n",
       "      <td>Texas, United States</td>\n",
       "      <td>[{'Seniority level': 'Mid-Senior level'}, {'Em...</td>\n",
       "      <td>2022-10-21</td>\n",
       "      <td>https://www.linkedin.com/jobs/view/junior-data...</td>\n",
       "    </tr>\n",
       "    <tr>\n",
       "      <th>2841</th>\n",
       "      <td>Data Analyst (SQL)</td>\n",
       "      <td>Marwood Group</td>\n",
       "      <td>The Marwood Group (Marwood) is a leading healt...</td>\n",
       "      <td>hybrid</td>\n",
       "      <td>$75,000.00\\r\\n            -\\r\\n            $95...</td>\n",
       "      <td>New York City Metropolitan Area</td>\n",
       "      <td>[{'Seniority level': 'Mid-Senior level'}, {'Em...</td>\n",
       "      <td>2022-10-26</td>\n",
       "      <td>https://www.linkedin.com/jobs/view/data-analys...</td>\n",
       "    </tr>\n",
       "    <tr>\n",
       "      <th>2842</th>\n",
       "      <td>Data Analyst</td>\n",
       "      <td>SmartSense by Digi</td>\n",
       "      <td>Join a high-performing, tight-knit team at a f...</td>\n",
       "      <td>hybrid</td>\n",
       "      <td>NaN</td>\n",
       "      <td>Mishawaka, IN</td>\n",
       "      <td>[{'Seniority level': 'Associate'}, {'Employmen...</td>\n",
       "      <td>2022-11-17</td>\n",
       "      <td>https://www.linkedin.com/jobs/view/data-analys...</td>\n",
       "    </tr>\n",
       "    <tr>\n",
       "      <th>2843</th>\n",
       "      <td>Data Analyst</td>\n",
       "      <td>Synergy Search</td>\n",
       "      <td>Nashville (Berry Hill) based company looking t...</td>\n",
       "      <td>hybrid</td>\n",
       "      <td>$85,000.00\\r\\n            -\\r\\n            $95...</td>\n",
       "      <td>Nashville Metropolitan Area</td>\n",
       "      <td>[{'Seniority level': 'Not Applicable'}, {'Empl...</td>\n",
       "      <td>2022-11-14</td>\n",
       "      <td>https://www.linkedin.com/jobs/view/data-analys...</td>\n",
       "    </tr>\n",
       "    <tr>\n",
       "      <th>2844</th>\n",
       "      <td>Data Analyst</td>\n",
       "      <td>Insight Global</td>\n",
       "      <td>Overview - Minimum 5 years in a quantitative d...</td>\n",
       "      <td>hybrid</td>\n",
       "      <td>$130,000.00\\r\\n            -\\r\\n            $1...</td>\n",
       "      <td>Burbank, CA</td>\n",
       "      <td>[{'Seniority level': 'Mid-Senior level'}, {'Em...</td>\n",
       "      <td>2022-11-14</td>\n",
       "      <td>https://www.linkedin.com/jobs/view/data-analys...</td>\n",
       "    </tr>\n",
       "  </tbody>\n",
       "</table>\n",
       "<p>2845 rows × 9 columns</p>\n",
       "</div>"
      ],
      "text/plain": [
       "                               title                   company  \\\n",
       "0     Data Analyst - Recent Graduate                    PayPal   \n",
       "1     Data Analyst - Recent Graduate                    PayPal   \n",
       "2                       Data Analyst                    PayPal   \n",
       "3                       Data Analyst                    PayPal   \n",
       "4           Entry-Level Data Analyst  The Federal Savings Bank   \n",
       "...                              ...                       ...   \n",
       "2840             Junior Data Analyst        Iris Software Inc.   \n",
       "2841              Data Analyst (SQL)             Marwood Group   \n",
       "2842                    Data Analyst        SmartSense by Digi   \n",
       "2843                    Data Analyst            Synergy Search   \n",
       "2844                    Data Analyst            Insight Global   \n",
       "\n",
       "                                            description onsite_remote  \\\n",
       "0     At PayPal (NASDAQ: PYPL), we believe that ever...        onsite   \n",
       "1     At PayPal (NASDAQ: PYPL), we believe that ever...        onsite   \n",
       "2     At PayPal (NASDAQ: PYPL), we believe that ever...        onsite   \n",
       "3     At PayPal (NASDAQ: PYPL), we believe that ever...        onsite   \n",
       "4     The Federal Savings Bank, a national bank and ...        onsite   \n",
       "...                                                 ...           ...   \n",
       "2840  Iris's client, one of the world's largest fina...        hybrid   \n",
       "2841  The Marwood Group (Marwood) is a leading healt...        hybrid   \n",
       "2842  Join a high-performing, tight-knit team at a f...        hybrid   \n",
       "2843  Nashville (Berry Hill) based company looking t...        hybrid   \n",
       "2844  Overview - Minimum 5 years in a quantitative d...        hybrid   \n",
       "\n",
       "                                                 salary  \\\n",
       "0                                                   NaN   \n",
       "1                                                   NaN   \n",
       "2                                                   NaN   \n",
       "3                                                   NaN   \n",
       "4                                                   NaN   \n",
       "...                                                 ...   \n",
       "2840                                                NaN   \n",
       "2841  $75,000.00\\r\\n            -\\r\\n            $95...   \n",
       "2842                                                NaN   \n",
       "2843  $85,000.00\\r\\n            -\\r\\n            $95...   \n",
       "2844  $130,000.00\\r\\n            -\\r\\n            $1...   \n",
       "\n",
       "                             location  \\\n",
       "0          Buffalo-Niagara Falls Area   \n",
       "1                        San Jose, CA   \n",
       "2                Texas, United States   \n",
       "3             Illinois, United States   \n",
       "4                         Chicago, IL   \n",
       "...                               ...   \n",
       "2840             Texas, United States   \n",
       "2841  New York City Metropolitan Area   \n",
       "2842                    Mishawaka, IN   \n",
       "2843      Nashville Metropolitan Area   \n",
       "2844                      Burbank, CA   \n",
       "\n",
       "                                               criteria posted_date  \\\n",
       "0     [{'Seniority level': 'Not Applicable'}, {'Empl...  2022-11-22   \n",
       "1     [{'Seniority level': 'Not Applicable'}, {'Empl...  2022-11-22   \n",
       "2     [{'Seniority level': 'Not Applicable'}, {'Empl...  2022-11-17   \n",
       "3     [{'Seniority level': 'Not Applicable'}, {'Empl...  2022-11-17   \n",
       "4     [{'Seniority level': 'Entry level'}, {'Employm...  2022-11-17   \n",
       "...                                                 ...         ...   \n",
       "2840  [{'Seniority level': 'Mid-Senior level'}, {'Em...  2022-10-21   \n",
       "2841  [{'Seniority level': 'Mid-Senior level'}, {'Em...  2022-10-26   \n",
       "2842  [{'Seniority level': 'Associate'}, {'Employmen...  2022-11-17   \n",
       "2843  [{'Seniority level': 'Not Applicable'}, {'Empl...  2022-11-14   \n",
       "2844  [{'Seniority level': 'Mid-Senior level'}, {'Em...  2022-11-14   \n",
       "\n",
       "                                                   link  \n",
       "0     https://www.linkedin.com/jobs/view/data-analys...  \n",
       "1     https://www.linkedin.com/jobs/view/data-analys...  \n",
       "2     https://www.linkedin.com/jobs/view/data-analys...  \n",
       "3     https://www.linkedin.com/jobs/view/data-analys...  \n",
       "4     https://www.linkedin.com/jobs/view/entry-level...  \n",
       "...                                                 ...  \n",
       "2840  https://www.linkedin.com/jobs/view/junior-data...  \n",
       "2841  https://www.linkedin.com/jobs/view/data-analys...  \n",
       "2842  https://www.linkedin.com/jobs/view/data-analys...  \n",
       "2843  https://www.linkedin.com/jobs/view/data-analys...  \n",
       "2844  https://www.linkedin.com/jobs/view/data-analys...  \n",
       "\n",
       "[2845 rows x 9 columns]"
      ]
     },
     "execution_count": 8,
     "metadata": {},
     "output_type": "execute_result"
    }
   ],
   "source": [
    "salaries.drop_duplicates()"
   ]
  },
  {
   "cell_type": "code",
   "execution_count": 17,
   "id": "16b179df",
   "metadata": {},
   "outputs": [],
   "source": [
    "salaries_limpieza = salaries.copy()"
   ]
  },
  {
   "cell_type": "code",
   "execution_count": 18,
   "id": "633f337b",
   "metadata": {},
   "outputs": [
    {
     "data": {
      "text/plain": [
       "<bound method DataFrame.duplicated of                                title                   company  \\\n",
       "0     Data Analyst - Recent Graduate                    PayPal   \n",
       "1     Data Analyst - Recent Graduate                    PayPal   \n",
       "2                       Data Analyst                    PayPal   \n",
       "3                       Data Analyst                    PayPal   \n",
       "4           Entry-Level Data Analyst  The Federal Savings Bank   \n",
       "...                              ...                       ...   \n",
       "2840             Junior Data Analyst        Iris Software Inc.   \n",
       "2841              Data Analyst (SQL)             Marwood Group   \n",
       "2842                    Data Analyst        SmartSense by Digi   \n",
       "2843                    Data Analyst            Synergy Search   \n",
       "2844                    Data Analyst            Insight Global   \n",
       "\n",
       "                                            description onsite_remote  \\\n",
       "0     At PayPal (NASDAQ: PYPL), we believe that ever...        onsite   \n",
       "1     At PayPal (NASDAQ: PYPL), we believe that ever...        onsite   \n",
       "2     At PayPal (NASDAQ: PYPL), we believe that ever...        onsite   \n",
       "3     At PayPal (NASDAQ: PYPL), we believe that ever...        onsite   \n",
       "4     The Federal Savings Bank, a national bank and ...        onsite   \n",
       "...                                                 ...           ...   \n",
       "2840  Iris's client, one of the world's largest fina...        hybrid   \n",
       "2841  The Marwood Group (Marwood) is a leading healt...        hybrid   \n",
       "2842  Join a high-performing, tight-knit team at a f...        hybrid   \n",
       "2843  Nashville (Berry Hill) based company looking t...        hybrid   \n",
       "2844  Overview - Minimum 5 years in a quantitative d...        hybrid   \n",
       "\n",
       "                                                 salary  \\\n",
       "0                                                   NaN   \n",
       "1                                                   NaN   \n",
       "2                                                   NaN   \n",
       "3                                                   NaN   \n",
       "4                                                   NaN   \n",
       "...                                                 ...   \n",
       "2840                                                NaN   \n",
       "2841  $75,000.00\\r\\n            -\\r\\n            $95...   \n",
       "2842                                                NaN   \n",
       "2843  $85,000.00\\r\\n            -\\r\\n            $95...   \n",
       "2844  $130,000.00\\r\\n            -\\r\\n            $1...   \n",
       "\n",
       "                             location  \\\n",
       "0          Buffalo-Niagara Falls Area   \n",
       "1                        San Jose, CA   \n",
       "2                Texas, United States   \n",
       "3             Illinois, United States   \n",
       "4                         Chicago, IL   \n",
       "...                               ...   \n",
       "2840             Texas, United States   \n",
       "2841  New York City Metropolitan Area   \n",
       "2842                    Mishawaka, IN   \n",
       "2843      Nashville Metropolitan Area   \n",
       "2844                      Burbank, CA   \n",
       "\n",
       "                                               criteria posted_date  \\\n",
       "0     [{'Seniority level': 'Not Applicable'}, {'Empl...  2022-11-22   \n",
       "1     [{'Seniority level': 'Not Applicable'}, {'Empl...  2022-11-22   \n",
       "2     [{'Seniority level': 'Not Applicable'}, {'Empl...  2022-11-17   \n",
       "3     [{'Seniority level': 'Not Applicable'}, {'Empl...  2022-11-17   \n",
       "4     [{'Seniority level': 'Entry level'}, {'Employm...  2022-11-17   \n",
       "...                                                 ...         ...   \n",
       "2840  [{'Seniority level': 'Mid-Senior level'}, {'Em...  2022-10-21   \n",
       "2841  [{'Seniority level': 'Mid-Senior level'}, {'Em...  2022-10-26   \n",
       "2842  [{'Seniority level': 'Associate'}, {'Employmen...  2022-11-17   \n",
       "2843  [{'Seniority level': 'Not Applicable'}, {'Empl...  2022-11-14   \n",
       "2844  [{'Seniority level': 'Mid-Senior level'}, {'Em...  2022-11-14   \n",
       "\n",
       "                                                   link  \n",
       "0     https://www.linkedin.com/jobs/view/data-analys...  \n",
       "1     https://www.linkedin.com/jobs/view/data-analys...  \n",
       "2     https://www.linkedin.com/jobs/view/data-analys...  \n",
       "3     https://www.linkedin.com/jobs/view/data-analys...  \n",
       "4     https://www.linkedin.com/jobs/view/entry-level...  \n",
       "...                                                 ...  \n",
       "2840  https://www.linkedin.com/jobs/view/junior-data...  \n",
       "2841  https://www.linkedin.com/jobs/view/data-analys...  \n",
       "2842  https://www.linkedin.com/jobs/view/data-analys...  \n",
       "2843  https://www.linkedin.com/jobs/view/data-analys...  \n",
       "2844  https://www.linkedin.com/jobs/view/data-analys...  \n",
       "\n",
       "[2845 rows x 9 columns]>"
      ]
     },
     "execution_count": 18,
     "metadata": {},
     "output_type": "execute_result"
    }
   ],
   "source": [
    "salaries_limpieza.duplicated"
   ]
  },
  {
   "cell_type": "code",
   "execution_count": 19,
   "id": "d492f8af",
   "metadata": {},
   "outputs": [
    {
     "data": {
      "text/plain": [
       "np.int64(0)"
      ]
     },
     "execution_count": 19,
     "metadata": {},
     "output_type": "execute_result"
    }
   ],
   "source": [
    "salaries_limpieza.duplicated().sum()"
   ]
  },
  {
   "cell_type": "code",
   "execution_count": 20,
   "id": "b6d3ad78",
   "metadata": {},
   "outputs": [
    {
     "data": {
      "text/html": [
       "<div>\n",
       "<style scoped>\n",
       "    .dataframe tbody tr th:only-of-type {\n",
       "        vertical-align: middle;\n",
       "    }\n",
       "\n",
       "    .dataframe tbody tr th {\n",
       "        vertical-align: top;\n",
       "    }\n",
       "\n",
       "    .dataframe thead th {\n",
       "        text-align: right;\n",
       "    }\n",
       "</style>\n",
       "<table border=\"1\" class=\"dataframe\">\n",
       "  <thead>\n",
       "    <tr style=\"text-align: right;\">\n",
       "      <th></th>\n",
       "      <th>title</th>\n",
       "      <th>company</th>\n",
       "      <th>description</th>\n",
       "      <th>onsite_remote</th>\n",
       "      <th>salary</th>\n",
       "      <th>location</th>\n",
       "      <th>criteria</th>\n",
       "      <th>posted_date</th>\n",
       "      <th>link</th>\n",
       "    </tr>\n",
       "  </thead>\n",
       "  <tbody>\n",
       "  </tbody>\n",
       "</table>\n",
       "</div>"
      ],
      "text/plain": [
       "Empty DataFrame\n",
       "Columns: [title, company, description, onsite_remote, salary, location, criteria, posted_date, link]\n",
       "Index: []"
      ]
     },
     "execution_count": 20,
     "metadata": {},
     "output_type": "execute_result"
    }
   ],
   "source": [
    "salaries[salaries_limpieza.duplicated()]"
   ]
  },
  {
   "cell_type": "code",
   "execution_count": 21,
   "id": "23dd58c9",
   "metadata": {},
   "outputs": [],
   "source": [
    "salaries_limpieza = salaries_limpieza.drop_duplicates"
   ]
  },
  {
   "cell_type": "markdown",
   "id": "e7a53042",
   "metadata": {},
   "source": [
    "# Tratamientos de valores nulos nan"
   ]
  },
  {
   "cell_type": "markdown",
   "id": "3eee5664",
   "metadata": {},
   "source": [
    "### Visualizar los valores nulos "
   ]
  },
  {
   "cell_type": "code",
   "execution_count": null,
   "id": "2083368f",
   "metadata": {},
   "outputs": [
    {
     "ename": "AttributeError",
     "evalue": "'function' object has no attribute 'isna'",
     "output_type": "error",
     "traceback": [
      "\u001b[31m---------------------------------------------------------------------------\u001b[39m",
      "\u001b[31mAttributeError\u001b[39m                            Traceback (most recent call last)",
      "\u001b[36mCell\u001b[39m\u001b[36m \u001b[39m\u001b[32mIn[27]\u001b[39m\u001b[32m, line 1\u001b[39m\n\u001b[32m----> \u001b[39m\u001b[32m1\u001b[39m (\u001b[33mf\u001b[39m\u001b[33m'\u001b[39m\u001b[33mvalores NaN por columna \u001b[39m\u001b[38;5;132;01m{\u001b[39;00m\u001b[43msalaries_limpieza\u001b[49m\u001b[43m.\u001b[49m\u001b[43misna\u001b[49m().sum()\u001b[38;5;132;01m}\u001b[39;00m\u001b[33m'\u001b[39m)\n",
      "\u001b[31mAttributeError\u001b[39m: 'function' object has no attribute 'isna'"
     ]
    }
   ],
   "source": [
    "print(f'valores NaN por columna {salaries_limpieza.isna().sum()}')"
   ]
  },
  {
   "cell_type": "code",
   "execution_count": 24,
   "id": "22ea050c",
   "metadata": {},
   "outputs": [
    {
     "ename": "AttributeError",
     "evalue": "'function' object has no attribute 'isna'",
     "output_type": "error",
     "traceback": [
      "\u001b[31m---------------------------------------------------------------------------\u001b[39m",
      "\u001b[31mAttributeError\u001b[39m                            Traceback (most recent call last)",
      "\u001b[36mCell\u001b[39m\u001b[36m \u001b[39m\u001b[32mIn[24]\u001b[39m\u001b[32m, line 1\u001b[39m\n\u001b[32m----> \u001b[39m\u001b[32m1\u001b[39m \u001b[43msalaries_limpieza\u001b[49m\u001b[43m.\u001b[49m\u001b[43misna\u001b[49m()\n",
      "\u001b[31mAttributeError\u001b[39m: 'function' object has no attribute 'isna'"
     ]
    }
   ],
   "source": [
    "salaries_limpieza.isna()"
   ]
  },
  {
   "cell_type": "code",
   "execution_count": null,
   "id": "af9b33ff",
   "metadata": {},
   "outputs": [],
   "source": [
    "df_sin_nulos = salaries.dropna()\n",
    "\n",
    "df_sin_nulos_columnas "
   ]
  },
  {
   "cell_type": "code",
   "execution_count": 29,
   "id": "11bfd912",
   "metadata": {},
   "outputs": [
    {
     "data": {
      "text/html": [
       "<div>\n",
       "<style scoped>\n",
       "    .dataframe tbody tr th:only-of-type {\n",
       "        vertical-align: middle;\n",
       "    }\n",
       "\n",
       "    .dataframe tbody tr th {\n",
       "        vertical-align: top;\n",
       "    }\n",
       "\n",
       "    .dataframe thead th {\n",
       "        text-align: right;\n",
       "    }\n",
       "</style>\n",
       "<table border=\"1\" class=\"dataframe\">\n",
       "  <thead>\n",
       "    <tr style=\"text-align: right;\">\n",
       "      <th></th>\n",
       "      <th>title</th>\n",
       "      <th>company</th>\n",
       "      <th>description</th>\n",
       "      <th>onsite_remote</th>\n",
       "      <th>salary</th>\n",
       "      <th>location</th>\n",
       "      <th>criteria</th>\n",
       "      <th>posted_date</th>\n",
       "      <th>link</th>\n",
       "    </tr>\n",
       "  </thead>\n",
       "  <tbody>\n",
       "    <tr>\n",
       "      <th>8</th>\n",
       "      <td>Data Analyst</td>\n",
       "      <td>London Approach</td>\n",
       "      <td>The ideal candidate for the Data Analyst/Finan...</td>\n",
       "      <td>onsite</td>\n",
       "      <td>$100,000.00\\r\\n            -\\r\\n            $1...</td>\n",
       "      <td>Franklin, TN</td>\n",
       "      <td>[{'Seniority level': 'Associate'}, {'Employmen...</td>\n",
       "      <td>2022-11-21</td>\n",
       "      <td>https://www.linkedin.com/jobs/view/data-analys...</td>\n",
       "    </tr>\n",
       "    <tr>\n",
       "      <th>24</th>\n",
       "      <td>Data Analyst</td>\n",
       "      <td>Eva Garland Consulting, LLC</td>\n",
       "      <td>Reporting to the Director of Operations, the D...</td>\n",
       "      <td>onsite</td>\n",
       "      <td>$50,000.00\\r\\n            -\\r\\n            $55...</td>\n",
       "      <td>Raleigh, NC</td>\n",
       "      <td>[{'Seniority level': 'Entry level'}, {'Employm...</td>\n",
       "      <td>2022-11-22</td>\n",
       "      <td>https://www.linkedin.com/jobs/view/data-analys...</td>\n",
       "    </tr>\n",
       "    <tr>\n",
       "      <th>35</th>\n",
       "      <td>Data Analyst</td>\n",
       "      <td>London Approach</td>\n",
       "      <td>The ideal candidate for the Data Analyst/Finan...</td>\n",
       "      <td>onsite</td>\n",
       "      <td>$100,000.00\\r\\n            -\\r\\n            $1...</td>\n",
       "      <td>Franklin, TN</td>\n",
       "      <td>[{'Seniority level': 'Associate'}, {'Employmen...</td>\n",
       "      <td>2022-11-21</td>\n",
       "      <td>https://www.linkedin.com/jobs/view/data-analys...</td>\n",
       "    </tr>\n",
       "    <tr>\n",
       "      <th>61</th>\n",
       "      <td>Data Analyst</td>\n",
       "      <td>London Approach</td>\n",
       "      <td>The ideal candidate for the Data Analyst/Finan...</td>\n",
       "      <td>onsite</td>\n",
       "      <td>$100,000.00\\r\\n            -\\r\\n            $1...</td>\n",
       "      <td>Franklin, TN</td>\n",
       "      <td>[{'Seniority level': 'Associate'}, {'Employmen...</td>\n",
       "      <td>2022-11-21</td>\n",
       "      <td>https://www.linkedin.com/jobs/view/data-analys...</td>\n",
       "    </tr>\n",
       "    <tr>\n",
       "      <th>88</th>\n",
       "      <td>Data Analyst</td>\n",
       "      <td>London Approach</td>\n",
       "      <td>The ideal candidate for the Data Analyst/Finan...</td>\n",
       "      <td>onsite</td>\n",
       "      <td>$100,000.00\\r\\n            -\\r\\n            $1...</td>\n",
       "      <td>Franklin, TN</td>\n",
       "      <td>[{'Seniority level': 'Associate'}, {'Employmen...</td>\n",
       "      <td>2022-11-21</td>\n",
       "      <td>https://www.linkedin.com/jobs/view/data-analys...</td>\n",
       "    </tr>\n",
       "  </tbody>\n",
       "</table>\n",
       "</div>"
      ],
      "text/plain": [
       "           title                      company  \\\n",
       "8   Data Analyst              London Approach   \n",
       "24  Data Analyst  Eva Garland Consulting, LLC   \n",
       "35  Data Analyst              London Approach   \n",
       "61  Data Analyst              London Approach   \n",
       "88  Data Analyst              London Approach   \n",
       "\n",
       "                                          description onsite_remote  \\\n",
       "8   The ideal candidate for the Data Analyst/Finan...        onsite   \n",
       "24  Reporting to the Director of Operations, the D...        onsite   \n",
       "35  The ideal candidate for the Data Analyst/Finan...        onsite   \n",
       "61  The ideal candidate for the Data Analyst/Finan...        onsite   \n",
       "88  The ideal candidate for the Data Analyst/Finan...        onsite   \n",
       "\n",
       "                                               salary      location  \\\n",
       "8   $100,000.00\\r\\n            -\\r\\n            $1...  Franklin, TN   \n",
       "24  $50,000.00\\r\\n            -\\r\\n            $55...   Raleigh, NC   \n",
       "35  $100,000.00\\r\\n            -\\r\\n            $1...  Franklin, TN   \n",
       "61  $100,000.00\\r\\n            -\\r\\n            $1...  Franklin, TN   \n",
       "88  $100,000.00\\r\\n            -\\r\\n            $1...  Franklin, TN   \n",
       "\n",
       "                                             criteria posted_date  \\\n",
       "8   [{'Seniority level': 'Associate'}, {'Employmen...  2022-11-21   \n",
       "24  [{'Seniority level': 'Entry level'}, {'Employm...  2022-11-22   \n",
       "35  [{'Seniority level': 'Associate'}, {'Employmen...  2022-11-21   \n",
       "61  [{'Seniority level': 'Associate'}, {'Employmen...  2022-11-21   \n",
       "88  [{'Seniority level': 'Associate'}, {'Employmen...  2022-11-21   \n",
       "\n",
       "                                                 link  \n",
       "8   https://www.linkedin.com/jobs/view/data-analys...  \n",
       "24  https://www.linkedin.com/jobs/view/data-analys...  \n",
       "35  https://www.linkedin.com/jobs/view/data-analys...  \n",
       "61  https://www.linkedin.com/jobs/view/data-analys...  \n",
       "88  https://www.linkedin.com/jobs/view/data-analys...  "
      ]
     },
     "execution_count": 29,
     "metadata": {},
     "output_type": "execute_result"
    }
   ],
   "source": [
    "df_sin_nulos.head()"
   ]
  },
  {
   "cell_type": "code",
   "execution_count": 30,
   "id": "25f1a65a",
   "metadata": {},
   "outputs": [
    {
     "data": {
      "text/plain": [
       "8     $100,000.00\\r\\n            -\\r\\n            $1...\n",
       "24    $50,000.00\\r\\n            -\\r\\n            $55...\n",
       "35    $100,000.00\\r\\n            -\\r\\n            $1...\n",
       "61    $100,000.00\\r\\n            -\\r\\n            $1...\n",
       "88    $100,000.00\\r\\n            -\\r\\n            $1...\n",
       "Name: salary, dtype: object"
      ]
     },
     "execution_count": 30,
     "metadata": {},
     "output_type": "execute_result"
    }
   ],
   "source": [
    "df_sin_nulos['salary'].head()"
   ]
  },
  {
   "cell_type": "code",
   "execution_count": 31,
   "id": "5d70114c",
   "metadata": {},
   "outputs": [
    {
     "data": {
      "text/plain": [
       "(929, 9)"
      ]
     },
     "execution_count": 31,
     "metadata": {},
     "output_type": "execute_result"
    }
   ],
   "source": [
    "df_sin_nulos.shape"
   ]
  },
  {
   "cell_type": "markdown",
   "id": "4a371b2e",
   "metadata": {},
   "source": [
    "### `axis (0) -> Revisa por fila`\n",
    "### `axis (1) -> Revisa por columna`"
   ]
  },
  {
   "cell_type": "markdown",
   "id": "0df6fd6e",
   "metadata": {},
   "source": [
    "### `Any` : Elimina si por linea hay un NaN\n",
    "### `All` : Sin todos son NaN"
   ]
  },
  {
   "cell_type": "code",
   "execution_count": null,
   "id": "c2470226",
   "metadata": {},
   "outputs": [],
   "source": [
    "df_sin_nulos_columnas = (variable) salaries : DataFrame\n",
    "df_sin_nulos_columnas = (variable) salaries : DataFrame"
   ]
  },
  {
   "cell_type": "markdown",
   "id": "561cecb2",
   "metadata": {},
   "source": [
    "## Transformación de datos\n"
   ]
  },
  {
   "cell_type": "code",
   "execution_count": 32,
   "id": "653c0b4b",
   "metadata": {},
   "outputs": [
    {
     "data": {
      "text/plain": [
       "8       $100,000.00\\r\\n            -\\r\\n            $1...\n",
       "24      $50,000.00\\r\\n            -\\r\\n            $55...\n",
       "35      $100,000.00\\r\\n            -\\r\\n            $1...\n",
       "61      $100,000.00\\r\\n            -\\r\\n            $1...\n",
       "88      $100,000.00\\r\\n            -\\r\\n            $1...\n",
       "                              ...                        \n",
       "2834        $30.00\\r\\n            -\\r\\n            $33.00\n",
       "2836    $120,000.00\\r\\n            -\\r\\n            $1...\n",
       "2841    $75,000.00\\r\\n            -\\r\\n            $95...\n",
       "2843    $85,000.00\\r\\n            -\\r\\n            $95...\n",
       "2844    $130,000.00\\r\\n            -\\r\\n            $1...\n",
       "Name: salary, Length: 929, dtype: object"
      ]
     },
     "execution_count": 32,
     "metadata": {},
     "output_type": "execute_result"
    }
   ],
   "source": [
    "df_sin_nulos['salary']"
   ]
  },
  {
   "cell_type": "code",
   "execution_count": 34,
   "id": "f75b1525",
   "metadata": {},
   "outputs": [
    {
     "name": "stderr",
     "output_type": "stream",
     "text": [
      "<>:6: SyntaxWarning: invalid escape sequence '\\d'\n",
      "<>:6: SyntaxWarning: invalid escape sequence '\\d'\n",
      "<>:6: SyntaxWarning: invalid escape sequence '\\d'\n",
      "<>:6: SyntaxWarning: invalid escape sequence '\\d'\n",
      "C:\\Users\\Mimi0\\AppData\\Local\\Temp\\ipykernel_24800\\4043610048.py:6: SyntaxWarning: invalid escape sequence '\\d'\n",
      "  df_sin_nulos['salary_numeric'] = df_sin_nulos['salary'].replace('[^\\d.]', '', regex=True).str.extract('(\\d+)').astype(float)\n",
      "C:\\Users\\Mimi0\\AppData\\Local\\Temp\\ipykernel_24800\\4043610048.py:6: SyntaxWarning: invalid escape sequence '\\d'\n",
      "  df_sin_nulos['salary_numeric'] = df_sin_nulos['salary'].replace('[^\\d.]', '', regex=True).str.extract('(\\d+)').astype(float)\n",
      "C:\\Users\\Mimi0\\AppData\\Local\\Temp\\ipykernel_24800\\4043610048.py:6: SettingWithCopyWarning: \n",
      "A value is trying to be set on a copy of a slice from a DataFrame.\n",
      "Try using .loc[row_indexer,col_indexer] = value instead\n",
      "\n",
      "See the caveats in the documentation: https://pandas.pydata.org/pandas-docs/stable/user_guide/indexing.html#returning-a-view-versus-a-copy\n",
      "  df_sin_nulos['salary_numeric'] = df_sin_nulos['salary'].replace('[^\\d.]', '', regex=True).str.extract('(\\d+)').astype(float)\n"
     ]
    }
   ],
   "source": [
    "## Este código toma una columna 'salary' que contiene valores de salario en formato de cadena, \n",
    "## elimina cualquier caracter no numérico, extrae los dígitos y convierte la columna resultante en valores numéricos de tipo float. \n",
    "##El resultado se almacena en una nueva columna llamada 'salary_numeric'. \n",
    "##Esto es útil cuando la columna 'salary' inicial contiene caracteres no numéricos y se desea trabajar con los salarios como valores numéricos.\n",
    "\n",
    "df_sin_nulos['salary_numeric'] = df_sin_nulos['salary'].replace('[^\\d.]', '', regex=True).str.extract('(\\d+)').astype(float)"
   ]
  },
  {
   "cell_type": "code",
   "execution_count": 36,
   "id": "437d750e",
   "metadata": {},
   "outputs": [
    {
     "name": "stderr",
     "output_type": "stream",
     "text": [
      "C:\\Users\\Mimi0\\AppData\\Local\\Temp\\ipykernel_24800\\2095471033.py:4: SettingWithCopyWarning: \n",
      "A value is trying to be set on a copy of a slice from a DataFrame.\n",
      "Try using .loc[row_indexer,col_indexer] = value instead\n",
      "\n",
      "See the caveats in the documentation: https://pandas.pydata.org/pandas-docs/stable/user_guide/indexing.html#returning-a-view-versus-a-copy\n",
      "  df_sin_nulos['salary_numeric'] = df_sin_nulos['salary'].astype(str).apply(\n"
     ]
    }
   ],
   "source": [
    "import re\n",
    "\n",
    "# Extrae el primer número válido (entero o decimal) de cada celda y lo convierte a float\n",
    "df_sin_nulos['salary_numeric'] = df_sin_nulos['salary'].astype(str).apply(\n",
    "    lambda x: float(re.search(r'\\d+(?:\\.\\d+)?', x).group()) if re.search(r'\\d+(?:\\.\\d+)?', x) else None\n",
    ")"
   ]
  },
  {
   "cell_type": "code",
   "execution_count": 37,
   "id": "79407a39",
   "metadata": {},
   "outputs": [
    {
     "data": {
      "text/plain": [
       "8       100.0\n",
       "24       50.0\n",
       "35      100.0\n",
       "61      100.0\n",
       "88      100.0\n",
       "        ...  \n",
       "2834     30.0\n",
       "2836    120.0\n",
       "2841     75.0\n",
       "2843     85.0\n",
       "2844    130.0\n",
       "Name: salary_numeric, Length: 929, dtype: float64"
      ]
     },
     "execution_count": 37,
     "metadata": {},
     "output_type": "execute_result"
    }
   ],
   "source": [
    "df_sin_nulos['salary_numeric']"
   ]
  }
 ],
 "metadata": {
  "kernelspec": {
   "display_name": "Python 3",
   "language": "python",
   "name": "python3"
  },
  "language_info": {
   "codemirror_mode": {
    "name": "ipython",
    "version": 3
   },
   "file_extension": ".py",
   "mimetype": "text/x-python",
   "name": "python",
   "nbconvert_exporter": "python",
   "pygments_lexer": "ipython3",
   "version": "3.13.5"
  }
 },
 "nbformat": 4,
 "nbformat_minor": 5
}
