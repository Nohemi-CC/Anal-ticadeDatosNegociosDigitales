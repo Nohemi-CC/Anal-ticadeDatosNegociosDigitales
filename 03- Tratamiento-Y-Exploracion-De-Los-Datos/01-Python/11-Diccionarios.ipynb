{
 "cells": [
  {
   "cell_type": "markdown",
   "id": "737f585b",
   "metadata": {},
   "source": [
    "># Crear y Accesar a los Diccionarios"
   ]
  },
  {
   "cell_type": "markdown",
   "id": "acb6970c",
   "metadata": {},
   "source": [
    "## Objetivos\n",
    "\n",
    "- Aprender a crear diccionarios para llaves - valor\n",
    "- Aprender a accesar a los valores guardados\n",
    "---"
   ]
  },
  {
   "cell_type": "markdown",
   "id": "ec610b21",
   "metadata": {},
   "source": [
    "## Desarrollo:\n",
    "\n",
    "Los diccionarios se definen usando (`{ }`)"
   ]
  },
  {
   "cell_type": "code",
   "execution_count": 1,
   "id": "75cd5ecc",
   "metadata": {},
   "outputs": [],
   "source": [
    "diccionario_1 = {}"
   ]
  },
  {
   "cell_type": "code",
   "execution_count": 2,
   "id": "31270c84",
   "metadata": {},
   "outputs": [],
   "source": [
    "diccionario_2 = {\n",
    "    'llave_1': 'valor_1',\n",
    "    'llave_1': 'valor_1',\n",
    "    'llave_1': 'valor_1',\n",
    "    'llave_4': 'valor_4',\n",
    "\n",
    "}"
   ]
  },
  {
   "cell_type": "markdown",
   "id": "5bf38df7",
   "metadata": {},
   "source": [
    "Nuestros valores pueden ser cualquier tipo de dato que se conozca hasta este momento."
   ]
  },
  {
   "cell_type": "code",
   "execution_count": 4,
   "id": "c4300439",
   "metadata": {},
   "outputs": [],
   "source": [
    "diccionario_4 = {\n",
    "    'int': 123,\n",
    "    'float': 23.56,\n",
    "    'string':'Hola',\n",
    "    'boolean': True,\n",
    "    'lista': [1,2,3,4],\n",
    "    'diccionario':{\n",
    "        1:'uno',\n",
    "        2:'dos'\n",
    "        }\n",
    "\n",
    "}"
   ]
  },
  {
   "cell_type": "markdown",
   "id": "7a5426c6",
   "metadata": {},
   "source": [
    "Acceder a un diccionario es tan facil como escribir el nombre  del diccionario, agregar corchetes ([]) y pasarle el nombre de la llave (o clave) que quieres acceder. Por obvias razones, un diccionario no puede tener mas de una llave con el mismo nombre. Si tenemos otras estructuras de datos dentro de nuestro diccionario, podemos acceder a los elementos dentro de ellas despues de haber accedido primero a toda la estructura de datos:"
   ]
  },
  {
   "cell_type": "code",
   "execution_count": 5,
   "id": "3c8509c2",
   "metadata": {},
   "outputs": [
    {
     "name": "stdout",
     "output_type": "stream",
     "text": [
      "23.56\n"
     ]
    }
   ],
   "source": [
    "print(diccionario_4['float'])"
   ]
  },
  {
   "cell_type": "code",
   "execution_count": 6,
   "id": "afe28d85",
   "metadata": {},
   "outputs": [
    {
     "name": "stdout",
     "output_type": "stream",
     "text": [
      "True\n"
     ]
    }
   ],
   "source": [
    "print(diccionario_4['boolean'])"
   ]
  },
  {
   "cell_type": "code",
   "execution_count": 7,
   "id": "942d776e",
   "metadata": {},
   "outputs": [
    {
     "name": "stdout",
     "output_type": "stream",
     "text": [
      "[1, 2, 3, 4]\n"
     ]
    }
   ],
   "source": [
    "print(diccionario_4['lista'])"
   ]
  },
  {
   "cell_type": "code",
   "execution_count": 8,
   "id": "23c7b08d",
   "metadata": {},
   "outputs": [
    {
     "name": "stdout",
     "output_type": "stream",
     "text": [
      "3\n"
     ]
    }
   ],
   "source": [
    "print(diccionario_4['lista'][2])"
   ]
  },
  {
   "cell_type": "code",
   "execution_count": 10,
   "id": "d4901190",
   "metadata": {},
   "outputs": [
    {
     "name": "stdout",
     "output_type": "stream",
     "text": [
      "dos\n"
     ]
    }
   ],
   "source": [
    "print(diccionario_4['diccionario'][2])"
   ]
  }
 ],
 "metadata": {
  "kernelspec": {
   "display_name": "Python 3",
   "language": "python",
   "name": "python3"
  },
  "language_info": {
   "codemirror_mode": {
    "name": "ipython",
    "version": 3
   },
   "file_extension": ".py",
   "mimetype": "text/x-python",
   "name": "python",
   "nbconvert_exporter": "python",
   "pygments_lexer": "ipython3",
   "version": "3.13.5"
  }
 },
 "nbformat": 4,
 "nbformat_minor": 5
}
