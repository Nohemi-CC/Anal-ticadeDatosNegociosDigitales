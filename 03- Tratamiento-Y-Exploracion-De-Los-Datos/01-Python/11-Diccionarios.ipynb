{
 "cells": [
  {
   "cell_type": "markdown",
   "id": "4db53987",
   "metadata": {},
   "source": [
    "># Crear y Accesar a los Diccionarios"
   ]
  },
  {
   "cell_type": "markdown",
   "id": "c0a2b953",
   "metadata": {},
   "source": [
    "## Objetivos\n",
    "\n",
    "- Aprender a crear diccionarioscon pares llaves - valor\n",
    "- Aprender a accesar a los valores guardados\n",
    "---"
   ]
  },
  {
   "cell_type": "markdown",
   "id": "34960f50",
   "metadata": {},
   "source": [
    "## Desarrollo:\n",
    "\n",
    "Los diccionarios se definen usando (`{}`) "
   ]
  },
  {
   "cell_type": "code",
   "execution_count": 1,
   "id": "c44d9311",
   "metadata": {},
   "outputs": [],
   "source": [
    "diccionario_1 = {}"
   ]
  },
  {
   "cell_type": "markdown",
   "id": "b84c9ed3",
   "metadata": {},
   "source": [
    "diccionario_1 ya es un diccionario. Solo que esta vacio. Para incluir datos dentro de un diccionario, tenemos que agregar pares llave - valor detro de las llaves ({}),. Cada par llave - valor se separa con una (,):"
   ]
  },
  {
   "cell_type": "code",
   "execution_count": null,
   "id": "9b9f9b95",
   "metadata": {},
   "outputs": [],
   "source": [
    "diccionario_2 = {\n",
    "    \"llave_1\":\"valor_1\",\n",
    "   \"llave_2\":\"valor_2\",\n",
    "   \"llave_3\":\"valor_3\",\n",
    "   \"llave_4\":\"valor_4\"\n",
    "\n",
    "}"
   ]
  },
  {
   "cell_type": "markdown",
   "id": "c1412884",
   "metadata": {},
   "source": [
    "Nuestras llaves pueden ser tanto `String` como `Int`(pueden ser otras cosas, pero estos son los mas comunes)"
   ]
  },
  {
   "cell_type": "code",
   "execution_count": null,
   "id": "d312fabb",
   "metadata": {},
   "outputs": [],
   "source": [
    "diccionario_3 = {\n",
    "    1:\"Uno\",\n",
    "    2:\"Dos\",\n",
    "    3:\"Tres\",\n",
    "    4:\"Cuatro\"\n",
    "}"
   ]
  },
  {
   "cell_type": "markdown",
   "id": "f3c02374",
   "metadata": {},
   "source": [
    "Nuestro valores pueden ser cualquier tipo de dato que se conozca hasta este momento."
   ]
  },
  {
   "cell_type": "code",
   "execution_count": 4,
   "id": "fff7efd7",
   "metadata": {},
   "outputs": [],
   "source": [
    "diccionario_4 = {\n",
    "    'int': 123,\n",
    "    'float': 23.56,\n",
    "    'string':'Hola',\n",
    "    'boolean': True,\n",
    "    'lista': [1,2,3,4],\n",
    "    'diccionario':{\n",
    "        1:'uno',\n",
    "        2:'dos'\n",
    "    }\n",
    "\n",
    "}"
   ]
  },
  {
   "cell_type": "markdown",
   "id": "3ae480c4",
   "metadata": {},
   "source": [
    "Acceder a un diccionario es tan facil como escribir el nombre  del diccionario, agregar corchetes (`[]`) y pasarle el nombre de la llave (o clave) que quieres acceder. Por obvias razones, un diccionario no puede tener mas de una llave con el mismo nombre. Si tenemos otras estructuras de datos dentro de nuestro diccionario, podemos acceder a los elementos dentro de ellas despues de haber accedido primero a toda la estructura de datos:"
   ]
  },
  {
   "cell_type": "code",
   "execution_count": 3,
   "id": "63418c86",
   "metadata": {},
   "outputs": [
    {
     "name": "stdout",
     "output_type": "stream",
     "text": [
      "23.56\n"
     ]
    }
   ],
   "source": [
    "print(diccionario_4['float'])"
   ]
  },
  {
   "cell_type": "code",
   "execution_count": 5,
   "id": "131d48e2",
   "metadata": {},
   "outputs": [
    {
     "name": "stdout",
     "output_type": "stream",
     "text": [
      "True\n"
     ]
    }
   ],
   "source": [
    "print(diccionario_4['boolean'])"
   ]
  },
  {
   "cell_type": "code",
   "execution_count": 6,
   "id": "eadda1c4",
   "metadata": {},
   "outputs": [
    {
     "name": "stdout",
     "output_type": "stream",
     "text": [
      "[1, 2, 3, 4]\n"
     ]
    }
   ],
   "source": [
    "print(diccionario_4['lista'])"
   ]
  },
  {
   "cell_type": "code",
   "execution_count": null,
   "id": "d80a06cb",
   "metadata": {},
   "outputs": [
    {
     "name": "stdout",
     "output_type": "stream",
     "text": [
      "3\n"
     ]
    }
   ],
   "source": [
    "print(diccionario_4['lista'][2])"
   ]
  },
  {
   "cell_type": "code",
   "execution_count": null,
   "id": "cf439207",
   "metadata": {},
   "outputs": [
    {
     "name": "stdout",
     "output_type": "stream",
     "text": [
      "dos\n"
     ]
    }
   ],
   "source": [
    "print(diccionario_4['diccionario'][2])"
   ]
  }
 ],
 "metadata": {
  "kernelspec": {
   "display_name": "Python 3",
   "language": "python",
   "name": "python3"
  },
  "language_info": {
   "codemirror_mode": {
    "name": "ipython",
    "version": 3
   },
   "file_extension": ".py",
   "mimetype": "text/x-python",
   "name": "python",
   "nbconvert_exporter": "python",
   "pygments_lexer": "ipython3",
   "version": "3.13.1"
  }
 },
 "nbformat": 4,
 "nbformat_minor": 5
}
