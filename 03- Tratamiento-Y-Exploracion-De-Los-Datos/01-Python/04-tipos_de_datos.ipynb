{
 "cells": [
  {
   "cell_type": "markdown",
   "id": "112f31bb",
   "metadata": {},
   "source": [
    "## Tipos de Datos\n",
    "\n",
    "### Objetivos: \n",
    "- Hablar sobre los 4 tipos de datos basicos que tiene python\n",
    "\n",
    "---\n",
    "\n",
    "### Desarrollo: "
   ]
  },
  {
   "cell_type": "markdown",
   "id": "e6f4fb07",
   "metadata": {},
   "source": [
    "Se tienen 4 tipos de datos básicos. Veamos en código y tulicemos las funciones `print` y `type` pR imprimir los tipos de manera explicita:\n"
   ]
  },
  {
   "cell_type": "code",
   "execution_count": 3,
   "id": "56052edb",
   "metadata": {},
   "outputs": [
    {
     "name": "stdout",
     "output_type": "stream",
     "text": [
      "4598\n",
      "<class 'int'>\n",
      "\n",
      "\n",
      "369.432\n",
      "<class 'float'>\n",
      "\n",
      "\n",
      "Yo soy un string\n",
      "<class 'str'>\n",
      "\n",
      "\n",
      "True\n",
      "<class 'bool'>\n",
      "\n",
      "\n"
     ]
    }
   ],
   "source": [
    "# Este es un numero\n",
    "\n",
    "var_int = 4598\n",
    "\n",
    "print(var_int)\n",
    "print(type(var_int))\n",
    "print('\\n')\n",
    "\n",
    "# Este es un número decimal\n",
    "\n",
    "var_float = 369.432\n",
    "print(var_float)\n",
    "print(type(var_float))\n",
    "print('\\n')\n",
    "\n",
    "## Este es un String\n",
    "\n",
    "var_String = \"Yo soy un string\"\n",
    "print(var_String)\n",
    "print(type(var_String))\n",
    "print('\\n')\n",
    "\n",
    "## Este es un booleano\n",
    "\n",
    "var_bool = True\n",
    "print(var_bool)\n",
    "print(type(var_bool))\n",
    "print('\\n')\n"
   ]
  }
 ],
 "metadata": {
  "kernelspec": {
   "display_name": "Python 3",
   "language": "python",
   "name": "python3"
  },
  "language_info": {
   "codemirror_mode": {
    "name": "ipython",
    "version": 3
   },
   "file_extension": ".py",
   "mimetype": "text/x-python",
   "name": "python",
   "nbconvert_exporter": "python",
   "pygments_lexer": "ipython3",
   "version": "3.13.3"
  }
 },
 "nbformat": 4,
 "nbformat_minor": 5
}
