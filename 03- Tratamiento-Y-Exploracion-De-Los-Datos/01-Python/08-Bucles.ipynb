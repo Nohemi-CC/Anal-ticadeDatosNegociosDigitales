{
 "cells": [
  {
   "cell_type": "code",
   "execution_count": 7,
   "id": "c1e09720",
   "metadata": {},
   "outputs": [
    {
     "name": "stdout",
     "output_type": "stream",
     "text": [
      "El numero de aprobados es 3 \n",
      " El numero de reprobados es: 0\n"
     ]
    }
   ],
   "source": [
    "cal = int(input('Introduce la calificación'))\n",
    "califAprob = 0\n",
    "califRepro = 0\n",
    "\n",
    "while cal!=-1:\n",
    "    if cal >=7.0 and cal<=10.0:\n",
    "        califAprob = califAprob + 1\n",
    "    elif cal<7.0 and cal>=0:\n",
    "        califRepro +=1\n",
    "    \n",
    "    cal = int(input('Introduce la calificación')) \n",
    "\n",
    "print(f'El numero de aprobados es {califAprob} \\n El numero de reprobados es: {califRepro}')\n"
   ]
  },
  {
   "cell_type": "markdown",
   "id": "48a64e45",
   "metadata": {},
   "source": [
    "## Buclé con for\n",
    "\n",
    "Otro tipo de bucle disponible `python` proviene de la observación de que a veces es más importante contar los 'giros o vueltas' del bucle que verificar las condiciones.\n",
    "\n",
    "```python\n",
    "\n",
    "for i in range (100):\n",
    "    #do_something()\n",
    "    pass\n",
    "```"
   ]
  },
  {
   "cell_type": "code",
   "execution_count": 9,
   "id": "f7e49581",
   "metadata": {},
   "outputs": [
    {
     "name": "stdout",
     "output_type": "stream",
     "text": [
      "El valor de i es 0\n",
      "El valor de i es 1\n",
      "El valor de i es 2\n",
      "El valor de i es 3\n",
      "El valor de i es 4\n",
      "El valor de i es 5\n",
      "El valor de i es 6\n",
      "El valor de i es 7\n",
      "El valor de i es 8\n",
      "El valor de i es 9\n"
     ]
    }
   ],
   "source": [
    "for i in range(10):\n",
    "    print(f'El valor de i es {i}')"
   ]
  },
  {
   "cell_type": "code",
   "execution_count": 10,
   "id": "d1880ce5",
   "metadata": {},
   "outputs": [
    {
     "name": "stdout",
     "output_type": "stream",
     "text": [
      "El valor de i es 1\n",
      "El valor de i es 2\n",
      "El valor de i es 3\n",
      "El valor de i es 4\n",
      "El valor de i es 5\n",
      "El valor de i es 6\n",
      "El valor de i es 7\n",
      "El valor de i es 8\n",
      "El valor de i es 9\n",
      "El valor de i es 10\n"
     ]
    }
   ],
   "source": [
    "for i in range(10):\n",
    "    print(f'El valor de i es {i + 1}')"
   ]
  },
  {
   "cell_type": "code",
   "execution_count": 11,
   "id": "63fb318d",
   "metadata": {},
   "outputs": [
    {
     "name": "stdout",
     "output_type": "stream",
     "text": [
      "2\n",
      "3\n",
      "4\n",
      "9\n",
      "6\n",
      "7\n",
      "10\n",
      "[2, 3, 5, 6]\n"
     ]
    }
   ],
   "source": [
    "lista = [2,3,4,9,6,7,10,[2,3,5,6]]\n",
    "\n",
    "for li in lista:\n",
    "    print(li)"
   ]
  },
  {
   "cell_type": "markdown",
   "id": "421fb313",
   "metadata": {},
   "source": [
    "Nota:\n",
    "\n",
    "El bucle se ha ejecutado 10 veces (es el argumento de la función range()) El valor de la ultima variable de cotrol es 9 (no 10, ya que comienza en 0, no desde 1)"
   ]
  },
  {
   "cell_type": "code",
   "execution_count": 12,
   "id": "0dd2de15",
   "metadata": {},
   "outputs": [
    {
     "name": "stdout",
     "output_type": "stream",
     "text": [
      "El valor de i es 2\n",
      "El valor de i es 3\n",
      "El valor de i es 4\n",
      "El valor de i es 5\n",
      "El valor de i es 6\n",
      "El valor de i es 7\n"
     ]
    }
   ],
   "source": [
    "for i in range(2,8):\n",
    "    print(f'El valor de i es {i}')"
   ]
  },
  {
   "cell_type": "code",
   "execution_count": 13,
   "id": "a0a0c53c",
   "metadata": {},
   "outputs": [
    {
     "name": "stdout",
     "output_type": "stream",
     "text": [
      "El valor de i es 2\n",
      "El valor de i es 3\n",
      "El valor de i es 4\n",
      "El valor de i es 5\n",
      "El valor de i es 6\n",
      "El valor de i es 7\n"
     ]
    }
   ],
   "source": [
    "i = 2 \n",
    "while i<8:\n",
    "    print(f'El valor de i es {i}')\n",
    "    i+=1"
   ]
  },
  {
   "cell_type": "markdown",
   "id": "32c364fe",
   "metadata": {},
   "source": [
    "La función range tambien puede aceptar 3 argumentos "
   ]
  },
  {
   "cell_type": "code",
   "execution_count": 14,
   "id": "1b94c567",
   "metadata": {},
   "outputs": [
    {
     "name": "stdout",
     "output_type": "stream",
     "text": [
      "El valor de i es 2\n",
      "El valor de i es 5\n"
     ]
    }
   ],
   "source": [
    "for i in range(2,8,3):\n",
    "    print(f'El valor de i es {i}')"
   ]
  },
  {
   "cell_type": "code",
   "execution_count": 15,
   "id": "2dfa4515",
   "metadata": {},
   "outputs": [
    {
     "name": "stdout",
     "output_type": "stream",
     "text": [
      "El valor es i es 2\n",
      "El valor es i es 5\n"
     ]
    }
   ],
   "source": [
    "i = 2\n",
    "while i<8:\n",
    "    print(f'El valor es i es {i}')\n",
    "    i += 3"
   ]
  },
  {
   "cell_type": "markdown",
   "id": "bb99afed",
   "metadata": {},
   "source": [
    "Las sentencias break y continue\n",
    "\n",
    " `break` - Sale del bucle inmediatamente, e incondicionalmente termina la operación del bucle, el programa empieza a ejecutar la instrucción más cercana después del cuerpo del bucle.\n",
    "\n",
    " `continue` - Se comporta como si el programa hubiera llegado repentinamente al final del cuerpo; el siguiente trno se incia y la expresion de condicion se prueba de inmediato."
   ]
  },
  {
   "cell_type": "code",
   "execution_count": 16,
   "id": "1be19111",
   "metadata": {},
   "outputs": [
    {
     "name": "stdout",
     "output_type": "stream",
     "text": [
      "La instrucción break\n",
      "Dentro del bucle\n",
      "Dentro del bucle\n",
      "Fuera del bucle\n"
     ]
    }
   ],
   "source": [
    "# break - ejemplo\n",
    "\n",
    "print('La instrucción break')\n",
    "for i in range(1,6):\n",
    "    if i == 3:\n",
    "        break\n",
    "    print('Dentro del bucle')\n",
    "print('Fuera del bucle')"
   ]
  },
  {
   "cell_type": "code",
   "execution_count": 17,
   "id": "fd8f5ccc",
   "metadata": {},
   "outputs": [
    {
     "name": "stdout",
     "output_type": "stream",
     "text": [
      "\n",
      " La instrucción continue:\n",
      "Dentro del bucle. 1\n",
      "Dentro del bucle. 2\n",
      "Dentro del bucle. 4\n",
      "Dentro del bucle. 5\n",
      "Fuera del Bucle\n"
     ]
    }
   ],
   "source": [
    "# continue\n",
    "\n",
    "print('\\n La instrucción continue:')\n",
    "for i in range(1,6):\n",
    "    if i == 3:\n",
    "        continue\n",
    "    print(f'Dentro del bucle. {i}')\n",
    "print('Fuera del Bucle')"
   ]
  }
 ],
 "metadata": {
  "kernelspec": {
   "display_name": "Python 3",
   "language": "python",
   "name": "python3"
  },
  "language_info": {
   "codemirror_mode": {
    "name": "ipython",
    "version": 3
   },
   "file_extension": ".py",
   "mimetype": "text/x-python",
   "name": "python",
   "nbconvert_exporter": "python",
   "pygments_lexer": "ipython3",
   "version": "3.13.3"
  }
 },
 "nbformat": 4,
 "nbformat_minor": 5
}
