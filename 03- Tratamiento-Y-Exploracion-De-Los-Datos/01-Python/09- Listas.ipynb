{
 "cells": [
  {
   "cell_type": "markdown",
   "id": "6e92c23f",
   "metadata": {},
   "source": [
    "# Listas\n",
    "\n",
    "1. Objetivos\n",
    "\n",
    "- Entender las sintaxis de las listas en python\n",
    "- Aprender a crear listas y accesarlas\n",
    "\n",
    "---\n",
    "\n",
    "2-Desarrollo:\n",
    "\n",
    "## Creando listas y accediendo a ella\n",
    "\n",
    "Las listas son secuencias ordenadas. El orden de los datos en la lista es el mismo orden que tiene los datos a la hora de ser asignados. Una lista se ve asi:"
   ]
  },
  {
   "cell_type": "code",
   "execution_count": 3,
   "id": "efe79ef7",
   "metadata": {},
   "outputs": [
    {
     "data": {
      "text/plain": [
       "[1, 4, 6, 2, 4]"
      ]
     },
     "execution_count": 3,
     "metadata": {},
     "output_type": "execute_result"
    }
   ],
   "source": [
    "lista_1 = [1,4,6,2,4]\n",
    "lista_1"
   ]
  },
  {
   "cell_type": "code",
   "execution_count": 4,
   "id": "a7e6d1cb",
   "metadata": {},
   "outputs": [
    {
     "data": {
      "text/plain": [
       "list"
      ]
     },
     "execution_count": 4,
     "metadata": {},
     "output_type": "execute_result"
    }
   ],
   "source": [
    "type(lista_1)"
   ]
  },
  {
   "cell_type": "markdown",
   "id": "aa231eff",
   "metadata": {},
   "source": [
    "Cada elemento de la lista tiene un indice, que se utiliza para acceder a dicho elemento. Dado que las listas son ordenadas, los indices se van asignando secuencialmente desde el primer elemento hasta el ultimo. El primer indice es siempre `0`, y por lo tanto el ultimo indice es siempre `n-1`, donde `n` es el numero total de elementos en la lista."
   ]
  },
  {
   "cell_type": "code",
   "execution_count": 5,
   "id": "c3400558",
   "metadata": {},
   "outputs": [
    {
     "name": "stdout",
     "output_type": "stream",
     "text": [
      "Primer elemento de la lista: 1\n",
      "El ultimo elemento de la lista: 4\n"
     ]
    }
   ],
   "source": [
    "# Imprimir el primer elemento de la lista\n",
    "\n",
    "print(f'Primer elemento de la lista: {lista_1[0]}')\n",
    "print(f'El ultimo elemento de la lista: {lista_1[4]}')"
   ]
  },
  {
   "cell_type": "code",
   "execution_count": 6,
   "id": "32bacc08",
   "metadata": {},
   "outputs": [
    {
     "ename": "IndexError",
     "evalue": "list index out of range",
     "output_type": "error",
     "traceback": [
      "\u001b[31m---------------------------------------------------------------------------\u001b[39m",
      "\u001b[31mIndexError\u001b[39m                                Traceback (most recent call last)",
      "\u001b[36mCell\u001b[39m\u001b[36m \u001b[39m\u001b[32mIn[6]\u001b[39m\u001b[32m, line 1\u001b[39m\n\u001b[32m----> \u001b[39m\u001b[32m1\u001b[39m \u001b[43mlista_1\u001b[49m\u001b[43m[\u001b[49m\u001b[32;43m5\u001b[39;49m\u001b[43m]\u001b[49m\n",
      "\u001b[31mIndexError\u001b[39m: list index out of range"
     ]
    }
   ],
   "source": [
    "lista_1[5]"
   ]
  },
  {
   "cell_type": "code",
   "execution_count": null,
   "id": "607247bb",
   "metadata": {},
   "outputs": [
    {
     "name": "stdout",
     "output_type": "stream",
     "text": [
      "Contenido de la lista: [10, 5, 7, 2, 1]\n",
      "<class 'list'>\n"
     ]
    }
   ],
   "source": [
    "numbers = [10, 5, 7, 2, 1]\n",
    "\n",
    "#Imprimir el contenido de la lista\n",
    "print(f'Contenido de la lista: {numbers}')\n",
    "print (type(numbers))\n"
   ]
  },
  {
   "cell_type": "code",
   "execution_count": null,
   "id": "8af43595",
   "metadata": {},
   "outputs": [
    {
     "data": {
      "text/plain": [
       "2"
      ]
     },
     "execution_count": 2,
     "metadata": {},
     "output_type": "execute_result"
    }
   ],
   "source": [
    "#Permite accesar al valor que se encuentra en la posición \n",
    "numbers[3]"
   ]
  },
  {
   "cell_type": "markdown",
   "id": "eef5bae6",
   "metadata": {},
   "source": [
    "Vamos asignar un nuevo valor de 111 al primer elemento de la lista. Lo hacemos de la siguiente manera:\n"
   ]
  },
  {
   "cell_type": "code",
   "execution_count": 8,
   "id": "e643967d",
   "metadata": {},
   "outputs": [
    {
     "name": "stdout",
     "output_type": "stream",
     "text": [
      "[111, 5, 7, 2, 1]\n"
     ]
    }
   ],
   "source": [
    "numbers[0] = 111\n",
    "print(numbers)"
   ]
  },
  {
   "cell_type": "code",
   "execution_count": 9,
   "id": "66a89e44",
   "metadata": {},
   "outputs": [
    {
     "name": "stdout",
     "output_type": "stream",
     "text": [
      "[111, 1, 7, 2, 1]\n"
     ]
    }
   ],
   "source": [
    "# Copiar el valor del quinto elemento al segunto \n",
    "numbers[1] = numbers[4]\n",
    "\n",
    "print(numbers)"
   ]
  },
  {
   "cell_type": "markdown",
   "id": "8336b0e2",
   "metadata": {},
   "source": [
    "En las listas podemos ir al reves con un menos -"
   ]
  },
  {
   "cell_type": "code",
   "execution_count": 10,
   "id": "9e53367f",
   "metadata": {},
   "outputs": [
    {
     "name": "stdout",
     "output_type": "stream",
     "text": [
      "111\n"
     ]
    }
   ],
   "source": [
    "print(numbers [-5])\n"
   ]
  },
  {
   "cell_type": "markdown",
   "id": "ba9f2512",
   "metadata": {},
   "source": [
    "### Eliminando Elementos de la Lista"
   ]
  },
  {
   "cell_type": "markdown",
   "id": "275ec940",
   "metadata": {},
   "source": [
    "Cualquier elemento de la lista puede ser eliminado en cualquier momento - esto se hace con una instrucción llamada del (eliminar). Nota: es una instrucción, no una función."
   ]
  },
  {
   "cell_type": "markdown",
   "id": "d4fe40d5",
   "metadata": {},
   "source": [
    "Tienes que apuntar al elemento que quieres eliminar - desaparecerá de la lista y la longitud de la lista se reducirá en uno."
   ]
  },
  {
   "cell_type": "code",
   "execution_count": null,
   "id": "f8cc2a6b",
   "metadata": {},
   "outputs": [],
   "source": [
    "print(f'La lista actual es : {numbers}')"
   ]
  },
  {
   "cell_type": "code",
   "execution_count": null,
   "id": "0425ab4b",
   "metadata": {},
   "outputs": [
    {
     "name": "stdout",
     "output_type": "stream",
     "text": [
      "La lista actual es : [111, 1, 7, 2, 1]\n"
     ]
    }
   ],
   "source": [
    "print(f'La lista nueva es : {numbers}')\n",
    "del numbers[2]"
   ]
  },
  {
   "cell_type": "code",
   "execution_count": 12,
   "id": "fbad2873",
   "metadata": {},
   "outputs": [
    {
     "name": "stdout",
     "output_type": "stream",
     "text": [
      "[111, 1, 2, 1]\n",
      "4\n"
     ]
    }
   ],
   "source": [
    "print(numbers)\n",
    "print(len(numbers))"
   ]
  },
  {
   "cell_type": "code",
   "execution_count": 14,
   "id": "feafae69",
   "metadata": {},
   "outputs": [
    {
     "name": "stdout",
     "output_type": "stream",
     "text": [
      "La lista actual es: [111, 1, 2, 1]\n",
      "El tamaño de la lista es 4\n"
     ]
    }
   ],
   "source": [
    "print(f'La lista actual es: {numbers}')\n",
    "print(f'El tamaño de la lista es {len(numbers)}')"
   ]
  },
  {
   "cell_type": "code",
   "execution_count": 15,
   "id": "9d86c0e6",
   "metadata": {},
   "outputs": [
    {
     "name": "stdout",
     "output_type": "stream",
     "text": [
      "La lista actual es: [111, 1, 1]\n",
      "El tamaño de la lista es 3\n"
     ]
    }
   ],
   "source": [
    "del numbers[-2]\n",
    "print(f'La lista actual es: {numbers}')\n",
    "print(f'El tamaño de la lista es {len(numbers)}')"
   ]
  },
  {
   "cell_type": "code",
   "execution_count": 16,
   "id": "5d0badcc",
   "metadata": {},
   "outputs": [],
   "source": [
    "lista_prueba = [1,2,4,6,2,11]\n",
    "#Remove -> Elimina o Remueve la primera coincidencia de un valor que se le indica\n",
    "lista_prueba.remove(2)"
   ]
  },
  {
   "cell_type": "code",
   "execution_count": 17,
   "id": "12ef1865",
   "metadata": {},
   "outputs": [
    {
     "name": "stdout",
     "output_type": "stream",
     "text": [
      "La lista actual es: [1, 4, 6, 2, 11]\n",
      "El tamaño de la lista es 5\n"
     ]
    }
   ],
   "source": [
    "print(f'La lista actual es: {lista_prueba}')\n",
    "print(f'El tamaño de la lista es {len(lista_prueba)}')"
   ]
  },
  {
   "cell_type": "code",
   "execution_count": 2,
   "id": "194fa9a0",
   "metadata": {},
   "outputs": [],
   "source": [
    "lista_prueba2 = [1,2,4,6,2,11,2]"
   ]
  },
  {
   "cell_type": "code",
   "execution_count": 10,
   "id": "064d26db",
   "metadata": {},
   "outputs": [],
   "source": [
    "def eliminar (valor):\n",
    "    #print(f'Indice:{indice}, Elemento: {elemento}')\n",
    "    for indice, elemento in enumerate(lista_prueba2):\n",
    "        if elemento == valor:\n",
    "            del lista_prueba2[indice]"
   ]
  },
  {
   "cell_type": "code",
   "execution_count": 11,
   "id": "eac0856c",
   "metadata": {},
   "outputs": [
    {
     "name": "stdout",
     "output_type": "stream",
     "text": [
      "Lista Actual [1, 2, 4, 6, 2, 11, 2]\n",
      "Lista Despues de eliminar[1, 4, 6, 11]\n"
     ]
    }
   ],
   "source": [
    "print (f'Lista Actual {lista_prueba2}')\n",
    "eliminar(2)\n",
    "print(f'Lista Despues de eliminar{lista_prueba2}')"
   ]
  },
  {
   "cell_type": "markdown",
   "id": "7905d423",
   "metadata": {},
   "source": [
    "### Los indices Negativos son Legales"
   ]
  },
  {
   "cell_type": "markdown",
   "id": "0e0707c1",
   "metadata": {},
   "source": [
    "Un elemento con indice igual a -1 es el último en la lista"
   ]
  },
  {
   "cell_type": "code",
   "execution_count": 19,
   "id": "594aef94",
   "metadata": {},
   "outputs": [
    {
     "name": "stdout",
     "output_type": "stream",
     "text": [
      "El ultimo valor de la lista es: 1\n"
     ]
    }
   ],
   "source": [
    "numbers_2 = [111,7,2,1]\n",
    "print(f'El ultimo valor de la lista es: {numbers_2[-1]}')"
   ]
  },
  {
   "cell_type": "code",
   "execution_count": 20,
   "id": "98b6e8be",
   "metadata": {},
   "outputs": [
    {
     "name": "stdout",
     "output_type": "stream",
     "text": [
      "El ultimo valor de la lista es: 7\n"
     ]
    }
   ],
   "source": [
    "numbers_2 = [111,7,2,1]\n",
    "print(f'El ultimo valor de la lista es: {numbers_2[-3]}')"
   ]
  },
  {
   "cell_type": "markdown",
   "id": "9c4d59e1",
   "metadata": {},
   "source": [
    "## Ejercicio de Listas \n",
    "\n",
    "hat_list = [1, 2, 3, 4, 5]  # Esta es una lista existente de números ocultos en el sombrero.\n",
    "\n",
    "# Paso 1: escribe una línea de código que solicite al usuario\n",
    "# reemplazar el número de en medio con un número entero ingresado por el usuario.\n",
    "\n",
    "# Paso 2: escribe aquí una línea de código que elimine el último elemento de la lista.\n",
    "\n",
    "# Paso 3: escribe aquí una línea de código que imprima la longitud de la lista existente.\n",
    "\n",
    "print(hat_list)"
   ]
  },
  {
   "cell_type": "markdown",
   "id": "84bbd656",
   "metadata": {},
   "source": [
    "## Agregando elementos a una lista: append() e insert()\n"
   ]
  },
  {
   "cell_type": "markdown",
   "id": "79b82c9e",
   "metadata": {},
   "source": [
    "Un nuevo Elemento puede ser añadido al final de la lista existente:\n"
   ]
  },
  {
   "cell_type": "markdown",
   "id": "77f34d8b",
   "metadata": {},
   "source": [
    "`list.append(value)`\n",
    "\n",
    "El método `insert()` es un poco más inteligente - puede agregar un nuevo elemento en cualquier lugar de la lista, no solo al final\n",
    "\n",
    "`list.insert(location, value)`\n",
    "\n",
    "Toma dos argumentos:\n",
    "\n",
    "- el primero muestra la ubicación requerida del elemento a insertar; nota: todos los elementos existentes que ocupan ubicaciones a la derecha del nuevo elemento (incluido el que está en la posición indicada) se desplazan a la derecha, para hacer espacio para el nuevo elemento;\n",
    "- el segundo es el elemento a insertar.\n"
   ]
  },
  {
   "cell_type": "code",
   "execution_count": 16,
   "id": "77417459",
   "metadata": {},
   "outputs": [
    {
     "name": "stdout",
     "output_type": "stream",
     "text": [
      "La lista original es: [123, 8, 4, 1]\n",
      "El tamaño de la lista es: 4\n",
      "La lista despues de agregar al dinal es: [123, 8, 4, 1, 10]\n",
      "El tamaño de la lista es: 5\n"
     ]
    }
   ],
   "source": [
    "numbers_3 = [123, 8,4,1]\n",
    "print(f'La lista original es: {numbers_3}')\n",
    "print(f'El tamaño de la lista es: {len(numbers_3)}')\n",
    "\n",
    "#Agregar un valor al final de la lista con el método append\n",
    "numbers_3.append(10)\n",
    "print(f'La lista despues de agregar al dinal es: {numbers_3}')\n",
    "print(f'El tamaño de la lista es: {len(numbers_3)}')"
   ]
  },
  {
   "cell_type": "code",
   "execution_count": 17,
   "id": "5914302e",
   "metadata": {},
   "outputs": [],
   "source": [
    "def agregarAlfinal (valor):\n",
    "    numbers_3[-1] = valor"
   ]
  },
  {
   "cell_type": "code",
   "execution_count": 18,
   "id": "94ada7ec",
   "metadata": {},
   "outputs": [
    {
     "name": "stdout",
     "output_type": "stream",
     "text": [
      "La lista despues de agregar al final es: [123, 8, 4, 1, 11]\n",
      "El tamaño de la lista es: 5\n"
     ]
    }
   ],
   "source": [
    "agregarAlfinal(11)\n",
    "print(f'La lista despues de agregar al final es: {numbers_3}')\n",
    "print(f'El tamaño de la lista es: {len(numbers_3)}')"
   ]
  },
  {
   "cell_type": "code",
   "execution_count": 24,
   "id": "2f2cd43e",
   "metadata": {},
   "outputs": [
    {
     "name": "stdout",
     "output_type": "stream",
     "text": [
      "La lista actual es: [123, 8, 4, 1, 10]\n",
      "El tamaño de la lista es: 5\n",
      "La lista actual es: [222, 123, 8, 4, 1, 10]\n",
      "El tamaño de la lista es:6\n"
     ]
    }
   ],
   "source": [
    "## Método insert\n",
    "print(f'La lista actual es: {numbers_3}')\n",
    "print(f'El tamaño de la lista es: {len(numbers_3)}')\n",
    "\n",
    "numbers_3.insert(0,222)\n",
    "print(f'La lista actual es: {numbers_3}')\n",
    "print(f'El tamaño de la lista es:{len(numbers_3)}')"
   ]
  },
  {
   "cell_type": "code",
   "execution_count": 27,
   "id": "f2b5f1c3",
   "metadata": {},
   "outputs": [],
   "source": [
    "def llenar_lista_append (valor):\n",
    "    my_list = [] # Crea una lista vacia\n",
    "\n",
    "    for i in range(valor):\n",
    "        my_list.append(i+1)\n",
    "\n",
    "    return my_list"
   ]
  },
  {
   "cell_type": "code",
   "execution_count": 28,
   "id": "c87ca81d",
   "metadata": {},
   "outputs": [],
   "source": [
    "def imprimir_lista (lista):\n",
    "    print(f'La lista es: {lista}')"
   ]
  },
  {
   "cell_type": "code",
   "execution_count": 30,
   "id": "902e9b6e",
   "metadata": {},
   "outputs": [
    {
     "name": "stdout",
     "output_type": "stream",
     "text": [
      "La lista es: [1, 2, 3, 4, 5, 6, 7, 8, 9, 10]\n"
     ]
    }
   ],
   "source": [
    "lista = llenar_lista_append (10)\n",
    "imprimir_lista(lista)"
   ]
  },
  {
   "cell_type": "code",
   "execution_count": 31,
   "id": "42460984",
   "metadata": {},
   "outputs": [
    {
     "name": "stdout",
     "output_type": "stream",
     "text": [
      "[5, 4, 3, 2, 1]\n"
     ]
    }
   ],
   "source": [
    "my_list = []\n",
    "\n",
    "for i in range (5):\n",
    "    my_list.insert(0, i+1)\n",
    "\n",
    "print(my_list)"
   ]
  },
  {
   "cell_type": "code",
   "execution_count": 32,
   "id": "b436b379",
   "metadata": {},
   "outputs": [
    {
     "name": "stdout",
     "output_type": "stream",
     "text": [
      "10\n",
      "1\n",
      "8\n",
      "3\n",
      "5\n"
     ]
    }
   ],
   "source": [
    "mi_lista = [10,1,8,3,5]\n",
    "\n",
    "for i in mi_lista:\n",
    "    print(i)"
   ]
  },
  {
   "cell_type": "code",
   "execution_count": 35,
   "id": "b0fde994",
   "metadata": {},
   "outputs": [
    {
     "name": "stdout",
     "output_type": "stream",
     "text": [
      "La suma de los valores de la lista es 10\n",
      "La suma de los valores de la lista es 11\n",
      "La suma de los valores de la lista es 19\n",
      "La suma de los valores de la lista es 22\n",
      "La suma de los valores de la lista es 27\n"
     ]
    }
   ],
   "source": [
    "# Sumar Los valores de la lista\n",
    "total = 0\n",
    "\n",
    "for i in mi_lista:\n",
    "    total+=i\n",
    "    print(f'La suma de los valores de la lista es {total}')"
   ]
  },
  {
   "cell_type": "markdown",
   "id": "e7ca655f",
   "metadata": {},
   "source": [
    "#### Realizar un programa que permita almacenar varias calificaciones en una lista para despues poder sacar el promedio de ellas, utilizando una función"
   ]
  },
  {
   "cell_type": "code",
   "execution_count": 22,
   "id": "558b814b",
   "metadata": {},
   "outputs": [],
   "source": [
    "def guardar_calificaciones (numero):\n",
    "    lista_calificaciones = []\n",
    "    i = 1\n",
    "\n",
    "    while i<=numero:\n",
    "        calificacion = float(input(f'Solicita la calificacion {i}'))\n",
    "        lista_calificaciones.append(calificacion)\n",
    "        i+=1\n",
    "\n",
    "        return lista_calificaciones"
   ]
  },
  {
   "cell_type": "code",
   "execution_count": 21,
   "id": "9c6b6527",
   "metadata": {},
   "outputs": [],
   "source": [
    "def guardar_calificaciones_2 ( numero ):\n",
    "    lista_calificaciones = []\n",
    "    i = 1\n",
    "\n",
    "    for i in range(numero):\n",
    "        calificacion = float(input(f'Solicita la calificacion { i }'))\n",
    "        lista_calificaciones.append(calificacion)\n",
    "\n",
    "    return lista_calificaciones"
   ]
  },
  {
   "cell_type": "code",
   "execution_count": 23,
   "id": "f81e447f",
   "metadata": {},
   "outputs": [
    {
     "name": "stdout",
     "output_type": "stream",
     "text": [
      "[5.0]\n"
     ]
    }
   ],
   "source": [
    "lista = guardar_calificaciones(5)\n",
    "print(lista)"
   ]
  },
  {
   "cell_type": "code",
   "execution_count": 24,
   "id": "d123e93e",
   "metadata": {},
   "outputs": [
    {
     "data": {
      "text/plain": [
       "[10, 4, 2]"
      ]
     },
     "execution_count": 24,
     "metadata": {},
     "output_type": "execute_result"
    }
   ],
   "source": [
    "lista_3 = [10, 8, 6, 4, 2]\n",
    "\n",
    "del lista_3[1:3]\n",
    "\n",
    "lista_3"
   ]
  },
  {
   "cell_type": "markdown",
   "id": "ec68f7b9",
   "metadata": {},
   "source": [
    "`pop` remueve el ultimo elemento de la lista si se llama sinn argumentos"
   ]
  },
  {
   "cell_type": "code",
   "execution_count": 25,
   "id": "e4ff7a27",
   "metadata": {},
   "outputs": [
    {
     "data": {
      "text/plain": [
       "[10, 4]"
      ]
     },
     "execution_count": 25,
     "metadata": {},
     "output_type": "execute_result"
    }
   ],
   "source": [
    "lista_3.pop()\n",
    "lista_3"
   ]
  },
  {
   "cell_type": "code",
   "execution_count": 26,
   "id": "ae6f7b2d",
   "metadata": {},
   "outputs": [],
   "source": [
    "lista_3 = []\n",
    "\n",
    "lista_3.append(7)\n",
    "lista_3.append(5)\n",
    "lista_3.append(9)\n",
    "lista_3.append(11)\n",
    "lista_3.append(5)"
   ]
  },
  {
   "cell_type": "code",
   "execution_count": 28,
   "id": "bc35b580",
   "metadata": {},
   "outputs": [
    {
     "data": {
      "text/plain": [
       "[7, 5, 9, 11, 5]"
      ]
     },
     "execution_count": 28,
     "metadata": {},
     "output_type": "execute_result"
    }
   ],
   "source": [
    "lista_3"
   ]
  },
  {
   "cell_type": "code",
   "execution_count": 29,
   "id": "40d4e7e6",
   "metadata": {},
   "outputs": [
    {
     "data": {
      "text/plain": [
       "[7, 9, 11, 5]"
      ]
     },
     "execution_count": 29,
     "metadata": {},
     "output_type": "execute_result"
    }
   ],
   "source": [
    "lista_3.pop(1)\n",
    "lista_3"
   ]
  },
  {
   "cell_type": "code",
   "execution_count": 30,
   "id": "9e808ca6",
   "metadata": {},
   "outputs": [
    {
     "name": "stdout",
     "output_type": "stream",
     "text": [
      "['a', 12, True]\n",
      "<class 'list'>\n"
     ]
    }
   ],
   "source": [
    "list_example = ['a', 12, True]\n",
    "print(list_example)\n",
    "print(type(list_example))\n"
   ]
  },
  {
   "cell_type": "code",
   "execution_count": 31,
   "id": "d5a49f15",
   "metadata": {},
   "outputs": [
    {
     "name": "stdout",
     "output_type": "stream",
     "text": [
      "[['hallway', 100], ['Kitchen', 85]]\n",
      "<class 'list'>\n"
     ]
    }
   ],
   "source": [
    "# Lista de Listas\n",
    "list_house = [['hallway', 100], ['Kitchen', 85]]\n",
    "print(list_house)\n",
    "print(type(list_house))"
   ]
  },
  {
   "cell_type": "code",
   "execution_count": 33,
   "id": "244ebd5d",
   "metadata": {},
   "outputs": [
    {
     "data": {
      "text/plain": [
       "100"
      ]
     },
     "execution_count": 33,
     "metadata": {},
     "output_type": "execute_result"
    }
   ],
   "source": [
    "# Tiene acceso a la lista en la posicion  0 y su elemento en la posicion 1\n",
    "list_house[0][1]"
   ]
  },
  {
   "cell_type": "code",
   "execution_count": 34,
   "id": "aa8c9967",
   "metadata": {},
   "outputs": [
    {
     "name": "stdout",
     "output_type": "stream",
     "text": [
      "['heydy', 22, 'ines', 54, 'henry', 33, 'oscar', 38]\n"
     ]
    }
   ],
   "source": [
    "list_family = ['heydy', 22, 'ines', 54, 'henry', 33, 'oscar', 38]\n",
    "print(list_family)"
   ]
  },
  {
   "cell_type": "code",
   "execution_count": 35,
   "id": "e9a888e8",
   "metadata": {},
   "outputs": [
    {
     "name": "stdout",
     "output_type": "stream",
     "text": [
      "ines\n",
      "ines\n"
     ]
    }
   ],
   "source": [
    "# Indexacion\n",
    "\n",
    "print(list_family[2])\n",
    "\n",
    "#Indexacion Negativa\n",
    "\n",
    "print(list_family[-6])"
   ]
  },
  {
   "cell_type": "code",
   "execution_count": 36,
   "id": "555659ac",
   "metadata": {},
   "outputs": [
    {
     "name": "stdout",
     "output_type": "stream",
     "text": [
      "[54, 'henry']\n",
      "['heydy', 22, 'ines', 54, 'henry']\n",
      "[33, 'oscar', 38]\n"
     ]
    }
   ],
   "source": [
    "# slicing [ start: end]\n",
    "#           inclusive: exclusive\n",
    "\n",
    "print(list_family[3:5]) # no toma el ultimo digito\n",
    "print(list_family[:5]) # Desde el inicio hasta la posicion 4\n",
    "print(list_family[5:]) # Desde la posicion 5 hasta el final"
   ]
  },
  {
   "cell_type": "markdown",
   "id": "139e94e7",
   "metadata": {},
   "source": [
    "## Manipulando Listas"
   ]
  },
  {
   "cell_type": "code",
   "execution_count": 37,
   "id": "e6efe23f",
   "metadata": {},
   "outputs": [
    {
     "name": "stdout",
     "output_type": "stream",
     "text": [
      "['heydy', 22, 'ines', 54, 'henry', 33, 'oscar', 37]\n",
      "['maymuy', 24, 'ines', 54, 'henry', 33, 'oscar', 37]\n"
     ]
    }
   ],
   "source": [
    "list_family [-1] = 37\n",
    "print(list_family)\n",
    "\n",
    "list_family [:2] = [\"maymuy\", 24]\n",
    "print(list_family)"
   ]
  },
  {
   "cell_type": "code",
   "execution_count": 39,
   "id": "0160ab74",
   "metadata": {},
   "outputs": [
    {
     "name": "stdout",
     "output_type": "stream",
     "text": [
      "['maymuy', 24, 'ines', 54, 'henry', 33, 'oscar', 37, 'Achuchena', 12]\n",
      "['maymuy', 24, 'ines', 'henry', 33, 'oscar', 37, 'Achuchena', 12]\n"
     ]
    }
   ],
   "source": [
    "# agregar yremover elementos de la lista\n",
    "\n",
    "# Agregar\n",
    "fam_Ext = list_family + ['Achuchena', 12]\n",
    "print (fam_Ext)\n",
    "\n",
    "#Eliminar\n",
    "\n",
    "del(fam_Ext[3])\n",
    "# fam_Ext.pop(3)\n",
    "# fam_Ext.remove(54)\n",
    "print (fam_Ext)"
   ]
  },
  {
   "cell_type": "code",
   "execution_count": 41,
   "id": "1645f3af",
   "metadata": {},
   "outputs": [
    {
     "name": "stdout",
     "output_type": "stream",
     "text": [
      "['hallway', 11.25, 'kitchen', 18.0, 'chill zone', 20.0, 'bedroom', 10.75, 'bathroom', 10.5, 'poolhouse', 24.5, 'garage', 15.45]\n",
      "['hallway', 11.25, 'kitchen', 18.0, 'chill zone', 20.0, 'bedroom', 10.75, 'bathroom', 10.5, 'garage', 15.45]\n"
     ]
    }
   ],
   "source": [
    "# Ejercicio - Eliminar 'poolhouse y 24.5'\n",
    "\n",
    "areas = ['hallway', 11.25, 'kitchen', 18.0,\n",
    "        'chill zone', 20.0, 'bedroom', 10.75,\n",
    "        'bathroom', 10.50, 'poolhouse', 24.5,\n",
    "        'garage', 15.45]\n",
    "\n",
    "print (areas)\n",
    "\n",
    "del(areas[10:12])\n",
    "print (areas)"
   ]
  },
  {
   "cell_type": "markdown",
   "id": "f0661ca7",
   "metadata": {},
   "source": [
    "## Funciones y Paquetes"
   ]
  },
  {
   "cell_type": "markdown",
   "id": "45ede849",
   "metadata": {},
   "source": [
    "## **Funcion**"
   ]
  },
  {
   "cell_type": "markdown",
   "id": "a5737ba5",
   "metadata": {},
   "source": [
    "Es una pieza de codigo reutilizable, destinada a resolver una tarea en particular"
   ]
  },
  {
   "cell_type": "code",
   "execution_count": 42,
   "id": "0253ebd7",
   "metadata": {},
   "outputs": [
    {
     "name": "stdout",
     "output_type": "stream",
     "text": [
      "El tamaño de la lista es 5\n",
      "El valor maximo de la lista es  54\n"
     ]
    }
   ],
   "source": [
    "list_fam = [22, 54, 33, 38, 36]\n",
    "print(f'El tamaño de la lista es {len(list_fam)}')\n",
    "print(f'El valor maximo de la lista es  {max(list_fam)}')"
   ]
  },
  {
   "cell_type": "code",
   "execution_count": 43,
   "id": "15d1aacd",
   "metadata": {},
   "outputs": [
    {
     "data": {
      "text/plain": [
       "1.61"
      ]
     },
     "execution_count": 43,
     "metadata": {},
     "output_type": "execute_result"
    }
   ],
   "source": [
    "round(1.609, 2)"
   ]
  },
  {
   "cell_type": "code",
   "execution_count": 44,
   "id": "78cf6aea",
   "metadata": {},
   "outputs": [
    {
     "name": "stdout",
     "output_type": "stream",
     "text": [
      "Help on built-in function round in module builtins:\n",
      "\n",
      "round(number, ndigits=None)\n",
      "    Round a number to a given precision in decimal digits.\n",
      "\n",
      "    The return value is an integer if ndigits is omitted or None.  Otherwise\n",
      "    the return value has the same type as the number.  ndigits may be negative.\n",
      "\n"
     ]
    }
   ],
   "source": [
    "help (round)"
   ]
  },
  {
   "cell_type": "code",
   "execution_count": 45,
   "id": "a1a38e3e",
   "metadata": {},
   "outputs": [
    {
     "name": "stdout",
     "output_type": "stream",
     "text": [
      "Help on built-in function len in module builtins:\n",
      "\n",
      "len(obj, /)\n",
      "    Return the number of items in a container.\n",
      "\n",
      "Help on built-in function max in module builtins:\n",
      "\n",
      "max(...)\n",
      "    max(iterable, *[, default=obj, key=func]) -> value\n",
      "    max(arg1, arg2, *args, *[, key=func]) -> value\n",
      "\n",
      "    With a single iterable argument, return its biggest item. The\n",
      "    default keyword-only argument specifies an object to return if\n",
      "    the provided iterable is empty.\n",
      "    With two or more positional arguments, return the largest argument.\n",
      "\n"
     ]
    }
   ],
   "source": [
    "help(len)\n",
    "help(max)"
   ]
  },
  {
   "cell_type": "code",
   "execution_count": 46,
   "id": "e44e87d7",
   "metadata": {},
   "outputs": [
    {
     "name": "stdout",
     "output_type": "stream",
     "text": [
      "[18.0, 20.0, 51.25]\n",
      "[18.0, 20.0, 51.25]\n",
      "[51.25, 20.0, 18.0]\n"
     ]
    }
   ],
   "source": [
    "first =[51.25 ,18.0, 20.0]\n",
    "full_sorted = sorted(first) # Ordenar de forma ascendente \n",
    "full_sorted_asc = sorted(first, reverse=False) # Ascendente\n",
    "full_sorted_des = sorted(first, reverse=True) # Descendente\n",
    "\n",
    "print(full_sorted)\n",
    "print(full_sorted_asc)\n",
    "print(full_sorted_des)"
   ]
  },
  {
   "cell_type": "markdown",
   "id": "4e6cd2a1",
   "metadata": {},
   "source": [
    "## **Metodos**"
   ]
  },
  {
   "cell_type": "markdown",
   "id": "12ddd906",
   "metadata": {},
   "source": [
    "En python todo es objeto. Y cada objeto tiene metodos especificos asociados\n",
    "\n",
    "` - Objetos con diferentes tipos pueden tener metodos con el mismo nombre`"
   ]
  },
  {
   "cell_type": "code",
   "execution_count": 47,
   "id": "17a82b67",
   "metadata": {},
   "outputs": [
    {
     "name": "stdout",
     "output_type": "stream",
     "text": [
      "Indice: 4\n",
      "Contar: 2\n"
     ]
    }
   ],
   "source": [
    "list_fam = ['heydy', 22, 'ines', 54, 'henry', 33, 'oscar', 54]\n",
    "\n",
    "print(f'Indice: {list_fam.index('henry')}')# Obtiene el indice de la lista\n",
    "print(f'Contar: {list_fam.count(54)}')"
   ]
  },
  {
   "cell_type": "code",
   "execution_count": 48,
   "id": "0778cb18",
   "metadata": {},
   "outputs": [
    {
     "name": "stdout",
     "output_type": "stream",
     "text": [
      "['heydy', 22, 'ines', 54, 33, 'oscar', 54]\n"
     ]
    }
   ],
   "source": [
    "del(list_fam[list_fam.index('henry')])\n",
    "print(list_fam)"
   ]
  },
  {
   "cell_type": "code",
   "execution_count": 49,
   "id": "e25238ba",
   "metadata": {},
   "outputs": [
    {
     "name": "stdout",
     "output_type": "stream",
     "text": [
      "Mayumi\n"
     ]
    }
   ],
   "source": [
    "name = 'mayumi'\n",
    "print(name.capitalize())"
   ]
  },
  {
   "cell_type": "code",
   "execution_count": 50,
   "id": "abb3219b",
   "metadata": {},
   "outputs": [
    {
     "name": "stdout",
     "output_type": "stream",
     "text": [
      "Susel\n"
     ]
    }
   ],
   "source": [
    "lista_entornos = ['susel', 'bandon', 'alejandro', 'grabiel']\n",
    "lista_entornos = lista_entornos[0].capitalize()\n",
    "print(lista_entornos)"
   ]
  },
  {
   "cell_type": "code",
   "execution_count": 51,
   "id": "b77ff567",
   "metadata": {},
   "outputs": [
    {
     "name": "stdout",
     "output_type": "stream",
     "text": [
      "ma*umi\n"
     ]
    }
   ],
   "source": [
    "print(name.replace('y', '*'))"
   ]
  },
  {
   "cell_type": "code",
   "execution_count": 52,
   "id": "87b99401",
   "metadata": {},
   "outputs": [
    {
     "data": {
      "text/plain": [
       "'MAYUMI'"
      ]
     },
     "execution_count": 52,
     "metadata": {},
     "output_type": "execute_result"
    }
   ],
   "source": [
    "name.upper()"
   ]
  },
  {
   "cell_type": "code",
   "execution_count": 53,
   "id": "2a28a2b3",
   "metadata": {},
   "outputs": [
    {
     "name": "stdout",
     "output_type": "stream",
     "text": [
      "['heydy', 22, 'ines', 54, 33, 'oscar', 54]\n",
      "[54, 'oscar', 33, 54, 'ines', 22, 'heydy']\n"
     ]
    }
   ],
   "source": [
    "print(list_fam)\n",
    "list_fam.reverse()\n",
    "print(list_fam)"
   ]
  }
 ],
 "metadata": {
  "kernelspec": {
   "display_name": "Python 3",
   "language": "python",
   "name": "python3"
  },
  "language_info": {
   "codemirror_mode": {
    "name": "ipython",
    "version": 3
   },
   "file_extension": ".py",
   "mimetype": "text/x-python",
   "name": "python",
   "nbconvert_exporter": "python",
   "pygments_lexer": "ipython3",
   "version": "3.13.5"
  }
 },
 "nbformat": 4,
 "nbformat_minor": 5
}
