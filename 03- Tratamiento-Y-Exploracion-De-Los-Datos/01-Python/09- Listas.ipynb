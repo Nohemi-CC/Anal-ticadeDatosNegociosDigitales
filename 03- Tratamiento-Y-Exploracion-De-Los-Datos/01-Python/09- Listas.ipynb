{
 "cells": [
  {
   "cell_type": "markdown",
   "id": "6e92c23f",
   "metadata": {},
   "source": [
    "# Listas\n",
    "\n",
    "1. Objetivos\n",
    "\n",
    "- Entender las sintaxis de las listas en python\n",
    "- Aprender a crear listas y accesarlas\n",
    "\n",
    "---\n",
    "\n",
    "2-Desarrollo:\n",
    "\n",
    "## Creando listas y accediendo a ella\n",
    "\n",
    "Las listas son secuencias ordenadas. El orden de los datos en la lista es el mismo orden que tiene los datos a la hora de ser asignados. Una lista se ve asi:"
   ]
  },
  {
   "cell_type": "code",
   "execution_count": 3,
   "id": "efe79ef7",
   "metadata": {},
   "outputs": [
    {
     "data": {
      "text/plain": [
       "[1, 4, 6, 2, 4]"
      ]
     },
     "execution_count": 3,
     "metadata": {},
     "output_type": "execute_result"
    }
   ],
   "source": [
    "lista_1 = [1,4,6,2,4]\n",
    "lista_1"
   ]
  },
  {
   "cell_type": "code",
   "execution_count": 4,
   "id": "a7e6d1cb",
   "metadata": {},
   "outputs": [
    {
     "data": {
      "text/plain": [
       "list"
      ]
     },
     "execution_count": 4,
     "metadata": {},
     "output_type": "execute_result"
    }
   ],
   "source": [
    "type(lista_1)"
   ]
  },
  {
   "cell_type": "markdown",
   "id": "aa231eff",
   "metadata": {},
   "source": [
    "Cada elemento de la lista tiene un indice, que se utiliza para acceder a dicho elemento. Dado que las listas son ordenadas, los indices se van asignando secuencialmente desde el primer elemento hasta el ultimo. El primer indice es siempre `0`, y por lo tanto el ultimo indice es siempre `n-1`, donde `n` es el numero total de elementos en la lista."
   ]
  },
  {
   "cell_type": "code",
   "execution_count": 5,
   "id": "c3400558",
   "metadata": {},
   "outputs": [
    {
     "name": "stdout",
     "output_type": "stream",
     "text": [
      "Primer elemento de la lista: 1\n",
      "El ultimo elemento de la lista: 4\n"
     ]
    }
   ],
   "source": [
    "# Imprimir el primer elemento de la lista\n",
    "\n",
    "print(f'Primer elemento de la lista: {lista_1[0]}')\n",
    "print(f'El ultimo elemento de la lista: {lista_1[4]}')"
   ]
  },
  {
   "cell_type": "code",
   "execution_count": 6,
   "id": "32bacc08",
   "metadata": {},
   "outputs": [
    {
     "ename": "IndexError",
     "evalue": "list index out of range",
     "output_type": "error",
     "traceback": [
      "\u001b[31m---------------------------------------------------------------------------\u001b[39m",
      "\u001b[31mIndexError\u001b[39m                                Traceback (most recent call last)",
      "\u001b[36mCell\u001b[39m\u001b[36m \u001b[39m\u001b[32mIn[6]\u001b[39m\u001b[32m, line 1\u001b[39m\n\u001b[32m----> \u001b[39m\u001b[32m1\u001b[39m \u001b[43mlista_1\u001b[49m\u001b[43m[\u001b[49m\u001b[32;43m5\u001b[39;49m\u001b[43m]\u001b[49m\n",
      "\u001b[31mIndexError\u001b[39m: list index out of range"
     ]
    }
   ],
   "source": [
    "lista_1[5]"
   ]
  },
  {
   "cell_type": "code",
   "execution_count": null,
   "id": "607247bb",
   "metadata": {},
   "outputs": [
    {
     "name": "stdout",
     "output_type": "stream",
     "text": [
      "Contenido de la lista: [10, 5, 7, 2, 1]\n",
      "<class 'list'>\n"
     ]
    }
   ],
   "source": [
    "numbers = [10, 5, 7, 2, 1]\n",
    "\n",
    "#Imprimir el contenido de la lista\n",
    "print(f'Contenido de la lista: {numbers}')\n",
    "print (type(numbers))\n"
   ]
  },
  {
   "cell_type": "code",
   "execution_count": null,
   "id": "8af43595",
   "metadata": {},
   "outputs": [
    {
     "data": {
      "text/plain": [
       "2"
      ]
     },
     "execution_count": 2,
     "metadata": {},
     "output_type": "execute_result"
    }
   ],
   "source": [
    "#Permite accesar al valor que se encuentra en la posición \n",
    "numbers[3]"
   ]
  },
  {
   "cell_type": "markdown",
   "id": "eef5bae6",
   "metadata": {},
   "source": [
    "Vamos asignar un nuevo valor de 111 al primer elemento de la lista. Lo hacemos de la siguiente manera:\n"
   ]
  },
  {
   "cell_type": "code",
   "execution_count": 8,
   "id": "e643967d",
   "metadata": {},
   "outputs": [
    {
     "name": "stdout",
     "output_type": "stream",
     "text": [
      "[111, 5, 7, 2, 1]\n"
     ]
    }
   ],
   "source": [
    "numbers[0] = 111\n",
    "print(numbers)"
   ]
  },
  {
   "cell_type": "code",
   "execution_count": 9,
   "id": "66a89e44",
   "metadata": {},
   "outputs": [
    {
     "name": "stdout",
     "output_type": "stream",
     "text": [
      "[111, 1, 7, 2, 1]\n"
     ]
    }
   ],
   "source": [
    "# Copiar el valor del quinto elemento al segunto \n",
    "numbers[1] = numbers[4]\n",
    "\n",
    "print(numbers)"
   ]
  },
  {
   "cell_type": "code",
   "execution_count": 10,
   "id": "9e53367f",
   "metadata": {},
   "outputs": [
    {
     "name": "stdout",
     "output_type": "stream",
     "text": [
      "111\n"
     ]
    }
   ],
   "source": [
    "print(numbers [-5])\n"
   ]
  },
  {
   "cell_type": "markdown",
   "id": "ba9f2512",
   "metadata": {},
   "source": [
    "### Eliminando Elementos de la Lista"
   ]
  },
  {
   "cell_type": "markdown",
   "id": "275ec940",
   "metadata": {},
   "source": [
    "Cualquier elemento de la lista puede ser eliminado en cualquier momento - esto se hace con una instrucción llamada del (eliminar). Nota: es una instrucción, no una función."
   ]
  },
  {
   "cell_type": "markdown",
   "id": "d4fe40d5",
   "metadata": {},
   "source": [
    "Tienes que apuntar al elemento que quieres eliminar - desaparecerá de la lista y la longitud de la lista se reducirá en uno."
   ]
  },
  {
   "cell_type": "code",
   "execution_count": 11,
   "id": "0425ab4b",
   "metadata": {},
   "outputs": [
    {
     "name": "stdout",
     "output_type": "stream",
     "text": [
      "La lista actual es : [111, 1, 7, 2, 1]\n"
     ]
    }
   ],
   "source": [
    "print(f'La lista actual es : {numbers}')\n",
    "del numbers[2]"
   ]
  },
  {
   "cell_type": "code",
   "execution_count": 12,
   "id": "fbad2873",
   "metadata": {},
   "outputs": [
    {
     "name": "stdout",
     "output_type": "stream",
     "text": [
      "[111, 1, 2, 1]\n",
      "4\n"
     ]
    }
   ],
   "source": [
    "print(numbers)\n",
    "print(len(numbers))"
   ]
  },
  {
   "cell_type": "code",
   "execution_count": 14,
   "id": "feafae69",
   "metadata": {},
   "outputs": [
    {
     "name": "stdout",
     "output_type": "stream",
     "text": [
      "La lista actual es: [111, 1, 2, 1]\n",
      "El tamaño de la lista es 4\n"
     ]
    }
   ],
   "source": [
    "print(f'La lista actual es: {numbers}')\n",
    "print(f'El tamaño de la lista es {len(numbers)}')"
   ]
  },
  {
   "cell_type": "code",
   "execution_count": 15,
   "id": "9d86c0e6",
   "metadata": {},
   "outputs": [
    {
     "name": "stdout",
     "output_type": "stream",
     "text": [
      "La lista actual es: [111, 1, 1]\n",
      "El tamaño de la lista es 3\n"
     ]
    }
   ],
   "source": [
    "del numbers[-2]\n",
    "print(f'La lista actual es: {numbers}')\n",
    "print(f'El tamaño de la lista es {len(numbers)}')"
   ]
  },
  {
   "cell_type": "code",
   "execution_count": 16,
   "id": "5d0badcc",
   "metadata": {},
   "outputs": [],
   "source": [
    "lista_prueba = [1,2,4,6,2,11]\n",
    "#Remove -> Elimina o Remueve la primera coincidencia de un valor que se le indica\n",
    "lista_prueba.remove(2)"
   ]
  },
  {
   "cell_type": "code",
   "execution_count": 17,
   "id": "12ef1865",
   "metadata": {},
   "outputs": [
    {
     "name": "stdout",
     "output_type": "stream",
     "text": [
      "La lista actual es: [1, 4, 6, 2, 11]\n",
      "El tamaño de la lista es 5\n"
     ]
    }
   ],
   "source": [
    "print(f'La lista actual es: {lista_prueba}')\n",
    "print(f'El tamaño de la lista es {len(lista_prueba)}')"
   ]
  },
  {
   "cell_type": "code",
   "execution_count": 18,
   "id": "194fa9a0",
   "metadata": {},
   "outputs": [],
   "source": [
    "lista_prueba = [1,2,4,6,2,11]"
   ]
  },
  {
   "cell_type": "code",
   "execution_count": null,
   "id": "064d26db",
   "metadata": {},
   "outputs": [],
   "source": [
    "def eliminar (valor):\n",
    "    #print(f'Indice:{indice}, Elemento: {elemento}')\n",
    "    for indicec, elemento in enumerate(lista_prueba):\n",
    "        if elemento == valor:\n",
    "            del lista_prueba[indice]"
   ]
  },
  {
   "cell_type": "code",
   "execution_count": null,
   "id": "eac0856c",
   "metadata": {},
   "outputs": [],
   "source": [
    "print (f'Lista Actual {lista_prueba}')\n",
    "eliminar(2)\n",
    "print(f'Lista Despues de eliminar{lista_prueba}')"
   ]
  },
  {
   "cell_type": "markdown",
   "id": "7905d423",
   "metadata": {},
   "source": [
    "### Los indices Negativos son Legales"
   ]
  },
  {
   "cell_type": "markdown",
   "id": "0e0707c1",
   "metadata": {},
   "source": [
    "Un elemento con indice igual a -1 es el último en la lista"
   ]
  },
  {
   "cell_type": "code",
   "execution_count": 19,
   "id": "594aef94",
   "metadata": {},
   "outputs": [
    {
     "name": "stdout",
     "output_type": "stream",
     "text": [
      "El ultimo valor de la lista es: 1\n"
     ]
    }
   ],
   "source": [
    "numbers_2 = [111,7,2,1]\n",
    "print(f'El ultimo valor de la lista es: {numbers_2[-1]}')"
   ]
  },
  {
   "cell_type": "code",
   "execution_count": 20,
   "id": "98b6e8be",
   "metadata": {},
   "outputs": [
    {
     "name": "stdout",
     "output_type": "stream",
     "text": [
      "El ultimo valor de la lista es: 7\n"
     ]
    }
   ],
   "source": [
    "numbers_2 = [111,7,2,1]\n",
    "print(f'El ultimo valor de la lista es: {numbers_2[-3]}')"
   ]
  },
  {
   "cell_type": "markdown",
   "id": "9c4d59e1",
   "metadata": {},
   "source": [
    "## Ejercicio de Listas \n",
    "\n",
    "hat_list = [1, 2, 3, 4, 5]  # Esta es una lista existente de números ocultos en el sombrero.\n",
    "\n",
    "# Paso 1: escribe una línea de código que solicite al usuario\n",
    "# reemplazar el número de en medio con un número entero ingresado por el usuario.\n",
    "\n",
    "# Paso 2: escribe aquí una línea de código que elimine el último elemento de la lista.\n",
    "\n",
    "# Paso 3: escribe aquí una línea de código que imprima la longitud de la lista existente.\n",
    "\n",
    "print(hat_list)"
   ]
  },
  {
   "cell_type": "markdown",
   "id": "84bbd656",
   "metadata": {},
   "source": [
    "## Agregando elementos a una lista: append() e insert()\n"
   ]
  },
  {
   "cell_type": "markdown",
   "id": "79b82c9e",
   "metadata": {},
   "source": [
    "Un nuevo Elemento puede ser añadido al final de la lista existente:\n"
   ]
  },
  {
   "cell_type": "markdown",
   "id": "77f34d8b",
   "metadata": {},
   "source": [
    "`list.append(value)`\n",
    "\n",
    "El método `insert()` es un poco más inteligente - puede agregar un nuevo elemento en cualquier lugar de la lista, no solo al final\n",
    "\n",
    "`list.insert(location, value)`\n",
    "\n",
    "Toma dos argumentos:\n",
    "\n",
    "- el primero muestra la ubicación requerida del elemento a insertar; nota: todos los elementos existentes que ocupan ubicaciones a la derecha del nuevo elemento (incluido el que está en la posición indicada) se desplazan a la derecha, para hacer espacio para el nuevo elemento;\n",
    "- el segundo es el elemento a insertar.\n"
   ]
  },
  {
   "cell_type": "code",
   "execution_count": 23,
   "id": "77417459",
   "metadata": {},
   "outputs": [
    {
     "name": "stdout",
     "output_type": "stream",
     "text": [
      "La lista original es: [123, 8, 4, 1]\n",
      "El tamaño de la lista es: 4\n",
      "La lista despues de agregar al dinal es: [123, 8, 4, 1, 10]\n",
      "El tamaño de la lista es: 5\n"
     ]
    }
   ],
   "source": [
    "numbers_3 = [123, 8,4,1]\n",
    "print(f'La lista original es: {numbers_3}')\n",
    "print(f'El tamaño de la lista es: {len(numbers_3)}')\n",
    "\n",
    "#Agregar un valor al final de la lista con el método append\n",
    "numbers_3.append(10)\n",
    "print(f'La lista despues de agregar al dinal es: {numbers_3}')\n",
    "print(f'El tamaño de la lista es: {len(numbers_3)}')"
   ]
  },
  {
   "cell_type": "code",
   "execution_count": 24,
   "id": "2f2cd43e",
   "metadata": {},
   "outputs": [
    {
     "name": "stdout",
     "output_type": "stream",
     "text": [
      "La lista actual es: [123, 8, 4, 1, 10]\n",
      "El tamaño de la lista es: 5\n",
      "La lista actual es: [222, 123, 8, 4, 1, 10]\n",
      "El tamaño de la lista es:6\n"
     ]
    }
   ],
   "source": [
    "## Método insert\n",
    "print(f'La lista actual es: {numbers_3}')\n",
    "print(f'El tamaño de la lista es: {len(numbers_3)}')\n",
    "\n",
    "numbers_3.insert(0,222)\n",
    "print(f'La lista actual es: {numbers_3}')\n",
    "print(f'El tamaño de la lista es:{len(numbers_3)}')"
   ]
  },
  {
   "cell_type": "code",
   "execution_count": 27,
   "id": "f2b5f1c3",
   "metadata": {},
   "outputs": [],
   "source": [
    "def llenar_lista_append (valor):\n",
    "    my_list = [] # Crea una lista vacia\n",
    "\n",
    "    for i in range(valor):\n",
    "        my_list.append(i+1)\n",
    "\n",
    "    return my_list"
   ]
  },
  {
   "cell_type": "code",
   "execution_count": 28,
   "id": "c87ca81d",
   "metadata": {},
   "outputs": [],
   "source": [
    "def imprimir_lista (lista):\n",
    "    print(f'La lista es: {lista}')"
   ]
  },
  {
   "cell_type": "code",
   "execution_count": 30,
   "id": "902e9b6e",
   "metadata": {},
   "outputs": [
    {
     "name": "stdout",
     "output_type": "stream",
     "text": [
      "La lista es: [1, 2, 3, 4, 5, 6, 7, 8, 9, 10]\n"
     ]
    }
   ],
   "source": [
    "lista = llenar_lista_append (10)\n",
    "imprimir_lista(lista)"
   ]
  },
  {
   "cell_type": "code",
   "execution_count": 31,
   "id": "42460984",
   "metadata": {},
   "outputs": [
    {
     "name": "stdout",
     "output_type": "stream",
     "text": [
      "[5, 4, 3, 2, 1]\n"
     ]
    }
   ],
   "source": [
    "my_list = []\n",
    "\n",
    "for i in range (5):\n",
    "    my_list.insert(0, i+1)\n",
    "\n",
    "print(my_list)"
   ]
  },
  {
   "cell_type": "code",
   "execution_count": 32,
   "id": "b436b379",
   "metadata": {},
   "outputs": [
    {
     "name": "stdout",
     "output_type": "stream",
     "text": [
      "10\n",
      "1\n",
      "8\n",
      "3\n",
      "5\n"
     ]
    }
   ],
   "source": [
    "mi_lista = [10,1,8,3,5]\n",
    "\n",
    "for i in mi_lista:\n",
    "    print(i)"
   ]
  },
  {
   "cell_type": "code",
   "execution_count": 35,
   "id": "b0fde994",
   "metadata": {},
   "outputs": [
    {
     "name": "stdout",
     "output_type": "stream",
     "text": [
      "La suma de los valores de la lista es 10\n",
      "La suma de los valores de la lista es 11\n",
      "La suma de los valores de la lista es 19\n",
      "La suma de los valores de la lista es 22\n",
      "La suma de los valores de la lista es 27\n"
     ]
    }
   ],
   "source": [
    "# Sumar Los valores de la lista\n",
    "total = 0\n",
    "\n",
    "for i in mi_lista:\n",
    "    total+=i\n",
    "    print(f'La suma de los valores de la lista es {total}')"
   ]
  },
  {
   "cell_type": "markdown",
   "id": "e7ca655f",
   "metadata": {},
   "source": [
    "#### Realizar un programa que permita almacenar varias calificaciones en una lista para despues poder sacar el promedio de ellas, utilizando una función"
   ]
  },
  {
   "cell_type": "code",
   "execution_count": 37,
   "id": "558b814b",
   "metadata": {},
   "outputs": [],
   "source": [
    "def guardar_calificaciones (numero):\n",
    "    lista_calificaciones = []\n",
    "    i = 1\n",
    "\n",
    "    while i<=numero:\n",
    "        calificacion = float(input(f'Solicita la calificacion {i}'))\n",
    "        lista_calificaciones.append(calificacion)\n",
    "        i+=1\n",
    "\n",
    "        return lista_calificaciones"
   ]
  },
  {
   "cell_type": "code",
   "execution_count": 36,
   "id": "f81e447f",
   "metadata": {},
   "outputs": [
    {
     "ename": "NameError",
     "evalue": "name 'guardar_calificaciones' is not defined",
     "output_type": "error",
     "traceback": [
      "\u001b[31m---------------------------------------------------------------------------\u001b[39m",
      "\u001b[31mNameError\u001b[39m                                 Traceback (most recent call last)",
      "\u001b[36mCell\u001b[39m\u001b[36m \u001b[39m\u001b[32mIn[36]\u001b[39m\u001b[32m, line 1\u001b[39m\n\u001b[32m----> \u001b[39m\u001b[32m1\u001b[39m lista = \u001b[43mguardar_calificaciones\u001b[49m(\u001b[32m5\u001b[39m)\n\u001b[32m      2\u001b[39m \u001b[38;5;28mprint\u001b[39m(lista)\n",
      "\u001b[31mNameError\u001b[39m: name 'guardar_calificaciones' is not defined"
     ]
    }
   ],
   "source": [
    "lista = guardar_calificaciones(5)\n",
    "print(lista)"
   ]
  }
 ],
 "metadata": {
  "kernelspec": {
   "display_name": "Python 3",
   "language": "python",
   "name": "python3"
  },
  "language_info": {
   "codemirror_mode": {
    "name": "ipython",
    "version": 3
   },
   "file_extension": ".py",
   "mimetype": "text/x-python",
   "name": "python",
   "nbconvert_exporter": "python",
   "pygments_lexer": "ipython3",
   "version": "3.13.5"
  }
 },
 "nbformat": 4,
 "nbformat_minor": 5
}
