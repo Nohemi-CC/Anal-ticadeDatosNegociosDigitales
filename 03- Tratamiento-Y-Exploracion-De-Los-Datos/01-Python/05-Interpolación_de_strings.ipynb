{
 "cells": [
  {
   "cell_type": "markdown",
   "id": "523efa65",
   "metadata": {},
   "source": [
    "## Interpolacion \n",
    "\n",
    "### Objetivos\n",
    "    - Aprender a imprimir string\n",
    "    - Aprender a interpolar variables dentro de strings\n",
    "\n",
    "---\n",
    "\n",
    "### Desarrollo:"
   ]
  },
  {
   "cell_type": "markdown",
   "id": "df0b108c",
   "metadata": {},
   "source": [
    "Podemos hacer anotaciones en outputs de nuestro codigo de esta manera:"
   ]
  },
  {
   "cell_type": "code",
   "execution_count": 2,
   "id": "0da198b0",
   "metadata": {},
   "outputs": [
    {
     "name": "stdout",
     "output_type": "stream",
     "text": [
      "Suma de var_1 y var_2\n",
      "38.7\n"
     ]
    }
   ],
   "source": [
    "var_1 = 15.3\n",
    "var_2 = 23.4\n",
    "\n",
    "print(\"Suma de var_1 y var_2\")\n",
    "print( var_1 + var_2 )"
   ]
  },
  {
   "cell_type": "markdown",
   "id": "57201850",
   "metadata": {},
   "source": [
    "Pero a veces resulta necesario o deseable interpolar el valor de la variable dentro de dicho string. Para esto utilizaremos las llamadas `f-strings`. El formato de una `f-strings` es el siguiente:\n",
    "\n",
    "`f\"Esto es texto {esto_es_una_variable} esto es mas que texto\"`\n",
    "\n",
    "Escribiendo una `f` antes de las comillas le indicamos a Python que lo que pongas dentro de las llaves (`{}`) sera código de Python. En este caso, una variable asignada previamente.\n",
    "\n",
    "Ahora podemos hacer lo siguiente:"
   ]
  },
  {
   "cell_type": "code",
   "execution_count": 4,
   "id": "5a8817d5",
   "metadata": {},
   "outputs": [
    {
     "name": "stdout",
     "output_type": "stream",
     "text": [
      "La suma 67.3\n"
     ]
    }
   ],
   "source": [
    "var_3 = 43\n",
    "var_4 = 24.3\n",
    "\n",
    "suma = var_3 + var_4 \n",
    "print(f'La suma { suma }')"
   ]
  },
  {
   "cell_type": "code",
   "execution_count": 6,
   "id": "a0ea9b4f",
   "metadata": {},
   "outputs": [
    {
     "name": "stdout",
     "output_type": "stream",
     "text": [
      "El nombre del Programa es: nombre del programa y la suma de los valores 1.0 + 2.0 es: 3.0\n"
     ]
    }
   ],
   "source": [
    "nombre_programa = input('Introduce el Nombre del Programa')\n",
    "var_3 = float(input('Introduce el primer valor'))\n",
    "var_4 = float(input('Introduce el segundo valor'))\n",
    "\n",
    "suma = var_3 + var_4 \n",
    "\n",
    "print(f'El nombre del Programa es: {nombre_programa} y la suma de los valores {var_3} + {var_4} es: {suma}')"
   ]
  },
  {
   "cell_type": "code",
   "execution_count": 4,
   "id": "f04d9704",
   "metadata": {},
   "outputs": [],
   "source": [
    "def sumar(numero_1, numero_2): \n",
    "    return numero_1 + numero_2\n"
   ]
  },
  {
   "cell_type": "code",
   "execution_count": 2,
   "id": "7af1dba2",
   "metadata": {},
   "outputs": [],
   "source": [
    "def solicitarValor():\n",
    "    return float(input('Introduce el segundo valor'))"
   ]
  },
  {
   "cell_type": "code",
   "execution_count": 5,
   "id": "9caffe2c",
   "metadata": {},
   "outputs": [
    {
     "name": "stdout",
     "output_type": "stream",
     "text": [
      "9.0\n"
     ]
    }
   ],
   "source": [
    "var_3 = solicitarValor()\n",
    "var_4 = solicitarValor()\n",
    "\n",
    "suma = sumar(var_3, var_4)\n",
    "\n",
    "print(suma) "
   ]
  },
  {
   "cell_type": "code",
   "execution_count": 7,
   "id": "afba4b1f",
   "metadata": {},
   "outputs": [
    {
     "name": "stdout",
     "output_type": "stream",
     "text": [
      "8.0\n"
     ]
    }
   ],
   "source": [
    "def solicitarValor():\n",
    "    return float(input('Introduce el segundo valor'))\n",
    "var_3 = solicitarValor()\n",
    "var_4 = solicitarValor()\n",
    "\n",
    "suma = sumar(var_3, var_4)\n",
    "\n",
    "print(suma) "
   ]
  },
  {
   "cell_type": "code",
   "execution_count": 8,
   "id": "139513f9",
   "metadata": {},
   "outputs": [],
   "source": [
    "xx =10"
   ]
  },
  {
   "cell_type": "code",
   "execution_count": 9,
   "id": "4083ae95",
   "metadata": {},
   "outputs": [
    {
     "name": "stdout",
     "output_type": "stream",
     "text": [
      "10\n"
     ]
    }
   ],
   "source": [
    "print(xx)"
   ]
  }
 ],
 "metadata": {
  "kernelspec": {
   "display_name": "Python 3",
   "language": "python",
   "name": "python3"
  },
  "language_info": {
   "codemirror_mode": {
    "name": "ipython",
    "version": 3
   },
   "file_extension": ".py",
   "mimetype": "text/x-python",
   "name": "python",
   "nbconvert_exporter": "python",
   "pygments_lexer": "ipython3",
   "version": "3.13.5"
  }
 },
 "nbformat": 4,
 "nbformat_minor": 5
}
